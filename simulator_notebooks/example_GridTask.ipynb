{
 "cells": [
  {
   "cell_type": "code",
   "execution_count": 1,
   "metadata": {},
   "outputs": [],
   "source": [
    "%load_ext autoreload\n",
    "%autoreload 2\n",
    "\n",
    "import numpy as np\n",
    "\n",
    "\n",
    "import sys\n",
    "sys.path.append('../utils/plotting/')\n",
    "sys.path.append('../utils/simulation/')\n",
    "sys.path.append('../utils/recalibration/')\n",
    "sys.path.append('../utils/preprocessing/')\n",
    "from plotting_utils import figSize\n",
    "from hmm import HMMRecalibration\n",
    "from hmm_utils import *\n",
    "from simulation import *\n",
    "from simulation_utils import * \n",
    "\n",
    "\n",
    "# for a reproducible result\n",
    "np.random.seed(1)\n"
   ]
  },
  {
   "cell_type": "markdown",
   "metadata": {},
   "source": [
    "#### Define an initial decoder and initial neural tuning properties (mean firing rates and preferred directions).\n"
   ]
  },
  {
   "cell_type": "code",
   "execution_count": 2,
   "metadata": {},
   "outputs": [],
   "source": [
    "'''The first column of initialTuning is the means, and the second two columns are the preferred directions. \n",
    "We make sure that the last two columns are orthogonal (uniformly distributed PDs) \n",
    "and that the tuning strength is set to 1 (norm of the column is 1). '''\n",
    "\n",
    "'''The following is a really simple way to build a linear decoder based on the above tuning properties. \n",
    "First we define some velocity vectors (calVelocity), then simulate neural tuning to those vectors (calNeural),\n",
    "and finally use ordinary least squares regression to find a decoder (D) that predicts calVelocity from calNeural. '''\n",
    "\n",
    "from sklearn.linear_model import LinearRegression\n",
    "\n",
    "nUnits          = 192\n",
    "SNR             = 1\n",
    "nTrainingSteps  = 10000\n",
    "\n",
    "initialTuning          = generateUnits(n_units = nUnits, SNR = SNR)\n",
    "calNeural, calVelocity = simulateUnitActivity(initialTuning, noise = 0.3, nSteps= nTrainingSteps)\n",
    "lr                     = LinearRegression(fit_intercept = True).fit(calNeural, calVelocity)\n",
    "\n",
    "D                      = np.hstack([lr.intercept_[:, np.newaxis], lr.coef_]).T\n",
    "\n",
    "# Normalize the gain of this decoder so that it will output vectors with a magnitude of 1 when the encoded velocity has a magnitude of 1. \n",
    "D[:, 0] = D[:,0] / np.linalg.norm(D[1:, :][:, 0]) / np.linalg.norm(initialTuning[:, 1])\n",
    "D[:, 1] = D[:,1] / np.linalg.norm(D[1:, :][:, 1]) / np.linalg.norm(initialTuning[:, 2])\n",
    "\n",
    "\n"
   ]
  },
  {
   "cell_type": "code",
   "execution_count": 3,
   "metadata": {},
   "outputs": [],
   "source": [
    "'''Here we define the amount of exponential smoothing used in the decoder (alpha). Values between 0.9 and 0.96 are pretty reasonable. See the paper\n",
    "'A comparison of intention estimation methods for decoder calibration in intracortical brain-computer interfaces' for an explanation of how velocity Kalman \n",
    "filters can be parameterized with a smoothing parameter (alpha), gain parameter (beta, see next section below) and decoding matrix (D). '''\n",
    "\n",
    "cfg = dict()\n",
    "cfg['neuralTuning'] = initialTuning\n",
    "cfg['D']            = D\n",
    "cfg['alpha']        = 0.94\n",
    "cfg['nDelaySteps']  = 10     # define the simulated user's visual feedback delay (200 ms)\n",
    "cfg['delT']         = 0.02   # define the time step (10 ms)\n",
    "cfg['nSimSteps']    = 5000  "
   ]
  },
  {
   "cell_type": "markdown",
   "metadata": {},
   "source": [
    "### Do a quick sweep of cursor gains to find the optimal one for this task.\n",
    "\n",
    "This is really important so that any new recalibration algorithm doesn't improve performance simply by coincidence,\n",
    "via randomly changing the gain to some better value."
   ]
  },
  {
   "cell_type": "code",
   "execution_count": 4,
   "metadata": {},
   "outputs": [
    {
     "name": "stdout",
     "output_type": "stream",
     "text": [
      "0 / 10\n"
     ]
    },
    {
     "name": "stderr",
     "output_type": "stream",
     "text": [
      "/home/users/ghwilson/projects/nonstationarities/simulator_notebooks/../utils/simulation/simulation.py:211: NumbaPerformanceWarning: np.dot() is faster on contiguous arrays, called on (array(float64, 2d, A), array(float64, 2d, C))\n",
      "  simAct  = getNeuralTuning(currControl, decode_params)\n",
      "/home/users/ghwilson/projects/nonstationarities/simulator_notebooks/../utils/simulation/simulation.py:214: NumbaPerformanceWarning: np.dot() is faster on contiguous arrays, called on (array(float64, 2d, A), array(float64, 2d, C))\n",
      "  rawDecVec = getDecodedControl(simAct, decode_params)\n"
     ]
    },
    {
     "name": "stdout",
     "output_type": "stream",
     "text": [
      "1 / 10\n",
      "2 / 10\n",
      "3 / 10\n",
      "4 / 10\n",
      "5 / 10\n",
      "6 / 10\n",
      "7 / 10\n",
      "8 / 10\n",
      "9 / 10\n"
     ]
    },
    {
     "name": "stderr",
     "output_type": "stream",
     "text": [
      "findfont: Font family 'Arial' not found.\n",
      "findfont: Font family 'Arial' not found.\n",
      "findfont: Font family 'Arial' not found.\n",
      "findfont: Font family 'Arial' not found.\n",
      "findfont: Font family 'Arial' not found.\n",
      "findfont: Font family 'Arial' not found.\n",
      "findfont: Font family 'Arial' not found.\n",
      "findfont: Font family 'Arial' not found.\n",
      "findfont: Font family 'Arial' not found.\n",
      "findfont: Font family 'Arial' not found.\n",
      "findfont: Font family 'Arial' not found.\n",
      "findfont: Font family 'Arial' not found.\n",
      "findfont: Font family 'Arial' not found.\n",
      "findfont: Font family 'Arial' not found.\n",
      "findfont: Font family 'Arial' not found.\n",
      "findfont: Font family 'Arial' not found.\n",
      "findfont: Font family 'Arial' not found.\n",
      "findfont: Font family 'Arial' not found.\n",
      "findfont: Font family 'Arial' not found.\n",
      "findfont: Font family 'Arial' not found.\n",
      "findfont: Font family 'Arial' not found.\n",
      "findfont: Font family 'Arial' not found.\n",
      "findfont: Font family 'Arial' not found.\n",
      "findfont: Font family 'Arial' not found.\n",
      "findfont: Font family 'Arial' not found.\n",
      "findfont: Font family 'Arial' not found.\n",
      "findfont: Font family 'Arial' not found.\n",
      "findfont: Font family 'Arial' not found.\n",
      "findfont: Font family 'Arial' not found.\n",
      "findfont: Font family 'Arial' not found.\n",
      "findfont: Font family 'Arial' not found.\n",
      "findfont: Font family 'Arial' not found.\n",
      "findfont: Font family 'Arial' not found.\n",
      "findfont: Font family 'Arial' not found.\n",
      "findfont: Font family 'Arial' not found.\n",
      "findfont: Font family 'Arial' not found.\n",
      "findfont: Font family 'Arial' not found.\n",
      "findfont: Font family 'Arial' not found.\n",
      "findfont: Font family 'Arial' not found.\n",
      "findfont: Font family 'Arial' not found.\n",
      "findfont: Font family 'Arial' not found.\n",
      "findfont: Font family 'Arial' not found.\n",
      "findfont: Font family 'Arial' not found.\n",
      "findfont: Font family 'Arial' not found.\n",
      "findfont: Font family 'Arial' not found.\n"
     ]
    },
    {
     "data": {
      "image/png": "[encoded data removed]",
      "text/plain": [
       "<Figure size 432x288 with 1 Axes>"
      ]
     },
     "metadata": {
      "needs_background": "light"
     },
     "output_type": "display_data"
    },
    {
     "ename": "NameError",
     "evalue": "name 'beta' is not defined",
     "output_type": "error",
     "traceback": [
      "\u001b[0;31m---------------------------------------------------------------------------\u001b[0m",
      "\u001b[0;31mNameError\u001b[0m                                 Traceback (most recent call last)",
      "\u001b[0;32m/tmp/ipykernel_58811/3789429494.py\u001b[0m in \u001b[0;36m<module>\u001b[0;34m\u001b[0m\n\u001b[1;32m     37\u001b[0m \u001b[0mcfg\u001b[0m\u001b[0;34m[\u001b[0m\u001b[0;34m'beta'\u001b[0m\u001b[0;34m]\u001b[0m \u001b[0;34m=\u001b[0m \u001b[0mpossibleGain\u001b[0m\u001b[0;34m[\u001b[0m\u001b[0mminIdx\u001b[0m\u001b[0;34m]\u001b[0m\u001b[0;34m\u001b[0m\u001b[0;34m\u001b[0m\u001b[0m\n\u001b[1;32m     38\u001b[0m \u001b[0;34m\u001b[0m\u001b[0m\n\u001b[0;32m---> 39\u001b[0;31m \u001b[0mprint\u001b[0m\u001b[0;34m(\u001b[0m\u001b[0;34m'Using gain value beta = '\u001b[0m\u001b[0;34m,\u001b[0m \u001b[0mbeta\u001b[0m\u001b[0;34m)\u001b[0m\u001b[0;34m\u001b[0m\u001b[0;34m\u001b[0m\u001b[0m\n\u001b[0m",
      "\u001b[0;31mNameError\u001b[0m: name 'beta' is not defined"
     ]
    }
   ],
   "source": [
    "'''\n",
    "The task we are simulating is a fitts style task where targets randomly\n",
    "appear within a box centered at the origin. To acquire the target, the\n",
    "user must hold the cursor on top of the target for half a second. The\n",
    "performance metric of interest is the average total trial time (TTT), or\n",
    "the average amount of time it takes to reach to and fully hold on a target. \n",
    "\n",
    "The 'simulateBCIFitts' does all the work of simulating the BCI user, the\n",
    "neural activity, and the decoder. It returns time series data you can use\n",
    "to see the cursor trajectory and target locations (posTraj & velTraj are\n",
    "the cursor positions and velocities, rawDecTraj is the raw decoded\n",
    "velocity vectors before they are smoothed, conTraj is the user's internal\n",
    "control vector, targTraj is a time series of target locations, neuralTraj\n",
    "is a time series of neural activity, trialStart contains the time step on\n",
    "which each trial started, and ttt has the trial time (in seconds) for each\n",
    "trial. '''\n",
    "\n",
    "import matplotlib.pyplot as plt \n",
    "figSize(5,5)\n",
    "\n",
    "possibleGain = np.linspace(0.5,2.5,10)\n",
    "meanTTT      = np.zeros((len(possibleGain),))\n",
    "\n",
    "for g in range(len(possibleGain)):\n",
    "    print(str(g) + ' / ' + str(len(possibleGain)))\n",
    "    cfg['beta'] = possibleGain[g]\n",
    "    result      = simulateBCIFitts(cfg)\n",
    "    meanTTT[g]  = np.mean(result['ttt'])\n",
    "\n",
    "plt.figure()\n",
    "plt.plot(possibleGain, meanTTT, '-o')\n",
    "plt.xlabel('Gain')\n",
    "plt.ylabel('Mean Trial Time (s)')\n",
    "plt.show()\n",
    "\n",
    "minIdx      = np.argmin(meanTTT)\n",
    "cfg['beta'] = possibleGain[minIdx]\n",
    "\n",
    "print('Using gain value beta = ', cfg['beta'])\n"
   ]
  },
  {
   "cell_type": "code",
   "execution_count": 81,
   "metadata": {},
   "outputs": [],
   "source": [
    "import numba\n",
    "from numba import jit \n",
    "\n",
    "\n",
    "@jit(nopython=True)\n",
    "def meshgrid(x, y):\n",
    "    positions = np.empty(shape=(2, len(x) * len(y)), dtype=x.dtype)\n",
    "    i = 0\n",
    "    for j in range(y.size):\n",
    "        for k in range(x.size):\n",
    "            positions[0,i] = x[k]  # change to x[k] if indexing xy\n",
    "            positions[1,i] = y[j]\n",
    "            i = i + 1\n",
    "            \n",
    "    return positions\n",
    "    "
   ]
  },
  {
   "cell_type": "code",
   "execution_count": 82,
   "metadata": {},
   "outputs": [
    {
     "data": {
      "text/plain": [
       "<matplotlib.collections.PathCollection at 0x7f2b2199d910>"
      ]
     },
     "execution_count": 82,
     "metadata": {},
     "output_type": "execute_result"
    },
    {
     "name": "stderr",
     "output_type": "stream",
     "text": [
      "findfont: Font family 'Arial' not found.\n",
      "findfont: Font family 'Arial' not found.\n",
      "findfont: Font family 'Arial' not found.\n",
      "findfont: Font family 'Arial' not found.\n",
      "findfont: Font family 'Arial' not found.\n",
      "findfont: Font family 'Arial' not found.\n",
      "findfont: Font family 'Arial' not found.\n",
      "findfont: Font family 'Arial' not found.\n",
      "findfont: Font family 'Arial' not found.\n",
      "findfont: Font family 'Arial' not found.\n",
      "findfont: Font family 'Arial' not found.\n",
      "findfont: Font family 'Arial' not found.\n",
      "findfont: Font family 'Arial' not found.\n",
      "findfont: Font family 'Arial' not found.\n",
      "findfont: Font family 'Arial' not found.\n",
      "findfont: Font family 'Arial' not found.\n",
      "findfont: Font family 'Arial' not found.\n",
      "findfont: Font family 'Arial' not found.\n",
      "findfont: Font family 'Arial' not found.\n",
      "findfont: Font family 'Arial' not found.\n",
      "findfont: Font family 'Arial' not found.\n",
      "findfont: Font family 'Arial' not found.\n",
      "findfont: Font family 'Arial' not found.\n",
      "findfont: Font family 'Arial' not found.\n",
      "findfont: Font family 'Arial' not found.\n",
      "findfont: Font family 'Arial' not found.\n",
      "findfont: Font family 'Arial' not found.\n",
      "findfont: Font family 'Arial' not found.\n",
      "findfont: Font family 'Arial' not found.\n",
      "findfont: Font family 'Arial' not found.\n",
      "findfont: Font family 'Arial' not found.\n",
      "findfont: Font family 'Arial' not found.\n"
     ]
    },
    {
     "data": {
      "image/png": "[encoded data removed]",
      "text/plain": [
       "<Figure size 432x288 with 1 Axes>"
      ]
     },
     "metadata": {
      "needs_background": "light"
     },
     "output_type": "display_data"
    }
   ],
   "source": [
    "\n",
    "n_squares = 8 # 8 x 8 target layout \n",
    "width     = 1 / n_squares\n",
    "\n",
    "gridpoints = np.linspace(-0.5 + width/2, 0.5 - width/2, n_squares)\n",
    "positions  = meshgrid(gridpoints, gridpoints)\n",
    "\n",
    "plt.scatter(positions[0, :], positions[1, :])"
   ]
  },
  {
   "cell_type": "code",
   "execution_count": 84,
   "metadata": {},
   "outputs": [],
   "source": [
    "cfg['nSimSteps'] = 10000\n",
    "\n",
    "results = simulateBCIFitts(cfg) "
   ]
  },
  {
   "cell_type": "code",
   "execution_count": null,
   "metadata": {},
   "outputs": [],
   "source": []
  },
  {
   "cell_type": "code",
   "execution_count": 311,
   "metadata": {},
   "outputs": [
    {
     "name": "stdout",
     "output_type": "stream",
     "text": [
      "With a matched, optimized decoder, mean trial time is  1.0197938144329897  s\n",
      "With changed tuning and a mismatched decoder, the mean trial time is  1.6832758620689654  s\n",
      "Control: With changed tuning and a mismatched decoder with restored gain, the mean trial time is  2.08  s\n"
     ]
    }
   ],
   "source": [
    "import copy \n",
    "\n",
    "# Simulate BCI performance with matched neural tuning and decoder, and an optimized gain\n",
    "cfg['nSimSteps'] = 10000\n",
    "shrinkage        = 0.4\n",
    "\n",
    "results = simulateBCIFitts(cfg) \n",
    "                                                                                    \n",
    "print('With a matched, optimized decoder, mean trial time is ', np.mean(results['ttt']), ' s')\n",
    "\n",
    "# Simulate a change in neural tuning (specifically, change the PDs only, making sure the total magnitude of tuning is the same)\n",
    "cfg['neuralTuning'] = simulateTuningShift(initialTuning, PD_shrinkage = shrinkage, renormalize = True)\n",
    "\n",
    "results_new = simulateBCIFitts(cfg)\n",
    "print('With changed tuning and a mismatched decoder, the mean trial time is ', np.mean(results_new['ttt']), ' s')\n",
    "\n",
    "'''\n",
    "This change in PDs effectively decrease the gain of the decoder, since the\n",
    "tuning strength in the decoder subspace has decreased (factor of 0.3).\n",
    "Here, we do a control to confirm that performance can't be restored simply\n",
    "by increasing the gain by (1/0.3) and using the original decoder subspace.\n",
    "'''\n",
    "\n",
    "cfg_control          = copy.deepcopy(cfg)\n",
    "cfg_control['beta'] /= shrinkage\n",
    "results_control      = simulateBCIFitts(cfg_control)\n",
    "\n",
    "print('Control: With changed tuning and a mismatched decoder with restored gain, the mean trial time is ', \n",
    "      np.mean(results_control['ttt']), ' s')\n"
   ]
  },
  {
   "cell_type": "code",
   "execution_count": 314,
   "metadata": {
    "collapsed": true
   },
   "outputs": [],
   "source": [
    "def normalizeDecoderGain(D, decPosErr, posErr, farThresh = 0.4, weights = None):\n",
    "    '''Inputs are:\n",
    "    \n",
    "        D (2D float array)      - (channels + 1) x 2 array of decoder weights \n",
    "        posErr (2D float array) - nSamples x 2 array of displacement vectors (from target)\n",
    "        weights (1D array)      - nSamples array of importance weights for each sample \n",
    "                                  (default: weight equally)\n",
    "    '''\n",
    "    \n",
    "    assert (decPosErr.shape == posErr.shape), \"Predicted and inferred displacement must be same shape\"\n",
    "    \n",
    "    if weights is None:\n",
    "        weights = np.ones((decPosErr.shape[0],))\n",
    "    \n",
    "    targDist = np.linalg.norm(posErr, axis = 1)\n",
    "    targDir  = posErr / targDist[:, np.newaxis]\n",
    "    farIdx   = np.where(targDist > farThresh)[0]\n",
    "    \n",
    "    \n",
    "    projVec  = np.multiply(decPosErr, targDir)\n",
    "    projVec *= weights[:, None] \n",
    "    \n",
    "    projMag = np.sum(projVec, axis = 1)\n",
    "    projMag = np.multiply(weights, projMag)\n",
    "    \n",
    "    meanMag  = np.sum(projMag[farIdx]) / np.sum(weights[farIdx])\n",
    "        \n",
    "    D_new    = D / meanMag\n",
    "\n",
    "    return D_new\n",
    "    \n",
    "    "
   ]
  },
  {
   "cell_type": "code",
   "execution_count": null,
   "metadata": {
    "collapsed": true
   },
   "outputs": [],
   "source": []
  }
 ],
 "metadata": {
  "kernelspec": {
   "display_name": "Nonstationarities (3.9)",
   "language": "python",
   "name": "nonstationarities"
  },
  "language_info": {
   "codemirror_mode": {
    "name": "ipython",
    "version": 3
   },
   "file_extension": ".py",
   "mimetype": "text/x-python",
   "name": "python",
   "nbconvert_exporter": "python",
   "pygments_lexer": "ipython3",
   "version": "3.9.15"
  }
 },
 "nbformat": 4,
 "nbformat_minor": 4
}
