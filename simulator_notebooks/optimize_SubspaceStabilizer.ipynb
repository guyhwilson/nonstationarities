{
 "cells": [
  {
   "cell_type": "code",
   "execution_count": 26,
   "metadata": {},
   "outputs": [
    {
     "name": "stdout",
     "output_type": "stream",
     "text": [
      "The autoreload extension is already loaded. To reload it, use:\n",
      "  %reload_ext autoreload\n"
     ]
    }
   ],
   "source": [
    "%load_ext autoreload\n",
    "%autoreload 2\n",
    "\n",
    "import numpy as np\n",
    "import sys, glob, copy\n",
    "[sys.path.append(f) for f in glob.glob('../utils/*')]\n",
    "from plotting_utils import figSize\n",
    "from simulation import simulateBCIFitts\n",
    "import simulation_utils\n",
    "\n",
    "import stabilizer_utils\n",
    "from stabilizer_utils import Stabilizer\n",
    "\n",
    "from sklearn.linear_model import LinearRegression\n",
    "\n",
    "# for a reproducible result\n",
    "np.random.seed(1)"
   ]
  },
  {
   "cell_type": "markdown",
   "metadata": {},
   "source": [
    "### Do a sweep of subspace stabilizer hyperparameters\n",
    "\n",
    "Find optimal values for $d$ (latent dimensionality), $B$ (number of channels), and threshold."
   ]
  },
  {
   "cell_type": "code",
   "execution_count": 73,
   "metadata": {
    "collapsed": true
   },
   "outputs": [],
   "source": [
    "def testStabilizer(args, shrinkage, n_sessions):\n",
    "    \n",
    "    # run OL \n",
    "    test_cfg, decoder_dict, stab = simulation_utils.initializeBCI(args)\n",
    "    new_cfg                      = copy.deepcopy(test_cfg)\n",
    "    \n",
    "    # introduce nonstationarity\n",
    "    for i in range(n_sessions):\n",
    "        new_cfg['neuralTuning'] = simulation_utils.simulateTuningShift(new_cfg['neuralTuning'], n_stable = 100,\n",
    "                                                                   PD_shrinkage = shrinkage, \n",
    "                                                                   renormalize = simulation_utils.sampleSNR())\n",
    "        # run in CL, perform stabilizer recalibration\n",
    "        new_cfg['D'] = simulation_utils.simulate_LatentClosedLoopRecalibration(new_cfg, decoder_dict, stab, args)\n",
    "    \n",
    "    # measure updated performance\n",
    "    ttt          = np.mean(simulateBCIFitts(new_cfg)['ttt'])\n",
    "     \n",
    "    return ttt"
   ]
  },
  {
   "cell_type": "code",
   "execution_count": 74,
   "metadata": {},
   "outputs": [
    {
     "name": "stdout",
     "output_type": "stream",
     "text": [
      "48  sweeps x 10  reps/sweep =  480\n"
     ]
    }
   ],
   "source": [
    "import stabilizer_utils, sweep_utils \n",
    "from stabilizer_utils import Stabilizer\n",
    "from joblib import Parallel, delayed\n",
    "import copy\n",
    "\n",
    "\n",
    "base_cfg   = dict()  # unchanging parameters for simulator\n",
    "base_opts  = dict()  # unchanging parameters\n",
    "sweep_opts = dict()  # stabilizer sweep settings\n",
    "\n",
    "base_opts['alpha']          = 0.94 # amount of exponential smoothing (0.9 to 0.96 are reasonable)\n",
    "base_opts['delT']           = 0.02 # define the time step (20 ms)\n",
    "base_opts['nDelaySteps']    = 10   # define the simulated user's visual feedback delay (200 ms)\n",
    "base_opts['nSimSteps']      = 10000\n",
    "base_opts['nUnits']         = 192\n",
    "base_opts['SNR']            = 0.5\n",
    "base_opts['possibleGain']   = np.linspace(0.1,2.5,10)\n",
    "base_opts['center_means']   = True\n",
    "base_opts['nTrainingSteps'] = 10000\n",
    "base_opts['model_type']    = 'FactorAnalysis'\n",
    "\n",
    "sweep_opts['thresh']       = [0.001, 0.01, 0.05, 0.1, 0.5]\n",
    "sweep_opts['n_components'] = np.arange(2, 10)\n",
    "sweep_opts['B']            = np.arange(10, 191, 30)\n",
    "\n",
    "sweep_opts['thresh']       = [ 0.01, 0.05, 0.1, 0.5]\n",
    "sweep_opts['n_components'] = np.arange(2, 6)\n",
    "sweep_opts['B']            = np.arange(50, 191, 50)\n",
    "\n",
    "\n",
    "shrinkage   = 0.90\n",
    "n_sessions  = 10\n",
    "nReps       = 10\n",
    "\n",
    "#--------------------------------------------------\n",
    "args_sweep   = sweep_utils.generateArgs(sweep_opts, base_opts)\n",
    "sweep_scores = np.zeros((len(args_sweep), nReps))\n",
    "print(len(args_sweep), ' sweeps x', nReps, ' reps/sweep = ', len(args_sweep) * nReps)"
   ]
  },
  {
   "cell_type": "code",
   "execution_count": 75,
   "metadata": {},
   "outputs": [
    {
     "name": "stderr",
     "output_type": "stream",
     "text": [
      "[Parallel(n_jobs=-1)]: Using backend LokyBackend with 20 concurrent workers.\n",
      "[Parallel(n_jobs=-1)]: Done   1 tasks      | elapsed:   23.0s\n",
      "[Parallel(n_jobs=-1)]: Done   2 tasks      | elapsed:   23.3s\n",
      "[Parallel(n_jobs=-1)]: Done   3 tasks      | elapsed:   23.3s\n",
      "[Parallel(n_jobs=-1)]: Done   4 tasks      | elapsed:   23.5s\n",
      "[Parallel(n_jobs=-1)]: Done   5 tasks      | elapsed:   23.6s\n",
      "[Parallel(n_jobs=-1)]: Done   6 tasks      | elapsed:   23.6s\n",
      "[Parallel(n_jobs=-1)]: Done   7 tasks      | elapsed:   23.7s\n",
      "[Parallel(n_jobs=-1)]: Done   8 tasks      | elapsed:   23.7s\n",
      "[Parallel(n_jobs=-1)]: Done   9 tasks      | elapsed:   23.7s\n",
      "[Parallel(n_jobs=-1)]: Done  14 out of  48 | elapsed:   23.9s remaining:   58.0s\n",
      "[Parallel(n_jobs=-1)]: Done  19 out of  48 | elapsed:   27.7s remaining:   42.2s\n",
      "[Parallel(n_jobs=-1)]: Done  24 out of  48 | elapsed:   33.4s remaining:   33.4s\n",
      "[Parallel(n_jobs=-1)]: Done  29 out of  48 | elapsed:   33.7s remaining:   22.1s\n",
      "[Parallel(n_jobs=-1)]: Done  34 out of  48 | elapsed:   34.0s remaining:   14.0s\n",
      "[Parallel(n_jobs=-1)]: Done  39 out of  48 | elapsed:   37.3s remaining:    8.6s\n",
      "[Parallel(n_jobs=-1)]: Done  44 out of  48 | elapsed:   42.8s remaining:    3.9s\n",
      "[Parallel(n_jobs=-1)]: Done  48 out of  48 | elapsed:   43.5s finished\n",
      "[Parallel(n_jobs=-1)]: Using backend LokyBackend with 20 concurrent workers.\n"
     ]
    },
    {
     "name": "stdout",
     "output_type": "stream",
     "text": [
      "1 / 10\n"
     ]
    },
    {
     "name": "stderr",
     "output_type": "stream",
     "text": [
      "[Parallel(n_jobs=-1)]: Done   1 tasks      | elapsed:    9.2s\n",
      "[Parallel(n_jobs=-1)]: Done   2 tasks      | elapsed:    9.3s\n",
      "[Parallel(n_jobs=-1)]: Done   3 tasks      | elapsed:    9.4s\n",
      "[Parallel(n_jobs=-1)]: Done   4 tasks      | elapsed:    9.5s\n",
      "[Parallel(n_jobs=-1)]: Done   5 tasks      | elapsed:    9.7s\n",
      "[Parallel(n_jobs=-1)]: Done   6 tasks      | elapsed:    9.7s\n",
      "[Parallel(n_jobs=-1)]: Done   7 tasks      | elapsed:    9.7s\n",
      "[Parallel(n_jobs=-1)]: Done   8 tasks      | elapsed:    9.7s\n",
      "[Parallel(n_jobs=-1)]: Done   9 tasks      | elapsed:    9.8s\n",
      "[Parallel(n_jobs=-1)]: Done  14 out of  48 | elapsed:   12.7s remaining:   30.8s\n",
      "[Parallel(n_jobs=-1)]: Done  19 out of  48 | elapsed:   15.9s remaining:   24.3s\n",
      "[Parallel(n_jobs=-1)]: Done  24 out of  48 | elapsed:   19.2s remaining:   19.2s\n",
      "[Parallel(n_jobs=-1)]: Done  29 out of  48 | elapsed:   19.8s remaining:   12.9s\n",
      "[Parallel(n_jobs=-1)]: Done  34 out of  48 | elapsed:   22.1s remaining:    9.1s\n",
      "[Parallel(n_jobs=-1)]: Done  39 out of  48 | elapsed:   28.8s remaining:    6.6s\n",
      "[Parallel(n_jobs=-1)]: Done  44 out of  48 | elapsed:   29.2s remaining:    2.7s\n",
      "[Parallel(n_jobs=-1)]: Done  48 out of  48 | elapsed:   29.6s finished\n",
      "[Parallel(n_jobs=-1)]: Using backend LokyBackend with 20 concurrent workers.\n"
     ]
    },
    {
     "name": "stdout",
     "output_type": "stream",
     "text": [
      "2 / 10\n"
     ]
    },
    {
     "name": "stderr",
     "output_type": "stream",
     "text": [
      "[Parallel(n_jobs=-1)]: Done   1 tasks      | elapsed:    9.4s\n",
      "[Parallel(n_jobs=-1)]: Done   2 tasks      | elapsed:    9.5s\n",
      "[Parallel(n_jobs=-1)]: Done   3 tasks      | elapsed:    9.5s\n",
      "[Parallel(n_jobs=-1)]: Done   4 tasks      | elapsed:    9.7s\n",
      "[Parallel(n_jobs=-1)]: Done   5 tasks      | elapsed:    9.7s\n",
      "[Parallel(n_jobs=-1)]: Done   6 tasks      | elapsed:    9.7s\n",
      "[Parallel(n_jobs=-1)]: Done   7 tasks      | elapsed:    9.8s\n",
      "[Parallel(n_jobs=-1)]: Done   8 tasks      | elapsed:    9.9s\n",
      "[Parallel(n_jobs=-1)]: Done   9 tasks      | elapsed:    9.9s\n",
      "[Parallel(n_jobs=-1)]: Done  14 out of  48 | elapsed:   10.2s remaining:   24.8s\n",
      "[Parallel(n_jobs=-1)]: Done  19 out of  48 | elapsed:   14.1s remaining:   21.6s\n",
      "[Parallel(n_jobs=-1)]: Done  24 out of  48 | elapsed:   19.3s remaining:   19.3s\n",
      "[Parallel(n_jobs=-1)]: Done  29 out of  48 | elapsed:   19.6s remaining:   12.8s\n",
      "[Parallel(n_jobs=-1)]: Done  34 out of  48 | elapsed:   20.1s remaining:    8.3s\n",
      "[Parallel(n_jobs=-1)]: Done  39 out of  48 | elapsed:   28.0s remaining:    6.5s\n",
      "[Parallel(n_jobs=-1)]: Done  44 out of  48 | elapsed:   28.9s remaining:    2.6s\n",
      "[Parallel(n_jobs=-1)]: Done  48 out of  48 | elapsed:   29.5s finished\n",
      "[Parallel(n_jobs=-1)]: Using backend LokyBackend with 20 concurrent workers.\n"
     ]
    },
    {
     "name": "stdout",
     "output_type": "stream",
     "text": [
      "3 / 10\n"
     ]
    },
    {
     "name": "stderr",
     "output_type": "stream",
     "text": [
      "[Parallel(n_jobs=-1)]: Done   1 tasks      | elapsed:    9.4s\n",
      "[Parallel(n_jobs=-1)]: Done   2 tasks      | elapsed:    9.5s\n",
      "[Parallel(n_jobs=-1)]: Done   3 tasks      | elapsed:    9.6s\n",
      "[Parallel(n_jobs=-1)]: Done   4 tasks      | elapsed:    9.7s\n",
      "[Parallel(n_jobs=-1)]: Done   5 tasks      | elapsed:    9.8s\n",
      "[Parallel(n_jobs=-1)]: Done   6 tasks      | elapsed:    9.9s\n",
      "[Parallel(n_jobs=-1)]: Done   7 tasks      | elapsed:    9.9s\n",
      "[Parallel(n_jobs=-1)]: Done   8 tasks      | elapsed:   10.0s\n",
      "[Parallel(n_jobs=-1)]: Done   9 tasks      | elapsed:   10.0s\n",
      "[Parallel(n_jobs=-1)]: Done  14 out of  48 | elapsed:   10.8s remaining:   26.2s\n",
      "[Parallel(n_jobs=-1)]: Done  19 out of  48 | elapsed:   14.6s remaining:   22.3s\n",
      "[Parallel(n_jobs=-1)]: Done  24 out of  48 | elapsed:   19.5s remaining:   19.5s\n",
      "[Parallel(n_jobs=-1)]: Done  29 out of  48 | elapsed:   20.0s remaining:   13.1s\n",
      "[Parallel(n_jobs=-1)]: Done  34 out of  48 | elapsed:   20.4s remaining:    8.4s\n",
      "[Parallel(n_jobs=-1)]: Done  39 out of  48 | elapsed:   27.4s remaining:    6.3s\n",
      "[Parallel(n_jobs=-1)]: Done  44 out of  48 | elapsed:   29.0s remaining:    2.6s\n",
      "[Parallel(n_jobs=-1)]: Done  48 out of  48 | elapsed:   29.7s finished\n",
      "[Parallel(n_jobs=-1)]: Using backend LokyBackend with 20 concurrent workers.\n"
     ]
    },
    {
     "name": "stdout",
     "output_type": "stream",
     "text": [
      "4 / 10\n"
     ]
    },
    {
     "name": "stderr",
     "output_type": "stream",
     "text": [
      "[Parallel(n_jobs=-1)]: Done   1 tasks      | elapsed:    9.2s\n",
      "[Parallel(n_jobs=-1)]: Done   2 tasks      | elapsed:    9.5s\n",
      "[Parallel(n_jobs=-1)]: Done   3 tasks      | elapsed:    9.5s\n",
      "[Parallel(n_jobs=-1)]: Done   4 tasks      | elapsed:    9.6s\n",
      "[Parallel(n_jobs=-1)]: Done   5 tasks      | elapsed:    9.6s\n",
      "[Parallel(n_jobs=-1)]: Done   6 tasks      | elapsed:    9.7s\n",
      "[Parallel(n_jobs=-1)]: Done   7 tasks      | elapsed:    9.7s\n",
      "[Parallel(n_jobs=-1)]: Done   8 tasks      | elapsed:    9.8s\n",
      "[Parallel(n_jobs=-1)]: Done   9 tasks      | elapsed:    9.8s\n",
      "[Parallel(n_jobs=-1)]: Done  14 out of  48 | elapsed:   13.1s remaining:   31.9s\n",
      "[Parallel(n_jobs=-1)]: Done  19 out of  48 | elapsed:   16.9s remaining:   25.9s\n",
      "[Parallel(n_jobs=-1)]: Done  24 out of  48 | elapsed:   19.2s remaining:   19.2s\n",
      "[Parallel(n_jobs=-1)]: Done  29 out of  48 | elapsed:   20.1s remaining:   13.2s\n",
      "[Parallel(n_jobs=-1)]: Done  34 out of  48 | elapsed:   24.4s remaining:   10.1s\n",
      "[Parallel(n_jobs=-1)]: Done  39 out of  48 | elapsed:   28.5s remaining:    6.6s\n",
      "[Parallel(n_jobs=-1)]: Done  44 out of  48 | elapsed:   28.9s remaining:    2.6s\n",
      "[Parallel(n_jobs=-1)]: Done  48 out of  48 | elapsed:   29.8s finished\n",
      "[Parallel(n_jobs=-1)]: Using backend LokyBackend with 20 concurrent workers.\n"
     ]
    },
    {
     "name": "stdout",
     "output_type": "stream",
     "text": [
      "5 / 10\n"
     ]
    },
    {
     "name": "stderr",
     "output_type": "stream",
     "text": [
      "[Parallel(n_jobs=-1)]: Done   1 tasks      | elapsed:    9.5s\n",
      "[Parallel(n_jobs=-1)]: Done   2 tasks      | elapsed:    9.5s\n",
      "[Parallel(n_jobs=-1)]: Done   3 tasks      | elapsed:    9.8s\n",
      "[Parallel(n_jobs=-1)]: Done   4 tasks      | elapsed:    9.8s\n",
      "[Parallel(n_jobs=-1)]: Done   5 tasks      | elapsed:    9.8s\n",
      "[Parallel(n_jobs=-1)]: Done   6 tasks      | elapsed:    9.9s\n",
      "[Parallel(n_jobs=-1)]: Done   7 tasks      | elapsed:    9.9s\n",
      "[Parallel(n_jobs=-1)]: Done   8 tasks      | elapsed:    9.9s\n",
      "[Parallel(n_jobs=-1)]: Done   9 tasks      | elapsed:   10.0s\n",
      "[Parallel(n_jobs=-1)]: Done  14 out of  48 | elapsed:   12.0s remaining:   29.2s\n",
      "[Parallel(n_jobs=-1)]: Done  19 out of  48 | elapsed:   14.1s remaining:   21.5s\n",
      "[Parallel(n_jobs=-1)]: Done  24 out of  48 | elapsed:   19.7s remaining:   19.7s\n",
      "[Parallel(n_jobs=-1)]: Done  29 out of  48 | elapsed:   20.1s remaining:   13.2s\n",
      "[Parallel(n_jobs=-1)]: Done  34 out of  48 | elapsed:   21.4s remaining:    8.8s\n",
      "[Parallel(n_jobs=-1)]: Done  39 out of  48 | elapsed:   25.8s remaining:    5.9s\n",
      "[Parallel(n_jobs=-1)]: Done  44 out of  48 | elapsed:   29.2s remaining:    2.7s\n",
      "[Parallel(n_jobs=-1)]: Done  48 out of  48 | elapsed:   29.8s finished\n",
      "[Parallel(n_jobs=-1)]: Using backend LokyBackend with 20 concurrent workers.\n"
     ]
    },
    {
     "name": "stdout",
     "output_type": "stream",
     "text": [
      "6 / 10\n"
     ]
    },
    {
     "name": "stderr",
     "output_type": "stream",
     "text": [
      "[Parallel(n_jobs=-1)]: Done   1 tasks      | elapsed:    9.3s\n",
      "[Parallel(n_jobs=-1)]: Done   2 tasks      | elapsed:    9.4s\n",
      "[Parallel(n_jobs=-1)]: Done   3 tasks      | elapsed:    9.5s\n",
      "[Parallel(n_jobs=-1)]: Done   4 tasks      | elapsed:    9.6s\n",
      "[Parallel(n_jobs=-1)]: Done   5 tasks      | elapsed:    9.6s\n",
      "[Parallel(n_jobs=-1)]: Done   6 tasks      | elapsed:    9.7s\n",
      "[Parallel(n_jobs=-1)]: Done   7 tasks      | elapsed:    9.7s\n",
      "[Parallel(n_jobs=-1)]: Done   8 tasks      | elapsed:    9.8s\n",
      "[Parallel(n_jobs=-1)]: Done   9 tasks      | elapsed:    9.8s\n",
      "[Parallel(n_jobs=-1)]: Done  14 out of  48 | elapsed:   12.8s remaining:   31.0s\n",
      "[Parallel(n_jobs=-1)]: Done  19 out of  48 | elapsed:   14.8s remaining:   22.6s\n",
      "[Parallel(n_jobs=-1)]: Done  24 out of  48 | elapsed:   19.1s remaining:   19.1s\n",
      "[Parallel(n_jobs=-1)]: Done  29 out of  48 | elapsed:   19.9s remaining:   13.0s\n",
      "[Parallel(n_jobs=-1)]: Done  34 out of  48 | elapsed:   22.2s remaining:    9.2s\n",
      "[Parallel(n_jobs=-1)]: Done  39 out of  48 | elapsed:   25.4s remaining:    5.9s\n",
      "[Parallel(n_jobs=-1)]: Done  44 out of  48 | elapsed:   28.7s remaining:    2.6s\n",
      "[Parallel(n_jobs=-1)]: Done  48 out of  48 | elapsed:   29.5s finished\n",
      "[Parallel(n_jobs=-1)]: Using backend LokyBackend with 20 concurrent workers.\n"
     ]
    },
    {
     "name": "stdout",
     "output_type": "stream",
     "text": [
      "7 / 10\n"
     ]
    },
    {
     "name": "stderr",
     "output_type": "stream",
     "text": [
      "[Parallel(n_jobs=-1)]: Done   1 tasks      | elapsed:    9.5s\n",
      "[Parallel(n_jobs=-1)]: Done   2 tasks      | elapsed:    9.5s\n",
      "[Parallel(n_jobs=-1)]: Done   3 tasks      | elapsed:    9.6s\n",
      "[Parallel(n_jobs=-1)]: Done   4 tasks      | elapsed:    9.8s\n",
      "[Parallel(n_jobs=-1)]: Done   5 tasks      | elapsed:    9.8s\n",
      "[Parallel(n_jobs=-1)]: Done   6 tasks      | elapsed:    9.8s\n",
      "[Parallel(n_jobs=-1)]: Done   7 tasks      | elapsed:    9.9s\n",
      "[Parallel(n_jobs=-1)]: Done   8 tasks      | elapsed:   10.1s\n",
      "[Parallel(n_jobs=-1)]: Done   9 tasks      | elapsed:   10.1s\n",
      "[Parallel(n_jobs=-1)]: Done  14 out of  48 | elapsed:   13.1s remaining:   31.8s\n",
      "[Parallel(n_jobs=-1)]: Done  19 out of  48 | elapsed:   15.2s remaining:   23.2s\n",
      "[Parallel(n_jobs=-1)]: Done  24 out of  48 | elapsed:   19.3s remaining:   19.3s\n",
      "[Parallel(n_jobs=-1)]: Done  29 out of  48 | elapsed:   19.9s remaining:   13.1s\n",
      "[Parallel(n_jobs=-1)]: Done  34 out of  48 | elapsed:   22.2s remaining:    9.1s\n",
      "[Parallel(n_jobs=-1)]: Done  39 out of  48 | elapsed:   26.4s remaining:    6.1s\n",
      "[Parallel(n_jobs=-1)]: Done  44 out of  48 | elapsed:   28.6s remaining:    2.6s\n",
      "[Parallel(n_jobs=-1)]: Done  48 out of  48 | elapsed:   29.2s finished\n",
      "[Parallel(n_jobs=-1)]: Using backend LokyBackend with 20 concurrent workers.\n"
     ]
    },
    {
     "name": "stdout",
     "output_type": "stream",
     "text": [
      "8 / 10\n"
     ]
    },
    {
     "name": "stderr",
     "output_type": "stream",
     "text": [
      "[Parallel(n_jobs=-1)]: Done   1 tasks      | elapsed:    9.4s\n",
      "[Parallel(n_jobs=-1)]: Done   2 tasks      | elapsed:    9.5s\n",
      "[Parallel(n_jobs=-1)]: Done   3 tasks      | elapsed:    9.6s\n",
      "[Parallel(n_jobs=-1)]: Done   4 tasks      | elapsed:    9.7s\n",
      "[Parallel(n_jobs=-1)]: Done   5 tasks      | elapsed:    9.7s\n",
      "[Parallel(n_jobs=-1)]: Done   6 tasks      | elapsed:    9.8s\n",
      "[Parallel(n_jobs=-1)]: Done   7 tasks      | elapsed:    9.9s\n",
      "[Parallel(n_jobs=-1)]: Done   8 tasks      | elapsed:    9.9s\n",
      "[Parallel(n_jobs=-1)]: Done   9 tasks      | elapsed:    9.9s\n",
      "[Parallel(n_jobs=-1)]: Done  14 out of  48 | elapsed:   13.0s remaining:   31.6s\n",
      "[Parallel(n_jobs=-1)]: Done  19 out of  48 | elapsed:   14.9s remaining:   22.7s\n",
      "[Parallel(n_jobs=-1)]: Done  24 out of  48 | elapsed:   19.4s remaining:   19.4s\n",
      "[Parallel(n_jobs=-1)]: Done  29 out of  48 | elapsed:   20.1s remaining:   13.2s\n",
      "[Parallel(n_jobs=-1)]: Done  34 out of  48 | elapsed:   22.2s remaining:    9.2s\n",
      "[Parallel(n_jobs=-1)]: Done  39 out of  48 | elapsed:   26.1s remaining:    6.0s\n",
      "[Parallel(n_jobs=-1)]: Done  44 out of  48 | elapsed:   28.9s remaining:    2.6s\n",
      "[Parallel(n_jobs=-1)]: Done  48 out of  48 | elapsed:   29.3s finished\n",
      "[Parallel(n_jobs=-1)]: Using backend LokyBackend with 20 concurrent workers.\n"
     ]
    },
    {
     "name": "stdout",
     "output_type": "stream",
     "text": [
      "9 / 10\n"
     ]
    },
    {
     "name": "stderr",
     "output_type": "stream",
     "text": [
      "[Parallel(n_jobs=-1)]: Done   1 tasks      | elapsed:    9.2s\n",
      "[Parallel(n_jobs=-1)]: Done   2 tasks      | elapsed:    9.3s\n",
      "[Parallel(n_jobs=-1)]: Done   3 tasks      | elapsed:    9.5s\n",
      "[Parallel(n_jobs=-1)]: Done   4 tasks      | elapsed:    9.6s\n",
      "[Parallel(n_jobs=-1)]: Done   5 tasks      | elapsed:    9.6s\n",
      "[Parallel(n_jobs=-1)]: Done   6 tasks      | elapsed:    9.7s\n",
      "[Parallel(n_jobs=-1)]: Done   7 tasks      | elapsed:    9.9s\n",
      "[Parallel(n_jobs=-1)]: Done   8 tasks      | elapsed:   10.0s\n",
      "[Parallel(n_jobs=-1)]: Done   9 tasks      | elapsed:   10.1s\n",
      "[Parallel(n_jobs=-1)]: Done  14 out of  48 | elapsed:   11.9s remaining:   28.9s\n",
      "[Parallel(n_jobs=-1)]: Done  19 out of  48 | elapsed:   15.2s remaining:   23.2s\n",
      "[Parallel(n_jobs=-1)]: Done  24 out of  48 | elapsed:   19.3s remaining:   19.3s\n",
      "[Parallel(n_jobs=-1)]: Done  29 out of  48 | elapsed:   20.3s remaining:   13.3s\n",
      "[Parallel(n_jobs=-1)]: Done  34 out of  48 | elapsed:   21.5s remaining:    8.9s\n",
      "[Parallel(n_jobs=-1)]: Done  39 out of  48 | elapsed:   26.4s remaining:    6.1s\n",
      "[Parallel(n_jobs=-1)]: Done  44 out of  48 | elapsed:   28.9s remaining:    2.6s\n"
     ]
    },
    {
     "name": "stdout",
     "output_type": "stream",
     "text": [
      "10 / 10\n"
     ]
    },
    {
     "name": "stderr",
     "output_type": "stream",
     "text": [
      "[Parallel(n_jobs=-1)]: Done  48 out of  48 | elapsed:   29.5s finished\n"
     ]
    }
   ],
   "source": [
    "\n",
    "for i in range(nReps):\n",
    "    #[testStabilizer(base_cfg, shrinkage, args) for args in args_sweep]\n",
    "    sweep_scores[:, i] = Parallel(n_jobs=-1, verbose = 11)(delayed(testStabilizer)(args, shrinkage, n_sessions) for args in args_sweep)\n",
    "    print(i + 1, '/', nReps)"
   ]
  },
  {
   "cell_type": "code",
   "execution_count": 76,
   "metadata": {
    "collapsed": true
   },
   "outputs": [],
   "source": [
    "import pandas as pd\n",
    "\n",
    "#sweep_scores = np.load('ss_opt_simulation.npy')\n",
    "\n",
    "for i, score in enumerate(sweep_scores):\n",
    "    args_sweep[i]['ttt'] = score\n",
    "    \n",
    "scores_df = pd.DataFrame(args_sweep)"
   ]
  },
  {
   "cell_type": "code",
   "execution_count": 77,
   "metadata": {
    "collapsed": true
   },
   "outputs": [],
   "source": [
    "unique_vals = dict([(x, np.unique(scores_df[x])) for x in sweep_opts])\n",
    "unique_lens = [len(np.unique(scores_df[x])) for x in sweep_opts]\n",
    "scores_arr  = np.zeros([*unique_lens, 10])\n",
    "\n",
    "for j, B in enumerate(unique_vals['B']):\n",
    "    for k, n_components in enumerate(unique_vals['n_components']):\n",
    "        for l, thresh in enumerate(unique_vals['thresh']):\n",
    "            subset                 = scores_df.loc[(scores_df[\"B\"] == B) & (scores_df[\"n_components\"] == n_components) & \n",
    "                                                   (scores_df['thresh'] == thresh)]\n",
    "            scores_arr[l, k, j, :] = subset['ttt'].iloc[0]\n"
   ]
  },
  {
   "cell_type": "code",
   "execution_count": 78,
   "metadata": {},
   "outputs": [
    {
     "name": "stdout",
     "output_type": "stream",
     "text": [
      "optimal B:  150\n",
      "optimal dim:  4\n",
      "optimal thresh:  0.01\n"
     ]
    },
    {
     "data": {
      "image/png": "[encoded data removed]",
      "text/plain": [
       "<Figure size 1440x432 with 6 Axes>"
      ]
     },
     "metadata": {},
     "output_type": "display_data"
    }
   ],
   "source": [
    "import matplotlib.pyplot as plt\n",
    "\n",
    "\n",
    "plt_scores = np.median(scores_arr, axis = -1)\n",
    "\n",
    "arg_thresh, arg_d, arg_B = np.unravel_index(np.argmin(plt_scores), plt_scores.shape)\n",
    "\n",
    "print('optimal B: ', sweep_opts['B'][arg_B])\n",
    "print('optimal dim: ', sweep_opts['n_components'][arg_d])\n",
    "print('optimal thresh: ', sweep_opts['thresh'][arg_thresh])\n",
    "\n",
    "figSize(6, 20)\n",
    "plt.subplot(1, 3, 1)\n",
    "plt.imshow(plt_scores[arg_thresh, :, :], aspect = 'auto')\n",
    "plt.title('Fixed threshold = ' + str(sweep_opts['thresh'][arg_thresh]) + ' (best)')\n",
    "plt.ylabel('Dimensionality')\n",
    "plt.yticks(np.arange(len(sweep_opts['n_components'])), np.round(sweep_opts['n_components'], 3))\n",
    "plt.xlabel('B')\n",
    "plt.xticks(np.arange(len(sweep_opts['B'])), sweep_opts['B'])\n",
    "plt.colorbar()\n",
    "\n",
    "plt.subplot(1, 3, 2)\n",
    "plt.imshow(plt_scores[:, arg_d, :], aspect = 'auto')\n",
    "plt.title('Fixed dimensionality = ' + str(sweep_opts['n_components'][arg_d]) + ' (best)')\n",
    "plt.xlabel('B')\n",
    "plt.xticks(np.arange(len(sweep_opts['B'])), sweep_opts['B'])\n",
    "plt.ylabel('Threshold')\n",
    "plt.yticks(np.arange(len(sweep_opts['thresh'])), sweep_opts['thresh'])\n",
    "plt.colorbar()\n",
    "\n",
    "plt.subplot(1, 3, 3)\n",
    "plt.imshow(plt_scores[:, :, arg_B], aspect = 'auto')\n",
    "#plt.title('Fixed threshold = ' + str(np.round(thresh_sweep[arg_thresh], 3)) + ' (best)')\n",
    "#plt.xlabel('B')\n",
    "#plt.xticks(np.arange(len(B_sweep)), B_sweep)\n",
    "#plt.ylabel('Dimensionality')\n",
    "#plt.yticks(np.arange(len(d_sweep)), d_sweep)\n",
    "plt.colorbar()\n",
    "\n",
    "plt.suptitle('Average time to target following nonstationarity + stabilization', fontweight = 'bold')\n",
    "plt.show()"
   ]
  },
  {
   "cell_type": "code",
   "execution_count": null,
   "metadata": {
    "collapsed": true
   },
   "outputs": [],
   "source": [
    "scores_arr[arg_thresh, arg_B, arg_d, :]"
   ]
  },
  {
   "cell_type": "code",
   "execution_count": null,
   "metadata": {
    "collapsed": true
   },
   "outputs": [],
   "source": []
  }
 ],
 "metadata": {
  "kernelspec": {
   "display_name": "Python 3",
   "language": "python",
   "name": "python3"
  },
  "language_info": {
   "codemirror_mode": {
    "name": "ipython",
    "version": 3
   },
   "file_extension": ".py",
   "mimetype": "text/x-python",
   "name": "python",
   "nbconvert_exporter": "python",
   "pygments_lexer": "ipython3",
   "version": "3.6.1"
  }
 },
 "nbformat": 4,
 "nbformat_minor": 4
}
