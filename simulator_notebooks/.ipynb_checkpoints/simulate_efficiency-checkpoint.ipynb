{
 "cells": [
  {
   "cell_type": "markdown",
   "metadata": {},
   "source": [
    "Code for examining how HMM performs under repeated recalibration\n"
   ]
  },
  {
   "cell_type": "code",
   "execution_count": 2,
   "metadata": {},
   "outputs": [
    {
     "name": "stdout",
     "output_type": "stream",
     "text": [
      "The autoreload extension is already loaded. To reload it, use:\n",
      "  %reload_ext autoreload\n"
     ]
    }
   ],
   "source": [
    "%load_ext autoreload\n",
    "%autoreload 2\n",
    "\n",
    "import numpy as np\n",
    "from sklearn.linear_model import LinearRegression\n",
    "import matplotlib.pyplot as plt\n",
    "import pandas as pd\n",
    "import seaborn as sns\n",
    "import os, re, glob\n",
    "\n",
    "\n",
    "import sys, glob\n",
    "[sys.path.append(f) for f in glob.glob('../utils/*')]\n",
    "from plotting_utils import figSize\n",
    "from hmm import HMMRecalibration\n",
    "import hmm_utils\n",
    "from RTI_utils import RTI\n",
    "import simulation_utils \n",
    "from simulation import simulateBCIFitts\n",
    "\n",
    "\n",
    "# for a reproducible result\n",
    "np.random.seed(1)\n",
    "\n",
    "fig_path = '/home/users/ghwilson/projects/nonstationarities/figures/'\n",
    "data_dir = '/oak/stanford/groups/henderj/ghwilson/nonstationarities/simulator/performance/efficiency/'"
   ]
  },
  {
   "cell_type": "code",
   "execution_count": 3,
   "metadata": {},
   "outputs": [
    {
     "name": "stdout",
     "output_type": "stream",
     "text": [
      "Missing: []\n"
     ]
    }
   ],
   "source": [
    "labels = ['supervised', 'HMM', 'Click HMM', 'RTI', 'stabilizer']\n",
    "\n",
    "files  = glob.glob(os.path.join(data_dir, '*.npy'))\n",
    "idxs   = [int(re.findall('_(\\d+).npy', x)[0]) for x in files]\n",
    "print('Missing:', np.setdiff1d(np.arange(max(idxs)), idxs))\n",
    "\n",
    "rep_data = list()\n",
    "for f in files:\n",
    "    rep_data.extend(np.load(f, allow_pickle=True))\n",
    "\n",
    "\n",
    "# relabel methods based on HPs:\n",
    "for x in rep_data:\n",
    "    if x['method'] == 'RTI' and x['look_back'] == 500:\n",
    "        x['method'] = 'RTI (long look_back)'\n",
    "    \n",
    "    elif x['method'] == 'PRI-T' and x['click_inflection'] != None:\n",
    "        x['method'] = 'Click PRI-T'\n",
    "    \n",
    "    else:\n",
    "        continue\n",
    "\n",
    "df = pd.DataFrame(rep_data, columns=['ttt','method','chained', 'nSimSteps'])\n",
    "df['Trial time (sec)'] = np.vstack(df['ttt'])[:, -1]"
   ]
  },
  {
   "cell_type": "markdown",
   "metadata": {},
   "source": [
    "## Vanilla HMM vs RTI comparisons"
   ]
  },
  {
   "cell_type": "code",
   "execution_count": 5,
   "metadata": {},
   "outputs": [],
   "source": [
    "def makeEfficiencyPlot(df, subset_labels, colors):\n",
    "\n",
    "    cmap      = dict(zip(subset_labels, colors))\n",
    "    scores_df = df[df['method'].isin(subset_labels)]\n",
    "\n",
    "    sns.stripplot(data = scores_df, x = 'nSimSteps', y = 'Trial time (sec)', hue_order = subset_labels,\n",
    "                  hue = 'method', alpha = 0.8, palette = cmap, dodge = True)\n",
    "\n",
    "    ax = plt.gca()\n",
    "\n",
    "    sns.boxplot(medianprops={'ls': '-', 'lw': 2, 'alpha' : 0.6,}, whiskerprops={'visible': False},\n",
    "                zorder=1, x=\"nSimSteps\", y=\"Trial time (sec)\", hue='method', data=scores_df, hue_order = subset_labels,\n",
    "                showfliers=False, showbox=False, showcaps=False, ax=ax)\n",
    "\n",
    "    #plt.yscale('log')\n",
    "    handles, labels = ax.get_legend_handles_labels()\n",
    "    plt.legend(handles[:len(subset_labels)],labels[:len(subset_labels)], frameon=False)\n",
    "    ax.spines['top'].set_visible(False)\n",
    "    ax.spines['right'].set_visible(False)\n",
    "\n",
    "    return ax"
   ]
  },
  {
   "cell_type": "code",
   "execution_count": null,
   "metadata": {},
   "outputs": [],
   "source": [
    "figSize(5, 10)\n",
    "\n",
    "subset_labels = ['supervised', 'PRI-T', 'RTI (long look_back)', 'RTI', 'stabilizer']\n",
    "colors = ['g', 'dodgerblue', 'darkred', 'red', 'orange']\n",
    "\n",
    "makeEfficiencyPlot(df, subset_labels, colors)\n",
    "plt.savefig(os.path.join(fig_path, 'simulator', 'efficiency_sweep.pdf'), format = 'pdf')"
   ]
  },
  {
   "cell_type": "code",
   "execution_count": 6,
   "metadata": {},
   "outputs": [
    {
     "data": {
      "image/png": "[encoded data removed]",
      "text/plain": [
       "<Figure size 432x288 with 1 Axes>"
      ]
     },
     "metadata": {
      "needs_background": "light"
     },
     "output_type": "display_data"
    }
   ],
   "source": [
    "subset_labels = ['supervised', 'Click PRI-T', 'PRI-T']\n",
    "colors = ['g', 'dodgerblue', 'r']\n",
    "\n",
    "makeEfficiencyPlot(df, subset_labels, colors)\n",
    "plt.savefig(os.path.join(fig_path, 'simulator', 'efficiency_sweep_click.pdf'), format = 'pdf')"
   ]
  },
  {
   "cell_type": "code",
   "execution_count": 10,
   "metadata": {},
   "outputs": [
    {
     "name": "stdout",
     "output_type": "stream",
     "text": [
      " \n",
      " ============== Time (sec):  40.0 ================\n",
      "supervised:  1.7451228378014583\n",
      "PRI-T:  3.1384648436481695\n",
      "Click PRI-T:  1.8978717139365335\n",
      "RTI:  6.698175838998859\n",
      "RTI (long look_back):  5.061985353869639\n",
      "stabilizer:  6.3995964652179085\n",
      "\n",
      "\n",
      "PRI-T vs supervised: stat=5.7731, p = 0.0\n",
      "Click PRI-T vs supervised: stat=1.7878, p = 0.0738\n",
      "Click PRI-T vs PRI-T: stat=-4.2957, p = 0.0\n",
      "RTI vs supervised: stat=10.5013, p = 0.0\n",
      "RTI vs PRI-T: stat=7.1769, p = 0.0\n",
      "RTI vs Click PRI-T: stat=9.6848, p = 0.0\n",
      "RTI (long look_back) vs supervised: stat=6.8979, p = 0.0\n",
      "RTI (long look_back) vs PRI-T: stat=2.8171, p = 0.0048\n",
      "RTI (long look_back) vs Click PRI-T: stat=5.7943, p = 0.0\n",
      "RTI (long look_back) vs RTI: stat=-3.6851, p = 0.0002\n",
      "stabilizer vs supervised: stat=15.438, p = 0.0\n",
      "stabilizer vs PRI-T: stat=10.7638, p = 0.0\n",
      "stabilizer vs Click PRI-T: stat=14.8706, p = 0.0\n",
      "stabilizer vs RTI: stat=-1.4713, p = 0.1412\n",
      "stabilizer vs RTI (long look_back): stat=4.1794, p = 0.0\n",
      " \n",
      " ============== Time (sec):  60.0 ================\n",
      "supervised:  1.6328347488273591\n",
      "PRI-T:  1.9911725741979824\n",
      "Click PRI-T:  1.6308657276019511\n",
      "RTI:  4.006339740105937\n",
      "RTI (long look_back):  3.2284560784927496\n",
      "stabilizer:  4.7761370974871316\n",
      "\n",
      "\n",
      "PRI-T vs supervised: stat=2.5339, p = 0.0113\n",
      "Click PRI-T vs supervised: stat=1.5154, p = 0.1297\n",
      "Click PRI-T vs PRI-T: stat=-1.0613, p = 0.2886\n",
      "RTI vs supervised: stat=5.8976, p = 0.0\n",
      "RTI vs PRI-T: stat=3.996, p = 0.0001\n",
      "RTI vs Click PRI-T: stat=4.9375, p = 0.0\n",
      "RTI (long look_back) vs supervised: stat=5.3025, p = 0.0\n",
      "RTI (long look_back) vs PRI-T: stat=3.1311, p = 0.0017\n",
      "RTI (long look_back) vs Click PRI-T: stat=4.2006, p = 0.0\n",
      "RTI (long look_back) vs RTI: stat=-1.1365, p = 0.2557\n",
      "stabilizer vs supervised: stat=14.0506, p = 0.0\n",
      "stabilizer vs PRI-T: stat=12.3518, p = 0.0\n",
      "stabilizer vs Click PRI-T: stat=13.8257, p = 0.0\n",
      "stabilizer vs RTI: stat=5.3125, p = 0.0\n",
      "stabilizer vs RTI (long look_back): stat=7.8805, p = 0.0\n",
      " \n",
      " ============== Time (sec):  80.0 ================\n",
      "supervised:  1.5633337212690537\n",
      "PRI-T:  1.6988629058205726\n",
      "Click PRI-T:  1.6255939960332455\n",
      "RTI:  2.8856501187679355\n",
      "RTI (long look_back):  2.2190674100760326\n",
      "stabilizer:  3.7779333129513386\n",
      "\n",
      "\n",
      "PRI-T vs supervised: stat=0.9328, p = 0.3509\n",
      "Click PRI-T vs supervised: stat=0.1419, p = 0.8872\n",
      "Click PRI-T vs PRI-T: stat=-0.778, p = 0.4366\n",
      "RTI vs supervised: stat=2.6013, p = 0.0093\n",
      "RTI vs PRI-T: stat=1.7567, p = 0.079\n",
      "RTI vs Click PRI-T: stat=2.4041, p = 0.0162\n",
      "RTI (long look_back) vs supervised: stat=0.7136, p = 0.4755\n",
      "RTI (long look_back) vs PRI-T: stat=0.048, p = 0.9617\n",
      "RTI (long look_back) vs Click PRI-T: stat=0.637, p = 0.5241\n",
      "RTI (long look_back) vs RTI: stat=-1.5963, p = 0.1104\n",
      "stabilizer vs supervised: stat=12.4777, p = 0.0\n",
      "stabilizer vs PRI-T: stat=11.7399, p = 0.0\n",
      "stabilizer vs Click PRI-T: stat=12.2658, p = 0.0\n",
      "stabilizer vs RTI: stat=7.9553, p = 0.0\n",
      "stabilizer vs RTI (long look_back): stat=10.1341, p = 0.0\n",
      " \n",
      " ============== Time (sec):  100.0 ================\n",
      "supervised:  1.5406185316087635\n",
      "PRI-T:  1.6917901672954807\n",
      "Click PRI-T:  1.6267995972926803\n",
      "RTI:  2.80205391772811\n",
      "RTI (long look_back):  2.1832338016280777\n",
      "stabilizer:  3.246563205196759\n",
      "\n",
      "\n",
      "PRI-T vs supervised: stat=2.0106, p = 0.0444\n",
      "Click PRI-T vs supervised: stat=1.7364, p = 0.0825\n",
      "Click PRI-T vs PRI-T: stat=-0.333, p = 0.7391\n",
      "RTI vs supervised: stat=3.9909, p = 0.0001\n",
      "RTI vs PRI-T: stat=2.2878, p = 0.0222\n",
      "RTI vs Click PRI-T: stat=2.5663, p = 0.0103\n",
      "RTI (long look_back) vs supervised: stat=2.9214, p = 0.0035\n",
      "RTI (long look_back) vs PRI-T: stat=0.9601, p = 0.337\n",
      "RTI (long look_back) vs Click PRI-T: stat=1.294, p = 0.1957\n",
      "RTI (long look_back) vs RTI: stat=-1.2351, p = 0.2168\n",
      "stabilizer vs supervised: stat=12.9353, p = 0.0\n",
      "stabilizer vs PRI-T: stat=11.5937, p = 0.0\n",
      "stabilizer vs Click PRI-T: stat=12.1075, p = 0.0\n",
      "stabilizer vs RTI: stat=7.6915, p = 0.0\n",
      "stabilizer vs RTI (long look_back): stat=9.6511, p = 0.0\n",
      " \n",
      " ============== Time (sec):  120.0 ================\n",
      "supervised:  1.572419653227511\n",
      "PRI-T:  1.6020947692240448\n",
      "Click PRI-T:  1.5453616678327797\n",
      "RTI:  2.098697655681933\n",
      "RTI (long look_back):  1.9670115966362358\n",
      "stabilizer:  3.040405918048293\n",
      "\n",
      "\n",
      "PRI-T vs supervised: stat=-0.234, p = 0.815\n",
      "Click PRI-T vs supervised: stat=1.0081, p = 0.3134\n",
      "Click PRI-T vs PRI-T: stat=1.2684, p = 0.2046\n",
      "RTI vs supervised: stat=0.6228, p = 0.5334\n",
      "RTI vs PRI-T: stat=0.7884, p = 0.4305\n",
      "RTI vs Click PRI-T: stat=-0.3979, p = 0.6907\n",
      "RTI (long look_back) vs supervised: stat=1.6564, p = 0.0976\n",
      "RTI (long look_back) vs PRI-T: stat=1.9176, p = 0.0552\n",
      "RTI (long look_back) vs Click PRI-T: stat=0.7464, p = 0.4554\n",
      "RTI (long look_back) vs RTI: stat=0.9428, p = 0.3458\n",
      "stabilizer vs supervised: stat=11.1323, p = 0.0\n",
      "stabilizer vs PRI-T: stat=11.4086, p = 0.0\n",
      "stabilizer vs Click PRI-T: stat=11.0484, p = 0.0\n",
      "stabilizer vs RTI: stat=9.5641, p = 0.0\n",
      "stabilizer vs RTI (long look_back): stat=9.2614, p = 0.0\n"
     ]
    }
   ],
   "source": [
    "import scipy.stats\n",
    "\n",
    "subset_labels = df['method'].unique()\n",
    "\n",
    "for nSteps in np.unique(df['nSimSteps']):\n",
    "    subset = df[df['nSimSteps'] == nSteps]\n",
    "    \n",
    "    print(' \\n ============== Time (sec): ', 0.02 * nSteps, '================')\n",
    "    for i, method1 in enumerate(subset_labels):\n",
    "        print(f'{method1}: ', np.mean(subset[subset['method'] == method1]['Trial time (sec)']))\n",
    "        \n",
    "    print('\\n')\n",
    "    for i, method1 in enumerate(subset_labels):\n",
    "        for j, method2 in enumerate(subset_labels):\n",
    "            if i > j:\n",
    "                stat = scipy.stats.ranksums(subset[subset['method'] == method1]['Trial time (sec)'], subset[subset['method'] == method2]['Trial time (sec)'])\n",
    "                print(f'{method1} vs {method2}: stat={np.round(stat[0],4)}, p = {np.round(stat[1], 4)}')"
   ]
  },
  {
   "cell_type": "code",
   "execution_count": null,
   "metadata": {},
   "outputs": [],
   "source": []
  },
  {
   "cell_type": "code",
   "execution_count": null,
   "metadata": {},
   "outputs": [],
   "source": []
  },
  {
   "cell_type": "code",
   "execution_count": null,
   "metadata": {},
   "outputs": [],
   "source": []
  },
  {
   "cell_type": "code",
   "execution_count": null,
   "metadata": {},
   "outputs": [],
   "source": []
  },
  {
   "cell_type": "code",
   "execution_count": null,
   "metadata": {},
   "outputs": [],
   "source": []
  },
  {
   "cell_type": "code",
   "execution_count": null,
   "metadata": {},
   "outputs": [],
   "source": []
  },
  {
   "cell_type": "code",
   "execution_count": null,
   "metadata": {},
   "outputs": [],
   "source": []
  },
  {
   "cell_type": "code",
   "execution_count": null,
   "metadata": {},
   "outputs": [],
   "source": []
  },
  {
   "cell_type": "code",
   "execution_count": null,
   "metadata": {},
   "outputs": [],
   "source": []
  },
  {
   "cell_type": "code",
   "execution_count": null,
   "metadata": {},
   "outputs": [],
   "source": []
  }
 ],
 "metadata": {
  "kernelspec": {
   "display_name": "Nonstationarities (3.9)",
   "language": "python",
   "name": "nonstationarities"
  },
  "language_info": {
   "codemirror_mode": {
    "name": "ipython",
    "version": 3
   },
   "file_extension": ".py",
   "mimetype": "text/x-python",
   "name": "python",
   "nbconvert_exporter": "python",
   "pygments_lexer": "ipython3",
   "version": "3.9.15"
  }
 },
 "nbformat": 4,
 "nbformat_minor": 4
}
