{
 "cells": [
  {
   "cell_type": "markdown",
   "metadata": {},
   "source": [
    "Code for examining how HMM performs under repeated recalibration\n"
   ]
  },
  {
   "cell_type": "code",
   "execution_count": null,
   "metadata": {},
   "outputs": [],
   "source": [
    "%load_ext autoreload\n",
    "%autoreload 2\n",
    "\n",
    "import numpy as np\n",
    "from sklearn.linear_model import LinearRegression\n",
    "import matplotlib.pyplot as plt\n",
    "import pandas as pd\n",
    "import seaborn as sns\n",
    "\n",
    "\n",
    "import sys, glob\n",
    "[sys.path.append(f) for f in glob.glob('../utils/*')]\n",
    "from plotting_utils import figSize\n",
    "from hmm import HMMRecalibration\n",
    "import hmm_utils\n",
    "from RTI_utils import RTI\n",
    "import simulation_utils \n",
    "from simulation import simulateBCIFitts\n",
    "\n",
    "# for a reproducible result\n",
    "np.random.seed(1)\n",
    "\n",
    "fig_path = '/home/users/ghwilson/projects/nonstationarities/figures/'\n",
    "data_dir = '/oak/stanford/groups/shenoy/ghwilson/nonstationarities/simulator/efficiency/'"
   ]
  },
  {
   "cell_type": "code",
   "execution_count": null,
   "metadata": {},
   "outputs": [],
   "source": [
    "labels = ['supervised', 'HMM', 'Click HMM', 'RTI']\n",
    "\n",
    "dicts = list()\n",
    "\n",
    "for file in glob.glob(data_dir + '/*'):\n",
    "    file_dict = np.load(file, allow_pickle = True)[0]\n",
    "    \n",
    "    for i, label in enumerate(labels):\n",
    "        d = dict()\n",
    "        d['ttt']       = file_dict['scores'][-1, i] \n",
    "        d['method']    = label\n",
    "        d['nSimSteps'] = file_dict['nSimSteps']\n",
    "\n",
    "        dicts.append(d)\n",
    "        \n",
    "df = pd.DataFrame(dicts)"
   ]
  },
  {
   "cell_type": "code",
   "execution_count": 6,
   "metadata": {},
   "outputs": [
    {
     "data": {
      "text/plain": [
       "624"
      ]
     },
     "execution_count": 6,
     "metadata": {},
     "output_type": "execute_result"
    }
   ],
   "source": [
    "len(dicts)"
   ]
  },
  {
   "cell_type": "code",
   "execution_count": null,
   "metadata": {
    "collapsed": true
   },
   "outputs": [],
   "source": []
  },
  {
   "cell_type": "markdown",
   "metadata": {},
   "source": [
    "## Vanilla HMM vs RTI comparisons"
   ]
  },
  {
   "cell_type": "code",
   "execution_count": null,
   "metadata": {
    "collapsed": true
   },
   "outputs": [],
   "source": [
    "figSize(5, 15)\n",
    "\n",
    "colors = ['g', 'cyan', 'orange']\n",
    "cmap   = dict(zip(labels, colors))\n",
    "\n",
    "scores_df = df[df['methods'] in ]\n",
    "\n",
    "sns.stripplot(data = scores_df, x = 'nSimSteps', y = 'ttt', \n",
    "              hue = 'method', alpha = 0.8, palette = cmap, dodge = True)\n",
    "\n",
    "ax = plt.gca()\n",
    "\n",
    "sns.boxplot(medianprops={'ls': '-', 'lw': 2, 'alpha' : 0.6,}, whiskerprops={'visible': False},\n",
    "            zorder=1, x=\"nSimSteps\", y=\"ttt\", hue='method', data=scores_df, \n",
    "            showfliers=False, showbox=False, showcaps=False, ax=ax)\n",
    "\n",
    "#plt.yscale('log')\n",
    "handles, labels = ax.get_legend_handles_labels()\n",
    "plt.legend(handles[3:],labels[3:], frameon=False)\n",
    "ax.spines['top'].set_visible(False)\n",
    "ax.spines['right'].set_visible(False)\n",
    "\n",
    "plt.savefig(fig_path + 'simulator/vanillaHMM_vs_clickHMM_efficiency', format = 'pdf')\n",
    "plt.show()"
   ]
  },
  {
   "cell_type": "code",
   "execution_count": null,
   "metadata": {
    "collapsed": true
   },
   "outputs": [],
   "source": [
    "import scipy.stats\n",
    "\n",
    "for nSteps in [2000, 4000, 6000, 8000, 10000]:\n",
    "    subset = scores_df[scores_df['nSimSteps'] == nSteps]\n",
    "    \n",
    "    print(' \\n', 'Time (sec): ', 0.02 * nSteps)\n",
    "    for i, method1 in enumerate(labels):\n",
    "        for j, method2 in enumerate(labels):\n",
    "            if i > j:\n",
    "                stat = scipy.stats.wilcoxon(subset[subset['method'] == method1]['ttt'], subset[subset['method'] == method2]['ttt'])\n",
    "                print(f'{method1} vs {method2}: p = ', stat)"
   ]
  },
  {
   "cell_type": "markdown",
   "metadata": {
    "collapsed": true
   },
   "source": [
    "## Click HMM vs HMM comparisons"
   ]
  },
  {
   "cell_type": "code",
   "execution_count": null,
   "metadata": {
    "collapsed": true
   },
   "outputs": [],
   "source": []
  }
 ],
 "metadata": {
  "kernelspec": {
   "display_name": "Python 3",
   "language": "python",
   "name": "python3"
  },
  "language_info": {
   "codemirror_mode": {
    "name": "ipython",
    "version": 3
   },
   "file_extension": ".py",
   "mimetype": "text/x-python",
   "name": "python",
   "nbconvert_exporter": "python",
   "pygments_lexer": "ipython3",
   "version": "3.6.1"
  }
 },
 "nbformat": 4,
 "nbformat_minor": 4
}
