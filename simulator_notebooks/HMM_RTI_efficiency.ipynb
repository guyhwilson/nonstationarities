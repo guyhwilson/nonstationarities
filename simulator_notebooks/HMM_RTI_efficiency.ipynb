{
 "cells": [
  {
   "cell_type": "markdown",
   "metadata": {},
   "source": [
    "Code for examining how HMM performs under repeated recalibration\n"
   ]
  },
  {
   "cell_type": "code",
   "execution_count": 1,
   "metadata": {},
   "outputs": [],
   "source": [
    "%load_ext autoreload\n",
    "%autoreload 2\n",
    "\n",
    "import numpy as np\n",
    "from sklearn.linear_model import LinearRegression\n",
    "import matplotlib.pyplot as plt\n",
    "import pandas as pd\n",
    "import seaborn as sns\n",
    "\n",
    "\n",
    "import sys, glob\n",
    "[sys.path.append(f) for f in glob.glob('../utils/*')]\n",
    "from plotting_utils import figSize\n",
    "from hmm import HMMRecalibration\n",
    "import hmm_utils\n",
    "from RTI_utils import RTI\n",
    "import simulation_utils \n",
    "from simulation import simulateBCIFitts\n",
    "\n",
    "# for a reproducible result\n",
    "np.random.seed(1)\n",
    "\n",
    "fig_path = '/home/users/ghwilson/projects/nonstationarities/figures/'\n",
    "data_dir = '/oak/stanford/groups/shenoy/ghwilson/nonstationarities/simulator/efficiency/'"
   ]
  },
  {
   "cell_type": "code",
   "execution_count": 8,
   "metadata": {},
   "outputs": [],
   "source": [
    "labels = ['supervised', 'HMM', 'Click HMM', 'RTI']\n",
    "\n",
    "dicts = list()\n",
    "\n",
    "for file in glob.glob(data_dir + '/*'):\n",
    "    file_dict = np.load(file, allow_pickle = True)[0]\n",
    "    \n",
    "    for i, label in enumerate(labels):\n",
    "        d = dict()\n",
    "        d['ttt']    = file_dict['scores'][-1, i] \n",
    "        d['method'] = label\n",
    "        d['Training time (sec)'] = file_dict['nSimSteps'] * 0.02\n",
    "\n",
    "        dicts.append(d)\n",
    "        \n",
    "df = pd.DataFrame(dicts)"
   ]
  },
  {
   "cell_type": "markdown",
   "metadata": {},
   "source": [
    "## Vanilla HMM vs RTI comparisons"
   ]
  },
  {
   "cell_type": "code",
   "execution_count": 31,
   "metadata": {},
   "outputs": [
    {
     "name": "stderr",
     "output_type": "stream",
     "text": [
      "findfont: Font family 'Arial' not found.\n",
      "findfont: Font family 'Arial' not found.\n",
      "findfont: Font family 'Arial' not found.\n",
      "findfont: Font family 'Arial' not found.\n",
      "findfont: Font family 'Arial' not found.\n",
      "findfont: Font family 'Arial' not found.\n",
      "findfont: Font family 'Arial' not found.\n",
      "findfont: Font family 'Arial' not found.\n",
      "findfont: Font family 'Arial' not found.\n",
      "findfont: Font family 'Arial' not found.\n",
      "findfont: Font family 'Arial' not found.\n",
      "findfont: Font family 'Arial' not found.\n",
      "findfont: Font family 'Arial' not found.\n",
      "findfont: Font family 'Arial' not found.\n",
      "findfont: Font family 'Arial' not found.\n",
      "findfont: Font family 'Arial' not found.\n",
      "findfont: Font family 'Arial' not found.\n",
      "findfont: Font family 'Arial' not found.\n",
      "findfont: Font family 'Arial' not found.\n",
      "findfont: Font family 'Arial' not found.\n",
      "findfont: Font family 'Arial' not found.\n",
      "findfont: Font family 'Arial' not found.\n",
      "findfont: Font family 'Arial' not found.\n",
      "findfont: Font family 'Arial' not found.\n",
      "findfont: Font family 'Arial' not found.\n",
      "findfont: Font family 'Arial' not found.\n",
      "findfont: Font family 'Arial' not found.\n",
      "findfont: Font family 'Arial' not found.\n",
      "findfont: Font family 'Arial' not found.\n",
      "findfont: Font family 'Arial' not found.\n",
      "findfont: Font family 'Arial' not found.\n",
      "findfont: Font family 'Arial' not found.\n",
      "findfont: Font family 'Arial' not found.\n",
      "findfont: Font family 'Arial' not found.\n",
      "findfont: Font family 'Arial' not found.\n",
      "findfont: Font family 'Arial' not found.\n",
      "findfont: Font family 'Arial' not found.\n",
      "findfont: Font family 'Arial' not found.\n",
      "findfont: Font family 'Arial' not found.\n",
      "findfont: Font family 'Arial' not found.\n",
      "findfont: Font family 'Arial' not found.\n",
      "findfont: Font family 'Arial' not found.\n",
      "findfont: Font family 'Arial' not found.\n",
      "findfont: Font family 'Arial' not found.\n",
      "findfont: Font family 'Arial' not found.\n",
      "findfont: Font family 'Arial' not found.\n",
      "findfont: Font family 'Arial' not found.\n",
      "findfont: Font family 'Arial' not found.\n",
      "findfont: Font family 'Arial' not found.\n",
      "findfont: Font family 'Arial' not found.\n",
      "findfont: Font family 'Arial' not found.\n",
      "findfont: Font family 'Arial' not found.\n",
      "findfont: Font family 'Arial' not found.\n",
      "findfont: Font family 'Arial' not found.\n",
      "findfont: Font family 'Arial' not found.\n",
      "findfont: Font family 'Arial' not found.\n",
      "findfont: Font family 'Arial' not found.\n",
      "findfont: Font family 'Arial' not found.\n",
      "findfont: Font family 'Arial' not found.\n",
      "findfont: Font family 'Arial' not found.\n",
      "findfont: Font family 'Arial' not found.\n",
      "findfont: Font family 'Arial' not found.\n",
      "findfont: Font family 'Arial' not found.\n",
      "findfont: Font family 'Arial' not found.\n",
      "findfont: Font family 'Arial' not found.\n",
      "findfont: Font family 'Arial' not found.\n",
      "findfont: Font family 'Arial' not found.\n",
      "findfont: Font family 'Arial' not found.\n",
      "findfont: Font family 'Arial' not found.\n",
      "findfont: Font family 'Arial' not found.\n",
      "findfont: Font family 'Arial' not found.\n",
      "findfont: Font family 'Arial' not found.\n",
      "findfont: Font family 'Arial' not found.\n",
      "findfont: Font family 'Arial' not found.\n",
      "findfont: Font family 'Arial' not found.\n",
      "findfont: Font family 'Arial' not found.\n",
      "findfont: Font family 'Arial' not found.\n",
      "findfont: Font family 'Arial' not found.\n",
      "findfont: Font family 'Arial' not found.\n",
      "findfont: Font family 'Arial' not found.\n",
      "findfont: Font family 'Arial' not found.\n",
      "findfont: Font family 'Arial' not found.\n",
      "findfont: Font family 'Arial' not found.\n",
      "findfont: Font family 'Arial' not found.\n",
      "findfont: Font family 'Arial' not found.\n",
      "findfont: Font family 'Arial' not found.\n"
     ]
    },
    {
     "data": {
      "image/png": "[encoded data removed]",
      "text/plain": [
       "<Figure size 1080x360 with 1 Axes>"
      ]
     },
     "metadata": {
      "needs_background": "light"
     },
     "output_type": "display_data"
    }
   ],
   "source": [
    "figSize(5, 15)\n",
    "\n",
    "subset_labels = ['supervised', 'HMM', 'RTI']\n",
    "colors = ['g', 'cornflowerblue', 'r']\n",
    "cmap   = dict(zip(subset_labels, colors))\n",
    "\n",
    "\n",
    "scores_df = df[df['method'].isin(subset_labels)]\n",
    "\n",
    "sns.stripplot(data = scores_df, x = 'Training time (sec)', y = 'ttt', \n",
    "              hue = 'method', alpha = 0.8, palette = cmap, dodge = True)\n",
    "\n",
    "ax = plt.gca()\n",
    "\n",
    "sns.boxplot(medianprops={'ls': '-', 'lw': 2, 'alpha' : 0.6,}, whiskerprops={'visible': False},\n",
    "            zorder=1, x=\"Training time (sec)\", y=\"ttt\", hue='method', data=scores_df,\n",
    "            showfliers=False, showbox=False, showcaps=False, ax=ax)\n",
    "\n",
    "#plt.yscale('log')\n",
    "handles, labels = ax.get_legend_handles_labels()\n",
    "plt.legend(handles[:3],labels[3:], frameon=True)\n",
    "ax.spines['top'].set_visible(False)\n",
    "ax.spines['right'].set_visible(False)\n",
    "\n",
    "#plt.savefig(fig_path + 'simulator/HMM_vs_RTI_efficiency', format = 'pdf')\n",
    "plt.show()"
   ]
  },
  {
   "cell_type": "code",
   "execution_count": 23,
   "metadata": {},
   "outputs": [
    {
     "name": "stdout",
     "output_type": "stream",
     "text": [
      " \n",
      " Time (sec):  40.0\n",
      "HMM vs supervised: p =  RanksumsResult(statistic=5.14845827885005, pvalue=2.6263618592003904e-07)\n",
      "RTI vs supervised: p =  RanksumsResult(statistic=6.633504454851977, pvalue=3.278090776182422e-11)\n",
      "RTI vs HMM: p =  RanksumsResult(statistic=2.142581681641333, pvalue=0.0321467033788501)\n",
      " \n",
      " Time (sec):  80.0\n",
      "HMM vs supervised: p =  RanksumsResult(statistic=-0.2594594594594595, pvalue=0.7952807578708059)\n",
      "RTI vs supervised: p =  RanksumsResult(statistic=5.108108108108108, pvalue=3.2540046598945294e-07)\n",
      "RTI vs HMM: p =  RanksumsResult(statistic=4.827027027027027, pvalue=1.3858632002771586e-06)\n",
      " \n",
      " Time (sec):  120.0\n",
      "HMM vs supervised: p =  RanksumsResult(statistic=0.8677679462179929, pvalue=0.38552138084024845)\n",
      "RTI vs supervised: p =  RanksumsResult(statistic=6.839263864779954, pvalue=7.960114981849075e-12)\n",
      "RTI vs HMM: p =  RanksumsResult(statistic=6.79900658892448, pvalue=1.0534300035786373e-11)\n",
      " \n",
      " Time (sec):  160.0\n",
      "HMM vs supervised: p =  RanksumsResult(statistic=0.2948047565018171, pvalue=0.7681430326776896)\n",
      "RTI vs supervised: p =  RanksumsResult(statistic=6.150926360232828, pvalue=7.703168172034031e-10)\n",
      "RTI vs HMM: p =  RanksumsResult(statistic=6.240866794419823, pvalue=4.3515270746000236e-10)\n",
      " \n",
      " Time (sec):  200.0\n",
      "HMM vs supervised: p =  RanksumsResult(statistic=-0.6245863485207989, pvalue=0.532242581727057)\n",
      "RTI vs supervised: p =  RanksumsResult(statistic=5.821144768213846, pvalue=5.844591674551452e-09)\n",
      "RTI vs HMM: p =  RanksumsResult(statistic=6.310820465454152, pvalue=2.7756003222121766e-10)\n"
     ]
    }
   ],
   "source": [
    "import scipy.stats\n",
    "\n",
    "for nSteps in sorted(np.unique(df['Training time (sec)'])):\n",
    "    subset = scores_df[scores_df['Training time (sec)'] == nSteps]\n",
    "    \n",
    "    print(' \\n', 'Time (sec): ', nSteps)\n",
    "    for i, method1 in enumerate(subset_labels):\n",
    "        for j, method2 in enumerate(subset_labels):\n",
    "            if i > j:\n",
    "                stat = scipy.stats.ranksums(subset[subset['method'] == method1]['ttt'], subset[subset['method'] == method2]['ttt'])\n",
    "                print(f'{method1} vs {method2}: p = ', stat)"
   ]
  },
  {
   "cell_type": "markdown",
   "metadata": {
    "collapsed": true
   },
   "source": [
    "## Click HMM vs HMM comparisons"
   ]
  },
  {
   "cell_type": "code",
   "execution_count": 1,
   "metadata": {},
   "outputs": [
    {
     "ename": "NameError",
     "evalue": "name 'figSize' is not defined",
     "output_type": "error",
     "traceback": [
      "\u001b[0;31m---------------------------------------------------------------------------\u001b[0m",
      "\u001b[0;31mNameError\u001b[0m                                 Traceback (most recent call last)",
      "\u001b[0;32m/tmp/ipykernel_9137/2187124397.py\u001b[0m in \u001b[0;36m<module>\u001b[0;34m\u001b[0m\n\u001b[0;32m----> 1\u001b[0;31m \u001b[0mfigSize\u001b[0m\u001b[0;34m(\u001b[0m\u001b[0;36m5\u001b[0m\u001b[0;34m,\u001b[0m \u001b[0;36m15\u001b[0m\u001b[0;34m)\u001b[0m\u001b[0;34m\u001b[0m\u001b[0;34m\u001b[0m\u001b[0m\n\u001b[0m\u001b[1;32m      2\u001b[0m \u001b[0;34m\u001b[0m\u001b[0m\n\u001b[1;32m      3\u001b[0m \u001b[0msubset_labels\u001b[0m \u001b[0;34m=\u001b[0m \u001b[0;34m[\u001b[0m\u001b[0;34m'supervised'\u001b[0m\u001b[0;34m,\u001b[0m \u001b[0;34m'HMM'\u001b[0m\u001b[0;34m,\u001b[0m \u001b[0;34m'Click HMM'\u001b[0m\u001b[0;34m]\u001b[0m\u001b[0;34m\u001b[0m\u001b[0;34m\u001b[0m\u001b[0m\n\u001b[1;32m      4\u001b[0m \u001b[0mcolors\u001b[0m \u001b[0;34m=\u001b[0m \u001b[0;34m[\u001b[0m\u001b[0;34m'g'\u001b[0m\u001b[0;34m,\u001b[0m \u001b[0;34m'cyan'\u001b[0m\u001b[0;34m,\u001b[0m \u001b[0;34m'orange'\u001b[0m\u001b[0;34m]\u001b[0m\u001b[0;34m\u001b[0m\u001b[0;34m\u001b[0m\u001b[0m\n\u001b[1;32m      5\u001b[0m \u001b[0mcmap\u001b[0m   \u001b[0;34m=\u001b[0m \u001b[0mdict\u001b[0m\u001b[0;34m(\u001b[0m\u001b[0mzip\u001b[0m\u001b[0;34m(\u001b[0m\u001b[0msubset_labels\u001b[0m\u001b[0;34m,\u001b[0m \u001b[0mcolors\u001b[0m\u001b[0;34m)\u001b[0m\u001b[0;34m)\u001b[0m\u001b[0;34m\u001b[0m\u001b[0;34m\u001b[0m\u001b[0m\n",
      "\u001b[0;31mNameError\u001b[0m: name 'figSize' is not defined"
     ]
    }
   ],
   "source": [
    "figSize(5, 15)\n",
    "\n",
    "subset_labels = ['supervised', 'HMM', 'Click HMM']\n",
    "colors = ['g', 'cyan', 'orange']\n",
    "cmap   = dict(zip(subset_labels, colors))\n",
    "\n",
    "\n",
    "scores_df = df[df['method'].isin(subset_labels)]\n",
    "\n",
    "sns.stripplot(data = scores_df, x = 'nSimSteps', y = 'ttt', \n",
    "              hue = 'method', alpha = 0.8, palette = cmap, dodge = True)\n",
    "\n",
    "ax = plt.gca()\n",
    "\n",
    "sns.boxplot(medianprops={'ls': '-', 'lw': 2, 'alpha' : 0.6,}, whiskerprops={'visible': False},\n",
    "            zorder=1, x=\"nSimSteps\", y=\"ttt\", hue='method', data=scores_df, \n",
    "            showfliers=False, showbox=False, showcaps=False, ax=ax)\n",
    "\n",
    "#plt.yscale('log')\n",
    "handles, labels = ax.get_legend_handles_labels()\n",
    "plt.legend(handles[:3],labels[3:], frameon=False)\n",
    "ax.spines['top'].set_visible(False)\n",
    "ax.spines['right'].set_visible(False)\n",
    "\n",
    "plt.savefig(fig_path + 'simulator/vanillaHMM_vs_clickHMM_efficiency', format = 'pdf')\n",
    "plt.show()"
   ]
  },
  {
   "cell_type": "code",
   "execution_count": 7,
   "metadata": {},
   "outputs": [
    {
     "name": "stdout",
     "output_type": "stream",
     "text": [
      " \n",
      " Time (sec):  40.0\n",
      "HMM vs supervised: p =  RanksumsResult(statistic=5.14845827885005, pvalue=2.6263618592003904e-07)\n",
      "Click HMM vs supervised: p =  RanksumsResult(statistic=-0.9795937124831982, pvalue=0.32728670981117236)\n",
      "Click HMM vs HMM: p =  RanksumsResult(statistic=-4.835346133307476, pvalue=1.3291415163252108e-06)\n",
      " \n",
      " Time (sec):  80.0\n",
      "HMM vs supervised: p =  RanksumsResult(statistic=-0.2594594594594595, pvalue=0.7952807578708059)\n",
      "Click HMM vs supervised: p =  RanksumsResult(statistic=0.7297297297297297, pvalue=0.46555540490342884)\n",
      "Click HMM vs HMM: p =  RanksumsResult(statistic=1.1189189189189188, pvalue=0.2631747310595707)\n",
      " \n",
      " Time (sec):  120.0\n",
      "HMM vs supervised: p =  RanksumsResult(statistic=0.8677679462179929, pvalue=0.38552138084024845)\n",
      "Click HMM vs supervised: p =  RanksumsResult(statistic=2.0039177314724785, pvalue=0.04507887380807854)\n",
      "Click HMM vs HMM: p =  RanksumsResult(statistic=1.1808800917605677, pvalue=0.23765036106437054)\n",
      " \n",
      " Time (sec):  160.0\n",
      "HMM vs supervised: p =  RanksumsResult(statistic=0.3428274621106165, pvalue=0.731728264800805)\n",
      "Click HMM vs supervised: p =  RanksumsResult(statistic=2.3374599689360216, pvalue=0.019415280085495305)\n",
      "Click HMM vs HMM: p =  RanksumsResult(statistic=2.2231841482324826, pvalue=0.02620338528206086)\n",
      " \n",
      " Time (sec):  200.0\n",
      "HMM vs supervised: p =  RanksumsResult(statistic=-0.6245863485207989, pvalue=0.532242581727057)\n",
      "Click HMM vs supervised: p =  RanksumsResult(statistic=1.9337193350203934, pvalue=0.05314764525601907)\n",
      "Click HMM vs HMM: p =  RanksumsResult(statistic=2.693216334821685, pvalue=0.0070766335031187694)\n"
     ]
    }
   ],
   "source": [
    "import scipy.stats\n",
    "\n",
    "for nSteps in [2000, 4000, 6000, 8000, 10000]:\n",
    "    subset = scores_df[scores_df['nSimSteps'] == nSteps]\n",
    "    \n",
    "    print(' \\n', 'Time (sec): ', 0.02 * nSteps)\n",
    "    for i, method1 in enumerate(subset_labels):\n",
    "        for j, method2 in enumerate(subset_labels):\n",
    "            if i > j:\n",
    "                stat = scipy.stats.ranksums(subset[subset['method'] == method1]['ttt'], subset[subset['method'] == method2]['ttt'])\n",
    "                print(f'{method1} vs {method2}: p = ', stat)"
   ]
  },
  {
   "cell_type": "code",
   "execution_count": null,
   "metadata": {
    "collapsed": true
   },
   "outputs": [],
   "source": []
  }
 ],
 "metadata": {
  "kernelspec": {
   "display_name": "Python 3 (ipykernel)",
   "language": "python",
   "name": "python3"
  },
  "language_info": {
   "codemirror_mode": {
    "name": "ipython",
    "version": 3
   },
   "file_extension": ".py",
   "mimetype": "text/x-python",
   "name": "python",
   "nbconvert_exporter": "python",
   "pygments_lexer": "ipython3",
   "version": "3.9.0"
  }
 },
 "nbformat": 4,
 "nbformat_minor": 4
}
