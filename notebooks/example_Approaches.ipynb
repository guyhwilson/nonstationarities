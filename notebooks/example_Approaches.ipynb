{
 "cells": [
  {
   "cell_type": "code",
   "execution_count": 1,
   "metadata": {},
   "outputs": [],
   "source": [
    "%load_ext autoreload\n",
    "%autoreload 2\n",
    "\n",
    "import numpy as np\n",
    "from scipy.io import loadmat\n",
    "import matplotlib.pyplot as plt\n",
    "import seaborn as sns\n",
    "from copy import deepcopy\n",
    "import glob, sys\n",
    "\n",
    "[sys.path.append(f) for f in glob.glob('../utils/*')]\n",
    "from preprocess import *\n",
    "from plotting_utils import *\n",
    "from lineplots import plotsd\n",
    "from stabilizer_utils import *\n",
    "from recalibration_utils import *\n",
    "from session_utils import *\n",
    "\n",
    "import hmm_utils\n",
    "from hmm import HMMRecalibration\n",
    "import stabilizer_utils\n",
    "\n",
    "from sklearn.linear_model import LinearRegression\n",
    "from sklearn.pipeline import Pipeline\n",
    "from sklearn.preprocessing import StandardScaler\n",
    "from sklearn.model_selection import cross_val_score\n",
    "\n",
    "\n",
    "min_nblocks    = 2\n",
    "participant    = 'T5'\n",
    "\n",
    "\n",
    "FILE_DIR       = '/oak/stanford/groups/shenoy/ghwilson/nonstationarities/' + participant + '/'\n",
    "fig_path       = '/home/users/ghwilson/projects/nonstationarities/figures/'\n",
    "filelist       = glob.glob(FILE_DIR + 'historical/*')\n",
    "filelist.extend(glob.glob(FILE_DIR + 'new/*'))\n",
    "\n",
    "block_constraints = getBlockConstraints(FILE_DIR)\n",
    "files             = get_Sessions(filelist, min_nblocks,  block_constraints = block_constraints)"
   ]
  },
  {
   "cell_type": "markdown",
   "metadata": {},
   "source": [
    "### train linear regression on day 0, get baseline performance measure\n"
   ]
  },
  {
   "cell_type": "code",
   "execution_count": 2,
   "metadata": {},
   "outputs": [],
   "source": [
    "# general settings:\n",
    "ref_idx    = 1\n",
    "new_idx    = 5\n",
    "train_size = 0.67\n",
    "sigma      = 2\n",
    "task       = None\n",
    "\n",
    "# recalibration settings:\n",
    "hmm_cfg  = {'gridSize' : 20, 'stayProb' : 0.999, 'vmKappa' : 2, 'inflection' : 70, 'exp' : 0.5, 'probThreshold' : 'probWeighted'}\n",
    "stab_cfg = {'model_type' : 'FactorAnalysis', 'n_components' : 6, 'B' : 160, 'thresh' : 0.01}"
   ]
  },
  {
   "cell_type": "code",
   "execution_count": 3,
   "metadata": {},
   "outputs": [
    {
     "name": "stdout",
     "output_type": "stream",
     "text": [
      "Performance on reference day: R^2 =  0.43060201416462096\n",
      "Performance on reference day w/ latent decoder: R^2 =  0.38145521028658075\n"
     ]
    }
   ],
   "source": [
    "# Get initial day performance and decoder:\n",
    "fields     = ['TX', 'cursorPos', 'targetPos']\n",
    "\n",
    "\n",
    "ref_file    = files[ref_idx]\n",
    "day0        = DataStruct(ref_file, alignScreens = True, causal_filter = sigma)\n",
    "session_dat = getTrainTest(day0, train_size = train_size, task = task, blocks = block_constraints[ref_file], \n",
    "                           fields = fields, returnFlattened = True)\n",
    "\n",
    "ref_train_y     = np.concatenate(session_dat['train_targetPos']) - np.concatenate(session_dat['train_cursorPos'])\n",
    "ref_test_y      = np.concatenate(session_dat['test_targetPos']) - np.concatenate(session_dat['test_cursorPos'])\n",
    "ref_train_x, ref_test_x = subtractMeans(session_dat['train_TX'], session_dat['test_TX'], method = 'blockwise', concatenate = True)\n",
    "\n",
    "# fit a regular regression model\n",
    "ref_decoder = LinearRegression(fit_intercept = False).fit(ref_train_x, ref_train_y)\n",
    "ref_score   = ref_decoder.score(ref_test_x, ref_test_y)\n",
    "\n",
    "# fit a factor-analysis based model\n",
    "stab = stabilizer_utils.Stabilizer(model_type = stab_cfg['model_type'], n_components = stab_cfg['n_components'])\n",
    "stab.fit_ref(ref_train_x)\n",
    "stab_data  = {'ref_latents' : stab.ref_model.transform(ref_test_x),\n",
    "              'ref_y' : ref_test_y}\n",
    "\n",
    "latent_decoder = LinearRegression(fit_intercept = False).fit(stab.ref_model.transform(ref_train_x), ref_train_y)\n",
    "latent_score   = latent_decoder.score(stab.ref_model.transform(ref_test_x), ref_test_y)\n",
    "\n",
    "print('Performance on reference day: R^2 = ', ref_score)\n",
    "print('Performance on reference day w/ latent decoder: R^2 = ', latent_score)"
   ]
  },
  {
   "cell_type": "markdown",
   "metadata": {},
   "source": [
    "Load new data, fit HMM on noisy outputs from old decoder"
   ]
  },
  {
   "cell_type": "code",
   "execution_count": 143,
   "metadata": {},
   "outputs": [],
   "source": [
    "# now test on new day\n",
    "\n",
    "file        = files[new_idx]\n",
    "new_dat     = DataStruct(file, alignScreens = True, causal_filter = sigma)\n",
    "blocks      = block_constraints[file]\n",
    "session_dat = getTrainTest(new_dat, train_size = train_size, task = task, blocks = blocks, fields = fields, returnFlattened = True)\n",
    "\n",
    "new_train_y         = np.concatenate(session_dat['train_targetPos']) - np.concatenate(session_dat['train_cursorPos'])\n",
    "new_test_y          = np.concatenate(session_dat['test_targetPos']) - np.concatenate(session_dat['test_cursorPos'])\n",
    "new_train_x, new_test_x = subtractMeans(session_dat['train_TX'], session_dat['test_TX'], method = 'blockwise', concatenate = True)\n",
    "new_cursorPos       = np.concatenate(session_dat['train_cursorPos'])\n",
    "new_targetPos       = np.concatenate(session_dat['train_targetPos'])\n",
    "\n",
    "\n",
    "# HMM fitting:\n",
    "nStates         = hmm_cfg['gridSize']**2\n",
    "stateTrans      = np.eye(nStates) * hmm_cfg['stayProb'] #Define the state transition matrix, which assumes uniform transition probability of transitioning to new state\n",
    "targLocs        = hmm_utils.get_DiscreteTargetGrid(new_dat, gridSize = hmm_cfg['gridSize'], task = task)\n",
    "\n",
    "for x in range(nStates):\n",
    "    idx                = np.setdiff1d(np.arange(nStates), x)\n",
    "    stateTrans[x, idx] = (1-hmm_cfg['stayProb'])/(nStates-1)\n",
    "    \n",
    "pStateStart = np.zeros((nStates,1)) + (1/nStates)\n",
    "adjustKappa = lambda dist : 1 / (1 + np.exp(-1 * (dist - hmm_cfg['inflection']) * hmm_cfg['exp']))\n",
    "\n",
    "hmm         = HMMRecalibration(stateTrans, targLocs, pStateStart, hmm_cfg['vmKappa'], adjustKappa)\n",
    "rawDecTraj  = ref_decoder.predict(new_train_x)\n",
    "\n",
    "viterbi_seq, viterbi_prob = hmm.viterbi_search(rawDecTraj, new_cursorPos)\n",
    "targStates, pTargState    = hmm.decode(rawDecTraj, new_cursorPos)\n",
    "maxProb                   = np.max(targStates, axis = 0)  # get P(H_i | O_1, ...., O_n)\n",
    "inferredTargLoc           = targLocs[viterbi_seq.astype(int), :] "
   ]
  },
  {
   "cell_type": "code",
   "execution_count": 168,
   "metadata": {},
   "outputs": [
    {
     "data": {
      "image/png": "[encoded data removed]",
      "text/plain": [
       "<Figure size 750x750 with 2 Axes>"
      ]
     },
     "metadata": {
      "needs_background": "light"
     },
     "output_type": "display_data"
    }
   ],
   "source": [
    "import matplotlib.animation\n",
    "import matplotlib.pyplot as plt\n",
    "import numpy as np\n",
    "from mpl_toolkits.axes_grid1 import make_axes_locatable\n",
    "\n",
    "figSize(5, 5)\n",
    "plt.rcParams[\"animation.html\"] = \"jshtml\"\n",
    "plt.rcParams['figure.dpi'] = 150  \n",
    "#plt.ioff()\n",
    "fig = plt.figure()\n",
    "\n",
    "marker_size = 20\n",
    "cursor_color = 'white'\n",
    "target_color = 'k'\n",
    "cmap         = 'hot_r'\n",
    "toggle_log   = True\n",
    "\n",
    "\n",
    "\n",
    "def get_data(t):\n",
    "    cursor = (new_cursorPos[t, :] - np.min(targLocs, axis = 0)) / (np.max(targLocs, axis = 0) - np.min(targLocs, axis = 0))\n",
    "    cursor *= 20\n",
    "    cursor = np.maximum(cursor, 0)\n",
    "    cursor = np.minimum(cursor, 20)\n",
    "    \n",
    "    target = (new_targetPos[t, :] - np.min(targLocs, axis = 0)) / (np.max(targLocs, axis = 0) - np.min(targLocs, axis = 0))\n",
    "    target *= 20\n",
    "    target = np.maximum(target, 0)\n",
    "    target = np.minimum(target, 20)\n",
    "    \n",
    "    if toggle_log:\n",
    "        probs = np.log(targStates[:, t].reshape(20, 20))\n",
    "\n",
    "    else:\n",
    "        probs = targStates[:, t].reshape(20, 20)\n",
    "    \n",
    "    return cursor, target, probs\n",
    "\n",
    "\n",
    "cursor, target, probs = get_data(0)\n",
    "\n",
    "\n",
    "if toggle_log:\n",
    "    vmin  = np.log(0.0025)\n",
    "    vmax  = np.log(0.99)\n",
    "else:\n",
    "    vmin  = 0\n",
    "    vmax  = 0.99   \n",
    "\n",
    "im     = plt.imshow(probs, cmap = cmap, vmin = vmin, vmax = vmax)\n",
    "\n",
    "targ   = plt.scatter(target[0], target[1], c = target_color, s = marker_size * 50, alpha = 0.7)\n",
    "curs   = plt.scatter(cursor[0], cursor[1], c = cursor_color, s = marker_size, edgecolors = 'k')\n",
    "\n",
    "plt.xlim(0, 20)\n",
    "plt.ylim(0, 20)\n",
    "\n",
    "ax     = plt.gca()\n",
    "\n",
    "divider = make_axes_locatable(ax)\n",
    "cax = divider.append_axes(\"right\", size=\"5%\", pad=0.2)\n",
    "cbar = plt.colorbar(im, cax=cax)\n",
    "cbar.set_label('PRI-T log prob')\n",
    "\n",
    "ax.set_yticks([])\n",
    "ax.set_xticks([])\n",
    "\n",
    "\n",
    "def animateinit(): #tells our animator what artists will need re-drawing every time\n",
    "    return [im, targ, curs]\n",
    "\n",
    "def animate(t):\n",
    "    idx    = t + 6000\n",
    "    \n",
    "    cursor, target, probs = get_data(idx)\n",
    "    \n",
    "    #plt.cla()\n",
    "    im.set_array(probs)\n",
    "\n",
    "    targ.set_offsets(np.c_[target[0], target[1]])\n",
    "    curs.set_offsets(np.c_[cursor[0], cursor[1]])\n",
    "\n",
    "\n",
    "    return [im, targ, curs]\n",
    "\n",
    "\n",
    "anim = matplotlib.animation.FuncAnimation(fig, animate, init_func = animateinit, \n",
    "                                          frames=1000, interval = 20, blit = True)\n",
    "anim.save('../figures/HMM/PRIT_example.mp4')"
   ]
  },
  {
   "cell_type": "code",
   "execution_count": null,
   "metadata": {},
   "outputs": [],
   "source": []
  },
  {
   "cell_type": "markdown",
   "metadata": {},
   "source": [
    "Then fit stabilizer on new data"
   ]
  },
  {
   "cell_type": "code",
   "execution_count": null,
   "metadata": {},
   "outputs": [],
   "source": [
    "stab.fit_new(new_train_x, B = stab_cfg['B'], thresh = stab_cfg['thresh'])\n",
    "\n",
    "stab_data['new_latents'] = stab.ref_model.transform(new_test_x)\n",
    "stab_data['new_y']       = test_y\n",
    "\n",
    "stab_data['stabilized_latents'] = stab.transform(new_test_x)\n",
    "stab_data['stabilized_y']       = new_test_y"
   ]
  },
  {
   "cell_type": "code",
   "execution_count": null,
   "metadata": {},
   "outputs": [],
   "source": [
    "import CosineTuning\n",
    "from mpl_toolkits import mplot3d\n",
    "\n",
    "figSize(7, 20)\n",
    "\n",
    "\n",
    "for i, field in enumerate(['ref', 'stabilized', 'new']):\n",
    "    displacements = stab_data[field + '_y']\n",
    "    latents       = stab_data[field + '_latents']\n",
    "    #latents = firingrate.gaussian_filter1d(latents, axis = 0, sigma = 2, causal=True)\n",
    "    #displacements = firingrate.gaussian_filter1d(displacements, axis = 0, sigma = 2, causal=True)\n",
    "\n",
    "    time_idxs = np.where(np.linalg.norm(displacements, axis = 1) > 200)[0]#[1000:7000]\n",
    "    angles    = CosineTuning.getAngles(displacements[time_idxs])\n",
    "    coords    = latents[time_idxs, :3]\n",
    "    \n",
    "    ax     = plt.subplot(1, 3, i + 1, projection='3d')\n",
    "    ax.scatter3D(coords[:, 0], coords[:, 1], coords[:, 2], s= 20,\n",
    "                 c = angles, cmap = 'hsv', alpha = 0.3, rasterized = True)\n",
    "    ax.view_init(20, 320)  #320\n",
    "\n",
    "    ax.xaxis.pane.fill = False\n",
    "    ax.yaxis.pane.fill = False\n",
    "    ax.zaxis.pane.fill = False\n",
    "    ax.set_zlim([-2, 4])\n",
    "    \n",
    "    plt.xlabel('Comp 1')\n",
    "    plt.ylabel('Comp 2')\n",
    "    ax.set_zlabel('Comp 3')\n",
    "    \n",
    "    r2 = latent_decoder.score(latents, displacements)\n",
    "    plt.title('R2 = {}'.format(r2))\n",
    "\n",
    "#plt.savefig(fig_path + 'stabilizer/T5example', format = 'pdf')\n",
    "plt.show()"
   ]
  },
  {
   "cell_type": "code",
   "execution_count": null,
   "metadata": {},
   "outputs": [],
   "source": [
    "n_channels = 8\n",
    "window     = np.arange(2000)\n",
    "_ = plt.plot(window * 0.02, train_x[window, :n_channels] + np.arange(n_channels) * 300, c = 'k')\n",
    "ax = plt.gca()\n",
    "ax.spines['top'].set_visible(False)\n",
    "ax.spines['right'].set_visible(False)\n",
    "#plt.savefig(fig_path + 'HMM/T5example_firingrates', format = 'pdf')\n",
    "plt.show()"
   ]
  },
  {
   "cell_type": "code",
   "execution_count": null,
   "metadata": {},
   "outputs": [],
   "source": [
    "figSize(10, 15)\n",
    "\n",
    "window = np.arange(8000, 10000) \n",
    "\n",
    "\n",
    "plt.subplot(3, 2, 1)\n",
    "plt.imshow(train_x[window, :].T, aspect = 'auto')\n",
    "\n",
    "plt.subplot(3, 2, 3)\n",
    "_ = plt.plot(cursorPos[window, 0], label = 'x pos')\n",
    "_ = plt.plot(cursorPos[window, 1], label = 'y pos')\n",
    "ax = plt.gca()\n",
    "ax.spines['right'].set_visible(False)\n",
    "ax.spines['top'].set_visible(False)\n",
    "plt.legend()\n",
    "\n",
    "plt.subplot(3,2, 5)\n",
    "_ = plt.plot(rawDecTraj[window, 0], label = 'x velocity')\n",
    "_ = plt.plot(rawDecTraj[window, 1], label = 'y velocity')\n",
    "ax = plt.gca()\n",
    "ax.spines['right'].set_visible(False)\n",
    "ax.spines['top'].set_visible(False)\n",
    "plt.legend()\n",
    "\n",
    "\n",
    "plt.subplot(3, 2, 2)\n",
    "_ = plt.plot(targStates[:, window].T)\n",
    "ax = plt.gca()\n",
    "ax.spines['right'].set_visible(False)\n",
    "ax.spines['top'].set_visible(False)\n",
    "plt.xlabel('Time')\n",
    "plt.ylabel('Probability')\n",
    "\n",
    "titles = ['Target X-location', 'Target Y-location']\n",
    "for i in range(2):\n",
    "    plt.subplot(3, 2, (i * 2) + 4)\n",
    "    plt.plot((train_y + cursorPos)[window, i], label = 'Actual', c = 'k')\n",
    "    plt.plot(inferredTargLoc[window, i], label = 'Inferred', zorder = 10)\n",
    "    \n",
    "    ax = plt.gca()\n",
    "    ax.spines['right'].set_visible(False)\n",
    "    ax.spines['top'].set_visible(False)\n",
    "    plt.xlabel('Time')\n",
    "    plt.legend()\n",
    "    plt.title(titles[i])\n",
    "    \n",
    "#plt.savefig(fig_path + 'HMM/T5example_cursorandneural', format = 'pdf')\n",
    "\n",
    "plt.tight_layout()\n",
    "plt.show()"
   ]
  },
  {
   "cell_type": "markdown",
   "metadata": {
    "collapsed": true
   },
   "source": [
    "Now test across a series of sessions"
   ]
  },
  {
   "cell_type": "code",
   "execution_count": 92,
   "metadata": {},
   "outputs": [
    {
     "name": "stderr",
     "output_type": "stream",
     "text": [
      "/home/users/ghwilson/.local/lib/python3.9/site-packages/sklearn/linear_model/_base.py:148: FutureWarning: 'normalize' was deprecated in version 1.0 and will be removed in 1.2. Please leave the normalize parameter to its default value to silence this warning. The default behavior of this estimator is to not do any normalization. If normalization is needed please use sklearn.preprocessing.StandardScaler instead.\n",
      "  warnings.warn(\n",
      "/home/users/ghwilson/.local/lib/python3.9/site-packages/sklearn/linear_model/_base.py:148: FutureWarning: 'normalize' was deprecated in version 1.0 and will be removed in 1.2. Please leave the normalize parameter to its default value to silence this warning. The default behavior of this estimator is to not do any normalization. If normalization is needed please use sklearn.preprocessing.StandardScaler instead.\n",
      "  warnings.warn(\n",
      "/home/users/ghwilson/.local/lib/python3.9/site-packages/sklearn/linear_model/_base.py:148: FutureWarning: 'normalize' was deprecated in version 1.0 and will be removed in 1.2. Please leave the normalize parameter to its default value to silence this warning. The default behavior of this estimator is to not do any normalization. If normalization is needed please use sklearn.preprocessing.StandardScaler instead.\n",
      "  warnings.warn(\n",
      "/home/users/ghwilson/.local/lib/python3.9/site-packages/sklearn/linear_model/_base.py:148: FutureWarning: 'normalize' was deprecated in version 1.0 and will be removed in 1.2. Please leave the normalize parameter to its default value to silence this warning. The default behavior of this estimator is to not do any normalization. If normalization is needed please use sklearn.preprocessing.StandardScaler instead.\n",
      "  warnings.warn(\n"
     ]
    },
    {
     "name": "stdout",
     "output_type": "stream",
     "text": [
      "2016.10.03  finished\n"
     ]
    },
    {
     "name": "stderr",
     "output_type": "stream",
     "text": [
      "/home/users/ghwilson/.local/lib/python3.9/site-packages/sklearn/linear_model/_base.py:148: FutureWarning: 'normalize' was deprecated in version 1.0 and will be removed in 1.2. Please leave the normalize parameter to its default value to silence this warning. The default behavior of this estimator is to not do any normalization. If normalization is needed please use sklearn.preprocessing.StandardScaler instead.\n",
      "  warnings.warn(\n",
      "/home/users/ghwilson/.local/lib/python3.9/site-packages/sklearn/linear_model/_base.py:148: FutureWarning: 'normalize' was deprecated in version 1.0 and will be removed in 1.2. Please leave the normalize parameter to its default value to silence this warning. The default behavior of this estimator is to not do any normalization. If normalization is needed please use sklearn.preprocessing.StandardScaler instead.\n",
      "  warnings.warn(\n"
     ]
    },
    {
     "name": "stdout",
     "output_type": "stream",
     "text": [
      "2016.10.05  finished\n"
     ]
    },
    {
     "name": "stderr",
     "output_type": "stream",
     "text": [
      "/home/users/ghwilson/.local/lib/python3.9/site-packages/sklearn/linear_model/_base.py:148: FutureWarning: 'normalize' was deprecated in version 1.0 and will be removed in 1.2. Please leave the normalize parameter to its default value to silence this warning. The default behavior of this estimator is to not do any normalization. If normalization is needed please use sklearn.preprocessing.StandardScaler instead.\n",
      "  warnings.warn(\n",
      "/home/users/ghwilson/.local/lib/python3.9/site-packages/sklearn/linear_model/_base.py:148: FutureWarning: 'normalize' was deprecated in version 1.0 and will be removed in 1.2. Please leave the normalize parameter to its default value to silence this warning. The default behavior of this estimator is to not do any normalization. If normalization is needed please use sklearn.preprocessing.StandardScaler instead.\n",
      "  warnings.warn(\n"
     ]
    },
    {
     "name": "stdout",
     "output_type": "stream",
     "text": [
      "2016.10.07  finished\n"
     ]
    },
    {
     "name": "stderr",
     "output_type": "stream",
     "text": [
      "/home/users/ghwilson/.local/lib/python3.9/site-packages/sklearn/linear_model/_base.py:148: FutureWarning: 'normalize' was deprecated in version 1.0 and will be removed in 1.2. Please leave the normalize parameter to its default value to silence this warning. The default behavior of this estimator is to not do any normalization. If normalization is needed please use sklearn.preprocessing.StandardScaler instead.\n",
      "  warnings.warn(\n",
      "/home/users/ghwilson/.local/lib/python3.9/site-packages/sklearn/linear_model/_base.py:148: FutureWarning: 'normalize' was deprecated in version 1.0 and will be removed in 1.2. Please leave the normalize parameter to its default value to silence this warning. The default behavior of this estimator is to not do any normalization. If normalization is needed please use sklearn.preprocessing.StandardScaler instead.\n",
      "  warnings.warn(\n"
     ]
    },
    {
     "name": "stdout",
     "output_type": "stream",
     "text": [
      "2016.10.10  finished\n"
     ]
    },
    {
     "name": "stderr",
     "output_type": "stream",
     "text": [
      "/home/users/ghwilson/.local/lib/python3.9/site-packages/sklearn/linear_model/_base.py:148: FutureWarning: 'normalize' was deprecated in version 1.0 and will be removed in 1.2. Please leave the normalize parameter to its default value to silence this warning. The default behavior of this estimator is to not do any normalization. If normalization is needed please use sklearn.preprocessing.StandardScaler instead.\n",
      "  warnings.warn(\n",
      "/home/users/ghwilson/.local/lib/python3.9/site-packages/sklearn/linear_model/_base.py:148: FutureWarning: 'normalize' was deprecated in version 1.0 and will be removed in 1.2. Please leave the normalize parameter to its default value to silence this warning. The default behavior of this estimator is to not do any normalization. If normalization is needed please use sklearn.preprocessing.StandardScaler instead.\n",
      "  warnings.warn(\n"
     ]
    },
    {
     "name": "stdout",
     "output_type": "stream",
     "text": [
      "2016.10.12  finished\n"
     ]
    },
    {
     "name": "stderr",
     "output_type": "stream",
     "text": [
      "/home/users/ghwilson/.local/lib/python3.9/site-packages/sklearn/linear_model/_base.py:148: FutureWarning: 'normalize' was deprecated in version 1.0 and will be removed in 1.2. Please leave the normalize parameter to its default value to silence this warning. The default behavior of this estimator is to not do any normalization. If normalization is needed please use sklearn.preprocessing.StandardScaler instead.\n",
      "  warnings.warn(\n",
      "/home/users/ghwilson/.local/lib/python3.9/site-packages/sklearn/linear_model/_base.py:148: FutureWarning: 'normalize' was deprecated in version 1.0 and will be removed in 1.2. Please leave the normalize parameter to its default value to silence this warning. The default behavior of this estimator is to not do any normalization. If normalization is needed please use sklearn.preprocessing.StandardScaler instead.\n",
      "  warnings.warn(\n"
     ]
    },
    {
     "name": "stdout",
     "output_type": "stream",
     "text": [
      "2016.10.13  finished\n"
     ]
    },
    {
     "name": "stderr",
     "output_type": "stream",
     "text": [
      "/home/users/ghwilson/.local/lib/python3.9/site-packages/sklearn/linear_model/_base.py:148: FutureWarning: 'normalize' was deprecated in version 1.0 and will be removed in 1.2. Please leave the normalize parameter to its default value to silence this warning. The default behavior of this estimator is to not do any normalization. If normalization is needed please use sklearn.preprocessing.StandardScaler instead.\n",
      "  warnings.warn(\n",
      "/home/users/ghwilson/.local/lib/python3.9/site-packages/sklearn/linear_model/_base.py:148: FutureWarning: 'normalize' was deprecated in version 1.0 and will be removed in 1.2. Please leave the normalize parameter to its default value to silence this warning. The default behavior of this estimator is to not do any normalization. If normalization is needed please use sklearn.preprocessing.StandardScaler instead.\n",
      "  warnings.warn(\n"
     ]
    },
    {
     "name": "stdout",
     "output_type": "stream",
     "text": [
      "2016.10.17  finished\n"
     ]
    },
    {
     "name": "stderr",
     "output_type": "stream",
     "text": [
      "/home/users/ghwilson/.local/lib/python3.9/site-packages/sklearn/linear_model/_base.py:148: FutureWarning: 'normalize' was deprecated in version 1.0 and will be removed in 1.2. Please leave the normalize parameter to its default value to silence this warning. The default behavior of this estimator is to not do any normalization. If normalization is needed please use sklearn.preprocessing.StandardScaler instead.\n",
      "  warnings.warn(\n",
      "/home/users/ghwilson/.local/lib/python3.9/site-packages/sklearn/linear_model/_base.py:148: FutureWarning: 'normalize' was deprecated in version 1.0 and will be removed in 1.2. Please leave the normalize parameter to its default value to silence this warning. The default behavior of this estimator is to not do any normalization. If normalization is needed please use sklearn.preprocessing.StandardScaler instead.\n",
      "  warnings.warn(\n"
     ]
    },
    {
     "name": "stdout",
     "output_type": "stream",
     "text": [
      "2016.10.19  finished\n"
     ]
    },
    {
     "name": "stderr",
     "output_type": "stream",
     "text": [
      "/home/users/ghwilson/.local/lib/python3.9/site-packages/sklearn/linear_model/_base.py:148: FutureWarning: 'normalize' was deprecated in version 1.0 and will be removed in 1.2. Please leave the normalize parameter to its default value to silence this warning. The default behavior of this estimator is to not do any normalization. If normalization is needed please use sklearn.preprocessing.StandardScaler instead.\n",
      "  warnings.warn(\n",
      "/home/users/ghwilson/.local/lib/python3.9/site-packages/sklearn/linear_model/_base.py:148: FutureWarning: 'normalize' was deprecated in version 1.0 and will be removed in 1.2. Please leave the normalize parameter to its default value to silence this warning. The default behavior of this estimator is to not do any normalization. If normalization is needed please use sklearn.preprocessing.StandardScaler instead.\n",
      "  warnings.warn(\n"
     ]
    },
    {
     "name": "stdout",
     "output_type": "stream",
     "text": [
      "2016.10.24  finished\n"
     ]
    },
    {
     "name": "stderr",
     "output_type": "stream",
     "text": [
      "/home/users/ghwilson/.local/lib/python3.9/site-packages/sklearn/linear_model/_base.py:148: FutureWarning: 'normalize' was deprecated in version 1.0 and will be removed in 1.2. Please leave the normalize parameter to its default value to silence this warning. The default behavior of this estimator is to not do any normalization. If normalization is needed please use sklearn.preprocessing.StandardScaler instead.\n",
      "  warnings.warn(\n",
      "/home/users/ghwilson/.local/lib/python3.9/site-packages/sklearn/linear_model/_base.py:148: FutureWarning: 'normalize' was deprecated in version 1.0 and will be removed in 1.2. Please leave the normalize parameter to its default value to silence this warning. The default behavior of this estimator is to not do any normalization. If normalization is needed please use sklearn.preprocessing.StandardScaler instead.\n",
      "  warnings.warn(\n"
     ]
    },
    {
     "name": "stdout",
     "output_type": "stream",
     "text": [
      "2016.10.26  finished\n"
     ]
    },
    {
     "name": "stderr",
     "output_type": "stream",
     "text": [
      "/home/users/ghwilson/.local/lib/python3.9/site-packages/sklearn/linear_model/_base.py:148: FutureWarning: 'normalize' was deprecated in version 1.0 and will be removed in 1.2. Please leave the normalize parameter to its default value to silence this warning. The default behavior of this estimator is to not do any normalization. If normalization is needed please use sklearn.preprocessing.StandardScaler instead.\n",
      "  warnings.warn(\n",
      "/home/users/ghwilson/.local/lib/python3.9/site-packages/sklearn/linear_model/_base.py:148: FutureWarning: 'normalize' was deprecated in version 1.0 and will be removed in 1.2. Please leave the normalize parameter to its default value to silence this warning. The default behavior of this estimator is to not do any normalization. If normalization is needed please use sklearn.preprocessing.StandardScaler instead.\n",
      "  warnings.warn(\n"
     ]
    },
    {
     "name": "stdout",
     "output_type": "stream",
     "text": [
      "2016.10.31  finished\n"
     ]
    },
    {
     "name": "stderr",
     "output_type": "stream",
     "text": [
      "/home/users/ghwilson/.local/lib/python3.9/site-packages/sklearn/linear_model/_base.py:148: FutureWarning: 'normalize' was deprecated in version 1.0 and will be removed in 1.2. Please leave the normalize parameter to its default value to silence this warning. The default behavior of this estimator is to not do any normalization. If normalization is needed please use sklearn.preprocessing.StandardScaler instead.\n",
      "  warnings.warn(\n",
      "/home/users/ghwilson/.local/lib/python3.9/site-packages/sklearn/linear_model/_base.py:148: FutureWarning: 'normalize' was deprecated in version 1.0 and will be removed in 1.2. Please leave the normalize parameter to its default value to silence this warning. The default behavior of this estimator is to not do any normalization. If normalization is needed please use sklearn.preprocessing.StandardScaler instead.\n",
      "  warnings.warn(\n"
     ]
    },
    {
     "name": "stdout",
     "output_type": "stream",
     "text": [
      "2016.12.06  finished\n"
     ]
    }
   ],
   "source": [
    "import copy\n",
    "import sweep_utils\n",
    "\n",
    "\n",
    "# General parameters: \n",
    "start_idx     = 1\n",
    "n_sessions    = 12\n",
    "sigma         = 2\n",
    "pairs_folder  = '/oak/stanford/groups/shenoy/ghwilson/nonstationarities/T5/session_pairs/'\n",
    "adan_folder   = '/oak/stanford/groups/shenoy/ghwilson/nonstationarities/T5/ADAN/'\n",
    "# ---------------------------------------------------\n",
    "\n",
    "scores  = np.zeros((6, n_sessions + 1)) \n",
    "dates   = np.empty(n_sessions + 1, dtype = object)\n",
    "# rows are 0 - mean recalibration; 1 - full recalibration; \n",
    "# 2 - stabilizer recalibration; 3 - stabilizer (chained);\n",
    "# 4- PRIT recalibration (each session), 5 - ADAN recalibration\n",
    "fields  = ['TX', 'cursorPos', 'targetPos']\n",
    "\n",
    "\n",
    "# Initialize first day\n",
    "day0         = DataStruct(files[start_idx], alignScreens = True, causal_filter = sigma)\n",
    "session_dat  = getTrainTest(day0, train_size = train_size, task = task, blocks = block_constraints[files[start_idx]],\n",
    "                            fields = fields, returnFlattened = True)\n",
    "\n",
    "train_y         = np.concatenate(session_dat['train_targetPos']) - np.concatenate(session_dat['train_cursorPos'])\n",
    "test_y          = np.concatenate(session_dat['test_targetPos']) - np.concatenate(session_dat['test_cursorPos'])\n",
    "train_x, test_x = get_BlockwiseMeanSubtracted(session_dat['train_TX'], session_dat['test_TX'], concatenate = True)\n",
    "\n",
    "# All decoders (override stabilizer and ADAN with their own values later)\n",
    "ref_decoder   = LinearRegression(fit_intercept = False, normalize = False).fit(train_x, train_y)\n",
    "scores[:, 0]  = ref_decoder.score(test_x, test_y)\n",
    "dates[0]      = day0.date\n",
    "\n",
    "# stabilizer\n",
    "stab = stabilizer_utils.Stabilizer(model_type = stab_cfg['model_type'], n_components = stab_cfg['n_components'])\n",
    "stab.fit_ref(train_x)\n",
    "stab_daisychained = copy.deepcopy(stab)\n",
    "latent_decoder = LinearRegression(fit_intercept = False, normalize = False).fit(stab.ref_model.transform(train_x), train_y)\n",
    "scores[3, 0]   = latent_decoder.score(stab.ref_model.transform(test_x), test_y)\n",
    "\n",
    "# ADAN\n",
    "scores_file  = os.path.join(adan_folder, 'models/scores', f'scores_{start_idx}.npy')\n",
    "scores[5, 0] = np.load(scores_file)[0][0]\n",
    "adan_files   = glob.glob(os.path.join(adan_folder, 'test', '*'))\n",
    "adan_scores  = sweep_utils.getSummaryDataFrame(adan_files, ['R2_score', 'file', 'days_apart'], prune = None)\n",
    "\n",
    "\n",
    "models        = list()\n",
    "hmm_new_ref   = deepcopy(ref_decoder)\n",
    "for i, file_idx in enumerate(range(start_idx + 1, start_idx + 1 + n_sessions)):\n",
    "    \n",
    "    new_date  = re.search(r'(\\d+.\\d+.\\d+.mat)', files[file_idx]).group(0).split('.mat')[0]\n",
    "    pair_file = glob.glob(os.path.join(pairs_folder, f'{day0.date}_to_{new_date}.npy'))[0]\n",
    "    pair_data = np.load(pair_file, allow_pickle = True).item()\n",
    "    dates[i+1] = new_date\n",
    "    \n",
    "    train_x = pair_data['B_train_neural']\n",
    "    test_x  = pair_data['B_test_neural']\n",
    "    train_y = pair_data['B_train_targvec']\n",
    "    test_y  = pair_data['B_test_targvec']\n",
    "    cursorPos = pair_data['B_train_cursor']\n",
    "        \n",
    "    # fit stabilizers to new day\n",
    "    stab.fit_new(train_x, B = stab_cfg['B'], thresh = stab_cfg['thresh'])\n",
    "    stab_daisychained.fit_new(train_x, B = stab_cfg['B'], thresh = stab_cfg['thresh'], daisy_chain = True)\n",
    "    \n",
    "    test_latent              = stab.transform(test_x)\n",
    "    test_latent_daisychained = stab_daisychained.transform(test_x)\n",
    "    \n",
    "    # apply PRIT to new day\n",
    "    hmm_new_ref  = hmm.recalibrate(hmm_new_ref, [train_x], [cursorPos], probThreshold = hmm_cfg['probThreshold'])\n",
    "\n",
    "    scores[0, i+1] = ref_decoder.score(test_x, test_y)                                               # mean recalibration\n",
    "    scores[1, i+1] = LinearRegression(normalize = False).fit(train_x, train_y).score(test_x, test_y) # full recalibration\n",
    "    \n",
    "    scores[2, i+1] = latent_decoder.score(test_latent, test_y)\n",
    "    scores[3, i+1] = latent_decoder.score(test_latent_daisychained, test_y)\n",
    "    scores[4, i+1] = hmm_new_ref.score(test_x, test_y)\n",
    "    scores[5, i+1] = adan_scores[adan_scores['file'] == pair_file]['R2_score']\n",
    "   \n",
    "    print(new_date, ' finished')"
   ]
  },
  {
   "cell_type": "code",
   "execution_count": 95,
   "metadata": {},
   "outputs": [
    {
     "data": {
      "image/png": "[encoded data removed]",
      "text/plain": [
       "<Figure size 1800x360 with 1 Axes>"
      ]
     },
     "metadata": {
      "needs_background": "light"
     },
     "output_type": "display_data"
    }
   ],
   "source": [
    "from preprocess import daysBetween\n",
    "figSize(5, 25)\n",
    "\n",
    "days = [daysBetween(dates[0], dates[i]) for i in range(len(dates))]\n",
    "\n",
    "plt.subplot(1, 2, 1)\n",
    "labels = ['Mean Recalibration', 'Full recalibration', 'Stabilizer', \n",
    "          'Stabilizer (daisy-chained)', 'PRI-T', 'ADAN']\n",
    "colors = ['black', 'green', 'orange', 'pink', 'skyblue', 'r']\n",
    "\n",
    "for i in range(6):\n",
    "    plt.plot(days, scores[i, :].T, label = labels[i], color = colors[i])\n",
    "\n",
    "plt.ylim([-0.2, 0.6]) \n",
    "plt.xlabel('Days since reference session', fontweight = 'bold')\n",
    "plt.ylabel('R^2', fontweight = 'bold')\n",
    "plt.axhline(0, color = 'k', linestyle = '--', alpha  = 0.7)\n",
    "plt.title('Decoder performance across time', fontweight = 'bold')\n",
    "plt.legend()\n",
    "\n",
    "ax = plt.gca()\n",
    "ax.spines['top'].set_visible(False)\n",
    "ax.spines['right'].set_visible(False)\n",
    "\n",
    "plt.tight_layout()\n",
    "plt.savefig(fig_path + 'HMM/T5example_HMM_and_stab_stretch', format = 'pdf')\n",
    "plt.show()"
   ]
  },
  {
   "cell_type": "code",
   "execution_count": null,
   "metadata": {},
   "outputs": [],
   "source": []
  }
 ],
 "metadata": {
  "kernelspec": {
   "display_name": "Python 3 (ipykernel)",
   "language": "python",
   "name": "python3"
  },
  "language_info": {
   "codemirror_mode": {
    "name": "ipython",
    "version": 3
   },
   "file_extension": ".py",
   "mimetype": "text/x-python",
   "name": "python",
   "nbconvert_exporter": "python",
   "pygments_lexer": "ipython3",
   "version": "3.9.0"
  }
 },
 "nbformat": 4,
 "nbformat_minor": 4
}
