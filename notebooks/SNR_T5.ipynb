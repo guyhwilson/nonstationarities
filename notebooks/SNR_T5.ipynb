{
 "cells": [
  {
   "cell_type": "code",
   "execution_count": null,
   "metadata": {},
   "outputs": [],
   "source": [
    "%load_ext autoreload\n",
    "%autoreload 2\n",
    "\n",
    "import numpy as np\n",
    "from scipy.io import loadmat\n",
    "import matplotlib.pyplot as plt\n",
    "from copy import deepcopy\n",
    "import glob, sys\n",
    "\n",
    "[sys.path.append(f) for f in glob.glob('../utils/*')]\n",
    "from preprocess import *\n",
    "from plotting_utils import *\n",
    "from lineplots import plotsd\n",
    "from recalibration_utils import *\n",
    "from session_utils import *\n",
    "from hmm_utils import prep_HMMData\n",
    "\n",
    "from sklearn.linear_model import LinearRegression\n",
    "from sklearn.pipeline import Pipeline\n",
    "from sklearn.preprocessing import StandardScaler\n",
    "from sklearn.model_selection import cross_val_score\n",
    "\n",
    "min_nblocks    = 3\n",
    "participant    = 'T5'\n",
    "\n",
    "FILE_DIR       = '/oak/stanford/groups/shenoy/gwilson/nonstationarities/' + participant + '/'\n",
    "fig_path       = '/home/users/ghwilson/projects/nonstationarities/figures/'\n",
    "filelist       = glob.glob(FILE_DIR + 'historical/*')\n",
    "filelist.extend(glob.glob(FILE_DIR + 'new/*'))\n",
    "\n",
    "sessions_check = np.load('../utils/misc_data/OldSessions_check.npy', allow_pickle = True).item()\n",
    "files          = get_Sessions(filelist, min_nblocks,  manually_remove = None)\n"
   ]
  },
  {
   "cell_type": "markdown",
   "metadata": {},
   "source": [
    "## Do some RT and target dwell period characterizations\n",
    "\n",
    "For a linear decoder with outputs $ u_{t} \\in \\mathbb{R}^{2} $, and a correct unit-norm point-at-target vector $p_{t}$, we can model:\n",
    "\n",
    "  $u_{t} = \\alpha p_{t} + N(0, \\sigma^{2}) $\n",
    "\n",
    "and define $SNR = \\alpha / \\sigma $. To model this effectively we chop out:\n",
    "\n",
    "- RT interval - when participant is not yet using the decoder  (we'll determine this below)\n",
    "- near target - where outputs can vary quickly with respect to $p_{t}$  (we determine this in *behavior_clicks.ipynb*)"
   ]
  },
  {
   "cell_type": "code",
   "execution_count": null,
   "metadata": {},
   "outputs": [],
   "source": [
    "figSize(10, 20)\n",
    "\n",
    "np.random.seed(42)\n",
    "diffs           = list()\n",
    "task            = 'cursor'\n",
    "\n",
    "for i, f in enumerate(np.random.choice(files, 4, replace = False)):\n",
    "    dat       = DataStruct(f, alignScreens = True)\n",
    "   # blocks    = [sessions_check[f] if  f in sessions_check.keys() else None][0]\n",
    "    \n",
    "    _, cursorPos, targPos = getNeuralCursorTarget(dat, task = task)\n",
    "    \n",
    "    cursorPos = np.concatenate(cursorPos)\n",
    "    targPos   = np.concatenate(targPos)\n",
    "    cursorErr = [targ - cur for targ, cur in zip(targPos, cursorPos)]\n",
    "    \n",
    "    minlen     = np.min([cursorErr[i].shape[0] for i in range(len(cursorErrs))])\n",
    "    starts     = np.dstack([cursorErr[i][:minlen, :] for i in range(len(cursorErrs))])\n",
    "    dists      = np.linalg.norm(starts, axis = 1)\n",
    "\n",
    "    plt.subplot(2, 4, i + 1)\n",
    "    _ = plt.plot(dists / dists.max(axis = 0), color = 'k', alpha = 0.1)\n",
    "    plt.ylabel('Distance (normalized)')\n",
    "    plt.xlabel('Timebins')\n",
    "    plt.title('Cursor-to-target distance around trial start')\n",
    "    \n",
    "    minlen     = np.min([cursorPos[i].shape[0] for i in range(len(cursorPos))])\n",
    "    velocities = [np.diff(cursorPos[i][:minlen, :], axis = 0) for i in range(len(cursorPos))]\n",
    "    magnitudes = [np.linalg.norm(velocities[i], axis = 1) for i in range(len(cursorPos))]\n",
    "    \n",
    "    plt.subplot(2, 4, i + 5)\n",
    "    for trl in magnitudes:\n",
    "        plt.plot(trl - trl.min(), color = 'k', alpha = 0.2)\n",
    "        \n",
    "    plt.ylabel('Velocity')\n",
    "    plt.xlabel('Timebins')\n",
    "    plt.title('Velocity magnitudes around trial start')\n",
    "\n",
    "    "
   ]
  },
  {
   "cell_type": "code",
   "execution_count": 156,
   "metadata": {},
   "outputs": [
    {
     "data": {
      "text/plain": [
       "524"
      ]
     },
     "execution_count": 156,
     "metadata": {},
     "output_type": "execute_result"
    }
   ],
   "source": [
    "len(train_cursorPos)"
   ]
  },
  {
   "cell_type": "code",
   "execution_count": 7,
   "metadata": {},
   "outputs": [
    {
     "name": "stderr",
     "output_type": "stream",
     "text": [
      "/share/software/user/open/py-scikit-learn/0.19.1_py36/lib/python3.6/site-packages/sklearn/model_selection/_split.py:2026: FutureWarning: From version 0.21, test_size will always complement train_size unless both are specified.\n",
      "  FutureWarning)\n",
      "<string>:6: VisibleDeprecationWarning: Creating an ndarray from ragged nested sequences (which is a list-or-tuple of lists-or-tuples-or ndarrays with different lengths or shapes) is deprecated. If you meant to do this, you must specify 'dtype=object' when creating the ndarray\n"
     ]
    },
    {
     "ename": "IndexError",
     "evalue": "index 231 is out of bounds for axis 0 with size 231",
     "output_type": "error",
     "traceback": [
      "\u001b[0;31m---------------------------------------------------------------------------\u001b[0m",
      "\u001b[0;31mIndexError\u001b[0m                                Traceback (most recent call last)",
      "\u001b[0;32m<ipython-input-7-25d336124625>\u001b[0m in \u001b[0;36m<module>\u001b[0;34m()\u001b[0m\n\u001b[1;32m     42\u001b[0m     \u001b[0;32mfor\u001b[0m \u001b[0mj\u001b[0m \u001b[0;32min\u001b[0m \u001b[0mnp\u001b[0m\u001b[0;34m.\u001b[0m\u001b[0mrandom\u001b[0m\u001b[0;34m.\u001b[0m\u001b[0mchoice\u001b[0m\u001b[0;34m(\u001b[0m\u001b[0mn_trls\u001b[0m\u001b[0;34m,\u001b[0m \u001b[0mn_plot\u001b[0m\u001b[0;34m,\u001b[0m \u001b[0mreplace\u001b[0m \u001b[0;34m=\u001b[0m \u001b[0;32mFalse\u001b[0m\u001b[0;34m)\u001b[0m\u001b[0;34m:\u001b[0m\u001b[0;34m\u001b[0m\u001b[0m\n\u001b[1;32m     43\u001b[0m         \u001b[0mstart\u001b[0m      \u001b[0;34m=\u001b[0m \u001b[0minput_starts\u001b[0m\u001b[0;34m[\u001b[0m\u001b[0mj\u001b[0m\u001b[0;34m]\u001b[0m\u001b[0;34m\u001b[0m\u001b[0m\n\u001b[0;32m---> 44\u001b[0;31m         \u001b[0mstop\u001b[0m       \u001b[0;34m=\u001b[0m \u001b[0minput_starts\u001b[0m\u001b[0;34m[\u001b[0m\u001b[0mj\u001b[0m \u001b[0;34m+\u001b[0m \u001b[0;36m1\u001b[0m\u001b[0;34m]\u001b[0m \u001b[0;34m-\u001b[0m \u001b[0;36m1\u001b[0m\u001b[0;34m\u001b[0m\u001b[0m\n\u001b[0m\u001b[1;32m     45\u001b[0m         \u001b[0mtarg\u001b[0m       \u001b[0;34m=\u001b[0m \u001b[0minput_target\u001b[0m\u001b[0;34m[\u001b[0m\u001b[0mstop\u001b[0m\u001b[0;34m,\u001b[0m \u001b[0;34m:\u001b[0m\u001b[0;34m]\u001b[0m\u001b[0;34m\u001b[0m\u001b[0m\n\u001b[1;32m     46\u001b[0m         \u001b[0mtrl_cursor\u001b[0m \u001b[0;34m=\u001b[0m \u001b[0minput_cursor\u001b[0m\u001b[0;34m[\u001b[0m\u001b[0mstart\u001b[0m\u001b[0;34m:\u001b[0m\u001b[0mstop\u001b[0m\u001b[0;34m,\u001b[0m \u001b[0;34m:\u001b[0m\u001b[0;34m]\u001b[0m \u001b[0;34m-\u001b[0m \u001b[0minput_cursor\u001b[0m\u001b[0;34m[\u001b[0m\u001b[0mstart\u001b[0m\u001b[0;34m,\u001b[0m \u001b[0;34m:\u001b[0m\u001b[0;34m]\u001b[0m\u001b[0;34m\u001b[0m\u001b[0m\n",
      "\u001b[0;31mIndexError\u001b[0m: index 231 is out of bounds for axis 0 with size 231"
     ]
    }
   ],
   "source": [
    "from metrics import estimateSNR\n",
    "figSize(10, 10)\n",
    "\n",
    "# general settings:\n",
    "np.random.seed(42)\n",
    "diffs           = list()\n",
    "task            = 'cursor'\n",
    "train_size      = 0.67\n",
    "sigma           = None\n",
    "n_plot          = 20   # number of reach trajectories to plot \n",
    "\n",
    "# SNR calculation settings:\n",
    "thresh          = 150  # only calculate SNR using points far from target\n",
    "cutStart        = 10   # exclude first 10 timesteps (200 ms to account for RT)\n",
    "\n",
    "for i, f in enumerate(np.random.choice(files, 4, replace = False)):\n",
    "    dat       = DataStruct(f, alignScreens = True)\n",
    "   # blocks    = [sessions_check[f] if  f in sessions_check.keys() else None][0]\n",
    "    \n",
    "    train_x, test_x, train_y, test_y, train_cursorPos, test_cursorPos = getTrainTest(dat, train_size, task = task, blocks = None, sigma = sigma, \n",
    "                                                                                    returnCursor = True, returnFlattened = False)\n",
    "    # combine across blocks\n",
    "    train_x = np.concatenate(train_x)\n",
    "    test_x  = np.concatenate(test_x)\n",
    "    train_y = np.concatenate(train_y)\n",
    "    test_y  = np.concatenate(test_y)\n",
    "    train_cursorPos = np.concatenate(train_cursorPos)\n",
    "    test_cursorPos  = np.concatenate(test_cursorPos)\n",
    "    \n",
    "    \n",
    "    n_trls       = len(train_x)\n",
    "    input_neural = np.vstack(train_x)\n",
    "    input_cursor = np.vstack(train_cursorPos)\n",
    "    input_target = np.vstack(train_y) + input_cursor\n",
    "    input_starts = np.cumsum([x.shape[0] for x in train_x])\n",
    "    \n",
    "    _, usedIdx = estimateSNR(input_neural, input_cursor, input_target, input_starts, minDist = thresh, cutStart = cutStart)\n",
    "    \n",
    "    plt.subplot(2, 2, i + 1)\n",
    "    plt.xlabel('X-pos')\n",
    "    plt.ylabel('Y-pos')\n",
    "    for j in np.random.choice(n_trls, n_plot, replace = False):\n",
    "        start      = input_starts[j]\n",
    "        stop       = input_starts[j + 1] - 1\n",
    "        targ       = input_target[stop, :] \n",
    "        trl_cursor = input_cursor[start:stop, :] - input_cursor[start, :]\n",
    "        \n",
    "        used       = np.in1d(np.arange(start, stop), usedIdx) \n",
    "        unused     = ~ used\n",
    "        \n",
    "        _ = plt.scatter(trl_cursor[used, 0], trl_cursor[used, 1], color = 'b', alpha = 0.1)\n",
    "        _ = plt.scatter(trl_cursor[unused, 0], trl_cursor[unused, 1], color = 'k', alpha = 0.1)\n",
    "       # plt.scatter(targ[0], targ[1], color = 'k')\n",
    "\n",
    "plt.savefig(fig_path + 'SNR/T5_exampleTrialsColored', format = 'pdf')"
   ]
  },
  {
   "cell_type": "code",
   "execution_count": 37,
   "metadata": {},
   "outputs": [
    {
     "name": "stderr",
     "output_type": "stream",
     "text": [
      "/share/software/user/open/py-scikit-learn/0.19.1_py36/lib/python3.6/site-packages/sklearn/model_selection/_split.py:2026: FutureWarning: From version 0.21, test_size will always complement train_size unless both are specified.\n",
      "  FutureWarning)\n",
      "<string>:6: VisibleDeprecationWarning: Creating an ndarray from ragged nested sequences (which is a list-or-tuple of lists-or-tuples-or ndarrays with different lengths or shapes) is deprecated. If you meant to do this, you must specify 'dtype=object' when creating the ndarray\n"
     ]
    },
    {
     "name": "stdout",
     "output_type": "stream",
     "text": [
      "20 / 77  complete.\n",
      "40 / 77  complete.\n",
      "60 / 77  complete.\n"
     ]
    }
   ],
   "source": [
    "\n",
    "# general settings:\n",
    "np.random.seed(42)\n",
    "diffs           = list()\n",
    "task            = None\n",
    "train_size      = 0.5\n",
    "sigma           = None\n",
    "\n",
    "# SNR calculation settings:\n",
    "thresh          = 300  # only calculate SNR using points far from target\n",
    "cutStart        = 10   # exclude first 10 timesteps (200 ms to account for RT)\n",
    "\n",
    "SNRs   = list()\n",
    "scores = list()\n",
    "for i, session in enumerate(files):  \n",
    "    dat       = DataStruct(session, alignScreens = True)\n",
    "    blocks    = [sessions_check[session] if  session in sessions_check.keys() else None][0]\n",
    "\n",
    "    train_x, test_x, train_y, test_y, train_cursorPos, test_cursorPos = getTrainTest(dat, train_size, task = task, blocks = None, sigma = sigma, returnCursor = True, returnFlattened = True)\n",
    "    # run function again to get individual trials so we can see lengths (inefficient/lazy):\n",
    "    indiv_trls = np.concatenate(getTrainTest(dat, train_size, task = task, blocks = None, sigma = sigma, returnCursor = True, returnFlattened = False)[0]) \n",
    "    \n",
    "    # blockwise subtraction:\n",
    "    train_x, test_x = get_BlockwiseMeanSubtracted(train_x, test_x, concatenate = True)\n",
    "\n",
    "    # combine other trial data across blocks:\n",
    "    train_y      = np.concatenate(train_y)\n",
    "    test_y       = np.concatenate(test_y)\n",
    "    train_cursor = np.concatenate(train_cursorPos)\n",
    "    train_target = train_y + train_cursor\n",
    "    train_starts = np.cumsum([x.shape[0] for x in indiv_trls])\n",
    "    \n",
    "    SNR, usedIdx = estimateSNR(train_x, train_cursor, train_target, train_starts, minDist = thresh, cutStart = cutStart)\n",
    "    lm           = LinearRegression().fit(train_x, train_y)\n",
    "    #scores.append( lm.score(test_x, test_y) )\n",
    "    scores.append(np.corrcoef(lm.predict(test_x).flatten(), test_y.flatten())[0, 1])\n",
    "    \n",
    "    SNRs.append(SNR)\n",
    "    \n",
    "    \n",
    "    if (i + 1) % 20 == 0:\n",
    "        print(i+1, '/', len(files), ' complete.')\n",
    "\n",
    "SNRs = np.asarray(SNRs)"
   ]
  },
  {
   "cell_type": "code",
   "execution_count": 38,
   "metadata": {},
   "outputs": [
    {
     "name": "stdout",
     "output_type": "stream",
     "text": [
      "(0.43069608025352757, 3.419542032677601)\n",
      "Median SNR:  1.5603637766576486\n"
     ]
    },
    {
     "data": {
      "image/png": "[encoded data removed]",
      "text/plain": [
       "<Figure size 1008x504 with 2 Axes>"
      ]
     },
     "metadata": {},
     "output_type": "display_data"
    }
   ],
   "source": [
    "import seaborn as sns\n",
    "figSize(7, 14)\n",
    "\n",
    "\n",
    "plt.subplot(1, 2, 1)\n",
    "plt.title('Distribution of SNRs')\n",
    "sns.boxplot(data = SNRs, orient = 'v', color = 'r')\n",
    "ax = plt.gca()\n",
    "modifyBoxPlotAlpha(ax, 0.2)\n",
    "sns.stripplot(data = SNRs, orient = 'v', color = 'r', label = 'Session', jitter = 0.1)\n",
    "plt.legend()\n",
    "print(plt.ylim())\n",
    "#plt.violinplot(SNRs)\n",
    "\n",
    "plt.subplot(1,2,2)\n",
    "plt.scatter(SNRs, scores, label = 'session', color = 'r')\n",
    "plt.ylim(-1, 1)\n",
    "plt.legend()\n",
    "plt.xlabel('SNR')\n",
    "plt.ylabel('R^2 (test)')\n",
    "plt.title('SNR vs decoder performance (T5)')\n",
    "print('Median SNR: ', np.median(SNRs))\n",
    "\n",
    "plt.tight_layout()\n",
    "plt.show()\n",
    "\n",
    "plt.savefig(fig_path + 'SNR/T5_SNR', format = 'pdf')"
   ]
  },
  {
   "cell_type": "code",
   "execution_count": null,
   "metadata": {
    "collapsed": true
   },
   "outputs": [],
   "source": []
  }
 ],
 "metadata": {
  "kernelspec": {
   "display_name": "Python 3",
   "language": "python",
   "name": "python3"
  },
  "language_info": {
   "codemirror_mode": {
    "name": "ipython",
    "version": 3
   },
   "file_extension": ".py",
   "mimetype": "text/x-python",
   "name": "python",
   "nbconvert_exporter": "python",
   "pygments_lexer": "ipython3",
   "version": "3.6.1"
  }
 },
 "nbformat": 4,
 "nbformat_minor": 4
}
