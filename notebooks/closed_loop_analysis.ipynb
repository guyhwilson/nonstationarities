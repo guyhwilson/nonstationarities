{
 "cells": [
  {
   "cell_type": "code",
   "execution_count": 88,
   "metadata": {},
   "outputs": [],
   "source": [
    "import glob\n",
    "import numpy as np\n",
    "import pickle\n",
    "\n",
    "\n",
    "sessions_dir  = '/oak/stanford/groups/shenoy/ghwilson/sessions/t5/'\n",
    "\n",
    "\n",
    "\n",
    "sessions_dict = dict()\n",
    "sessions_dict['t5.2022.05.18'] = {'stale' : [2, 4], 'stabilizer' : [3, 5], 'PRI-T' : [2, 4]} # day 0 - stale and PRI-T are the same\n",
    "\n"
   ]
  },
  {
   "cell_type": "code",
   "execution_count": 89,
   "metadata": {},
   "outputs": [],
   "source": [
    "import json\n",
    "import numpy as np\n",
    "import glob\n",
    "import pandas as pd\n",
    "import pickle \n",
    "\n",
    "\n",
    "\n",
    "def fromRedis(serialized_arr: str) -> np.array:\n",
    "    sep = '|'.encode('utf-8')\n",
    "    i_0 = serialized_arr.find(sep)\n",
    "    i_1 = serialized_arr.find(sep, i_0 + 1)\n",
    "    arr_dtype = serialized_arr[:i_0].decode('utf-8')\n",
    "    arr_shape = tuple([int(a) for a in serialized_arr[i_0 + 1:i_1].decode('utf-8').split(',')])\n",
    "    arr_str = serialized_arr[i_1 + 1:]\n",
    "    arr = np.frombuffer(arr_str, dtype = arr_dtype).reshape(arr_shape)\n",
    "    return arr\n",
    "\n",
    "\n",
    "\n",
    "def redis_to_dict(r):\n",
    "    d = dict()\n",
    "    for key, value in r.items():\n",
    "        d_key    = key.decode('utf-8')\n",
    "        \n",
    "        try:\n",
    "            d[d_key] = fromRedis(bytearray(value))\n",
    "        except:\n",
    "            d[d_key] = value\n",
    "    \n",
    "    return d\n",
    "\n",
    "\n",
    "\n",
    "def loadPickleData(pkl_files):\n",
    "    \n",
    "    df_list = list()\n",
    "    for file in pkl_files:\n",
    "        with open(file, 'rb') as f:\n",
    "            dat = pickle.load(f)['taskOutput_stream']\n",
    "            \n",
    "            dicts    = [redis_to_dict(x[1]) for x in dat]\n",
    "            df_list.append(pd.DataFrame(dicts))\n",
    "    \n",
    "    return df_list\n",
    "    "
   ]
  },
  {
   "cell_type": "code",
   "execution_count": 90,
   "metadata": {},
   "outputs": [
    {
     "name": "stdout",
     "output_type": "stream",
     "text": [
      "stale\n",
      "['/oak/stanford/groups/shenoy/ghwilson/sessions/t5/t5.2022.05.18/Data/TaskData/FittsTask/2022-05-18_block_2.pkl', '/oak/stanford/groups/shenoy/ghwilson/sessions/t5/t5.2022.05.18/Data/TaskData/FittsTask/2022-05-18_block_4.pkl']\n",
      "\n",
      "\n",
      "stabilizer\n",
      "['/oak/stanford/groups/shenoy/ghwilson/sessions/t5/t5.2022.05.18/Data/TaskData/FittsTask/2022-05-18_block_3.pkl', '/oak/stanford/groups/shenoy/ghwilson/sessions/t5/t5.2022.05.18/Data/TaskData/FittsTask/2022-05-18_block_5.pkl']\n",
      "\n",
      "\n",
      "PRI-T\n",
      "['/oak/stanford/groups/shenoy/ghwilson/sessions/t5/t5.2022.05.18/Data/TaskData/FittsTask/2022-05-18_block_2.pkl', '/oak/stanford/groups/shenoy/ghwilson/sessions/t5/t5.2022.05.18/Data/TaskData/FittsTask/2022-05-18_block_4.pkl']\n",
      "\n",
      "\n"
     ]
    }
   ],
   "source": [
    "\n",
    "sessions_data = list()\n",
    "\n",
    "for session, val in sessions_dict.items():\n",
    "    session_path = sessions_dir + session + '/Data/TaskData/FittsTask/'\n",
    "    session_df   = list()\n",
    "    \n",
    "    for method, blocks in val.items():\n",
    "        files = [glob.glob(session_path + f'*block_{x}*')[0] for x in blocks]\n",
    "        print(method)\n",
    "        print(files)\n",
    "        print('\\n')\n",
    "        \n",
    "        dat       = loadPickleData(files)\n",
    "        trl_stops = np.where(dat[0]['state'] >= 2)[0]\n",
    "        trlens    = np.diff(trl_stops) * 0.02\n",
    "        for_pd    = {'trialens' : trlens, 'method' : [method] * len(trlens)}\n",
    "        \n",
    "        session_df.append(pd.DataFrame(for_pd))\n",
    "                 \n",
    "    sessions_data.append(pd.concat(session_df))"
   ]
  },
  {
   "cell_type": "code",
   "execution_count": 91,
   "metadata": {},
   "outputs": [],
   "source": [
    "import matplotlib.pyplot as plt\n",
    "import seaborn as sns "
   ]
  },
  {
   "cell_type": "code",
   "execution_count": 102,
   "metadata": {},
   "outputs": [],
   "source": [
    "lens = sessions_data[0][sessions_data[0]['method'] == 'stale']['trialens']"
   ]
  },
  {
   "cell_type": "code",
   "execution_count": 103,
   "metadata": {},
   "outputs": [],
   "source": [
    "def getBootstrappedCIs(data, alpha, no_bootstraps = 10000):\n",
    "\n",
    "    means = np.zeros((n_bootstraps))\n",
    "    for i in range(n_bootstraps):\n",
    "        means[i] = np.random.choice(data, len(data), replace = True).mean()\n",
    "\n",
    "    upper = np.percentile(means, 100 - (alpha/2))\n",
    "    lower = np.percentile(means, alpha/2)\n",
    "    \n",
    "    return lower, upper"
   ]
  },
  {
   "cell_type": "code",
   "execution_count": 104,
   "metadata": {},
   "outputs": [],
   "source": [
    "lower, upper = getBootstrappedCIs(lens, alpha = 5, no_bootstraps = 10000)"
   ]
  },
  {
   "cell_type": "code",
   "execution_count": 105,
   "metadata": {},
   "outputs": [
    {
     "name": "stdout",
     "output_type": "stream",
     "text": [
      "mean and 95% confidence interval:  3.032911392405063 [2.58126582278481, 3.549879746835443]\n"
     ]
    }
   ],
   "source": [
    "print('mean and 95% confidence interval: ', lens.mean(), '[{}, {}]'.format(lower, upper))"
   ]
  },
  {
   "cell_type": "code",
   "execution_count": 106,
   "metadata": {},
   "outputs": [
    {
     "data": {
      "text/plain": [
       "<matplotlib.lines.Line2D at 0x7f116cd1e490>"
      ]
     },
     "execution_count": 106,
     "metadata": {},
     "output_type": "execute_result"
    },
    {
     "data": {
      "image/png": "[encoded data removed]",
      "text/plain": [
       "<Figure size 432x288 with 1 Axes>"
      ]
     },
     "metadata": {
      "needs_background": "light"
     },
     "output_type": "display_data"
    }
   ],
   "source": [
    "plt.hist(lens)\n",
    "plt.axvline(lens.mean(), color = 'k')"
   ]
  },
  {
   "cell_type": "code",
   "execution_count": null,
   "metadata": {},
   "outputs": [],
   "source": []
  },
  {
   "cell_type": "code",
   "execution_count": 37,
   "metadata": {},
   "outputs": [],
   "source": [
    "sessions_data = pd.concat(session_df)"
   ]
  },
  {
   "cell_type": "code",
   "execution_count": 41,
   "metadata": {},
   "outputs": [
    {
     "data": {
      "text/plain": [
       "<AxesSubplot:xlabel='method', ylabel='trialens'>"
      ]
     },
     "execution_count": 41,
     "metadata": {},
     "output_type": "execute_result"
    },
    {
     "data": {
      "image/png": "[encoded data removed]",
      "text/plain": [
       "<Figure size 432x288 with 1 Axes>"
      ]
     },
     "metadata": {
      "needs_background": "light"
     },
     "output_type": "display_data"
    }
   ],
   "source": [
    "sns.stripplot(data = sessions_data, x = 'method', y = 'trialens', \n",
    "              hue = 'method', alpha = 0.8, dodge = True)"
   ]
  },
  {
   "cell_type": "code",
   "execution_count": null,
   "metadata": {},
   "outputs": [],
   "source": []
  }
 ],
 "metadata": {
  "kernelspec": {
   "display_name": "Python 3 (ipykernel)",
   "language": "python",
   "name": "python3"
  },
  "language_info": {
   "codemirror_mode": {
    "name": "ipython",
    "version": 3
   },
   "file_extension": ".py",
   "mimetype": "text/x-python",
   "name": "python",
   "nbconvert_exporter": "python",
   "pygments_lexer": "ipython3",
   "version": "3.9.0"
  }
 },
 "nbformat": 4,
 "nbformat_minor": 2
}
