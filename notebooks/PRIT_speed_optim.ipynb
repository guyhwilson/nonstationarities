{
 "cells": [
  {
   "cell_type": "code",
   "execution_count": 1,
   "metadata": {},
   "outputs": [],
   "source": [
    "%load_ext autoreload\n",
    "%autoreload 2\n",
    "\n",
    "import numpy as np\n",
    "from scipy.io import loadmat\n",
    "import matplotlib.pyplot as plt\n",
    "import seaborn as sns\n",
    "from copy import deepcopy\n",
    "import glob, sys\n",
    "\n",
    "[sys.path.append(f) for f in glob.glob('../utils/*')]\n",
    "from preprocess import *\n",
    "from plotting_utils import *\n",
    "from lineplots import plotsd\n",
    "from stabilizer_utils import *\n",
    "from recalibration_utils import *\n",
    "from session_utils import *\n",
    "\n",
    "import hmm_utils\n",
    "from hmm import HMMRecalibration\n",
    "import stabilizer_utils\n",
    "\n",
    "from sklearn.linear_model import LinearRegression\n",
    "from sklearn.pipeline import Pipeline\n",
    "from sklearn.preprocessing import StandardScaler\n",
    "from sklearn.model_selection import cross_val_score\n",
    "\n",
    "\n",
    "min_nblocks    = 2\n",
    "participant    = 'T5'\n",
    "\n",
    "\n",
    "FILE_DIR       = f"{DATA_DIR}/{participant}"\n",
    "fig_path       = '/home/users/ghwilson/projects/nonstationarities/figures/'\n",
    "filelist       = glob.glob(FILE_DIR + 'historical/*')\n",
    "filelist.extend(glob.glob(FILE_DIR + 'new/*'))\n",
    "\n",
    "block_constraints = getBlockConstraints(FILE_DIR)\n",
    "files             = get_Sessions(filelist, min_nblocks,  block_constraints = block_constraints)"
   ]
  },
  {
   "cell_type": "markdown",
   "metadata": {},
   "source": [
    "### train linear regression on day 0, get baseline performance measure\n"
   ]
  },
  {
   "cell_type": "code",
   "execution_count": 4,
   "metadata": {},
   "outputs": [],
   "source": [
    "# general settings:\n",
    "ref_idx    = 1\n",
    "new_idx    = 5\n",
    "train_size = 0.67\n",
    "sigma      = 2\n",
    "task       = None\n",
    "\n",
    "# recalibration settings:\n",
    "hmm_cfg  = {'gridSize' : 20, 'stayProb' : 0.999, 'vmKappa' : 2, 'inflection' : 70, 'exp' : 0.5, 'probThreshold' : 'probWeighted'}"
   ]
  },
  {
   "cell_type": "code",
   "execution_count": 5,
   "metadata": {},
   "outputs": [
    {
     "name": "stdout",
     "output_type": "stream",
     "text": [
      "Performance on reference day: R^2 =  0.43060201416462096\n"
     ]
    }
   ],
   "source": [
    "# Get initial day performance and decoder:\n",
    "fields     = ['TX', 'cursorPos', 'targetPos']\n",
    "\n",
    "\n",
    "ref_file    = files[ref_idx]\n",
    "day0        = DataStruct(ref_file, alignScreens = True, causal_filter = sigma)\n",
    "session_dat = getTrainTest(day0, train_size = train_size, task = task, blocks = block_constraints[ref_file], \n",
    "                           fields = fields, returnFlattened = True)\n",
    "\n",
    "ref_train_y     = np.concatenate(session_dat['train_targetPos']) - np.concatenate(session_dat['train_cursorPos'])\n",
    "ref_test_y      = np.concatenate(session_dat['test_targetPos']) - np.concatenate(session_dat['test_cursorPos'])\n",
    "ref_train_x, ref_test_x = subtractMeans(session_dat['train_TX'], session_dat['test_TX'], method = 'blockwise', concatenate = True)\n",
    "\n",
    "# fit a regular regression model\n",
    "ref_decoder = LinearRegression(fit_intercept = False).fit(ref_train_x, ref_train_y)\n",
    "ref_score   = ref_decoder.score(ref_test_x, ref_test_y)\n",
    "\n",
    "print('Performance on reference day: R^2 = ', ref_score)"
   ]
  },
  {
   "cell_type": "markdown",
   "metadata": {},
   "source": [
    "Load new data, fit HMM on noisy outputs from old decoder"
   ]
  },
  {
   "cell_type": "code",
   "execution_count": 76,
   "metadata": {},
   "outputs": [
    {
     "name": "stdout",
     "output_type": "stream",
     "text": [
      "Correlation between true, inferred targets:  0.6598467885005418 \n",
      " inference speed (sec): 40.738884687423706\n"
     ]
    }
   ],
   "source": [
    "# now test on new day\n",
    "import time\n",
    "\n",
    "file        = files[new_idx]\n",
    "new_dat     = DataStruct(file, alignScreens = True, causal_filter = sigma)\n",
    "blocks      = block_constraints[file]\n",
    "session_dat = getTrainTest(new_dat, train_size = train_size, task = task, blocks = blocks, fields = fields, returnFlattened = True)\n",
    "\n",
    "\n",
    "\n",
    "new_train_y         = np.concatenate(session_dat['train_targetPos']) - np.concatenate(session_dat['train_cursorPos'])\n",
    "new_test_y          = np.concatenate(session_dat['test_targetPos']) - np.concatenate(session_dat['test_cursorPos'])\n",
    "new_train_x, new_test_x = subtractMeans(session_dat['train_TX'], session_dat['test_TX'], method = 'blockwise', concatenate = True)\n",
    "new_cursorPos       = np.concatenate(session_dat['train_cursorPos'])\n",
    "new_targetPos       = np.concatenate(session_dat['train_targetPos'])\n",
    "\n",
    "\n",
    "# HMM fitting:\n",
    "targLocs                = hmm_utils.generateTargetGrid(gridSize = hmm_cfg['gridSize'], is_simulated = False, struct = new_dat)\n",
    "stateTrans, pStateStart = hmm_utils.generateTransitionMatrix(gridSize = hmm_cfg['gridSize'], stayProb = hmm_cfg['stayProb'])\n",
    "\n",
    "\n",
    "adjustKappa = lambda dist : 1 / (1 + np.exp(-1 * (dist - hmm_cfg['inflection']) * hmm_cfg['exp']))\n",
    "\n",
    "hmm         = HMMRecalibration(stateTrans, targLocs, pStateStart, hmm_cfg['vmKappa'], adjustKappa)\n",
    "rawDecTraj  = ref_decoder.predict(new_train_x)\n",
    "\n",
    "start = time.time()\n",
    "viterbi_seq, viterbi_prob = hmm.viterbi_search(rawDecTraj, new_cursorPos)\n",
    "targStates, pTargState    = hmm.decode(rawDecTraj, new_cursorPos)\n",
    "maxProb                   = np.max(targStates, axis = 0)  # get P(H_i | O_1, ...., O_n)\n",
    "inferredTargLoc           = targLocs[viterbi_seq.astype(int), :] \n",
    "\n",
    "baseline_speed = time.time() - start\n",
    "baseline_corr  = np.corrcoef(inferredTargLoc.flatten(), new_targetPos.flatten())[0,1]\n",
    "\n",
    "print('Correlation between true, inferred targets: ', baseline_corr, \n",
    "      '\\n inference speed (sec):', baseline_speed)"
   ]
  },
  {
   "cell_type": "code",
   "execution_count": 77,
   "metadata": {},
   "outputs": [
    {
     "name": "stdout",
     "output_type": "stream",
     "text": [
      "Correlation between true, inferred targets:  0.6602528623678969 \n",
      " inference speed (sec): 7.533661842346191\n"
     ]
    }
   ],
   "source": [
    "from joblib import Parallel, delayed\n",
    "\n",
    "\n",
    "chunklens = 30 # length in seconds\n",
    "timestep  = 0.02 # sampling rate (bin size)\n",
    "\n",
    "\n",
    "# -----------------------------------\n",
    "chunksize  = chunklens // timestep\n",
    "num_chunks = rawDecTraj.shape[0] // chunksize \n",
    "decTrajs = np.array_split(rawDecTraj, num_chunks)\n",
    "posTrajs = np.array_split(new_cursorPos, num_chunks)\n",
    "\n",
    "start = time.time()\n",
    "chunk_inferences = Parallel(n_jobs=-1, verbose = 0)(delayed(hmm.viterbi_search)(*arg) for arg in zip(decTrajs, posTrajs))\n",
    "viterbi_seq      = np.concatenate([x[0] for x in chunk_inferences])\n",
    "inferredTargLoc  = targLocs[viterbi_seq.astype(int), :]\n",
    "chunk_speed      = time.time() - start\n",
    "chunk_corr       = np.corrcoef(inferredTargLoc.flatten(), new_targetPos.flatten())[0,1]\n",
    "\n",
    "print('Correlation between true, inferred targets: ', chunk_corr, \n",
    "      '\\n inference speed (sec):', chunk_speed)"
   ]
  },
  {
   "cell_type": "code",
   "execution_count": 132,
   "metadata": {},
   "outputs": [],
   "source": [
    "from joblib import Parallel, delayed\n",
    "\n",
    "chunk_options = np.asarray([0.25, 0.5, 1, 5, 10, 15, 20, 25, 30, 60, 90, 120, 60 * 5, 60 * 10, 60 * 20])\n",
    "chunk_speeds  = np.zeros(chunk_options.shape)\n",
    "chunk_corrs   = np.zeros(chunk_options.shape)\n",
    "\n",
    "for i, chunklens in enumerate(chunk_options):\n",
    "\n",
    "    timestep  = 0.02 # sampling rate (bin size)\n",
    "\n",
    "    chunksize  = chunklens // timestep\n",
    "    num_chunks = rawDecTraj.shape[0] // chunksize \n",
    "    decTrajs = np.array_split(rawDecTraj, num_chunks)\n",
    "    posTrajs = np.array_split(new_cursorPos, num_chunks)\n",
    "\n",
    "    start = time.time()\n",
    "    chunk_inferences = Parallel(n_jobs=-1, verbose = 0)(delayed(hmm.viterbi_search)(*arg) for arg in zip(decTrajs, posTrajs))\n",
    "    viterbi_seq      = np.concatenate([x[0] for x in chunk_inferences])\n",
    "    inferredTargLoc  = targLocs[viterbi_seq.astype(int), :]\n",
    "    chunk_speed      = time.time() - start\n",
    "    chunk_corr       = np.corrcoef(inferredTargLoc.flatten(), new_targetPos.flatten())[0,1]\n",
    "  \n",
    "    chunk_speeds[i] = chunk_speed\n",
    "    chunk_corrs[i]  = chunk_corr\n",
    "    "
   ]
  },
  {
   "cell_type": "code",
   "execution_count": 133,
   "metadata": {},
   "outputs": [
    {
     "data": {
      "image/png": "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\n",
      "text/plain": [
       "<Figure size 576x576 with 2 Axes>"
      ]
     },
     "metadata": {
      "needs_background": "light"
     },
     "output_type": "display_data"
    }
   ],
   "source": [
    "import matplotlib.pyplot as plt\n",
    "plt.rcParams['font.family'] = 'DeJavu Serif'\n",
    "plt.rcParams['font.serif'] = ['Arial']\n",
    "\n",
    "\n",
    "fig, ax1 = plt.subplots(figsize=(8, 8))\n",
    "ax2      = ax1.twinx()\n",
    "plt.xscale('log')\n",
    "\n",
    "ax1.plot(chunk_options, baseline_speed / chunk_speeds, c = 'b')\n",
    "ax2.plot(chunk_options, chunk_corrs / baseline_corr, '-.', c = 'orangered')\n",
    "\n",
    "ax1.set_xlabel('Chunk size (sec)')\n",
    "ax1.set_ylabel('Relative inference speed (X)', c = 'b')\n",
    "ax2.set_ylabel('Relative inference quality (X)', c= 'orangered')\n",
    "\n",
    "plt.show()"
   ]
  },
  {
   "cell_type": "markdown",
   "metadata": {
    "collapsed": true
   },
   "source": [
    "Now test across a series of sessions"
   ]
  },
  {
   "cell_type": "code",
   "execution_count": null,
   "metadata": {},
   "outputs": [],
   "source": []
  }
 ],
 "metadata": {
  "kernelspec": {
   "display_name": "Python 3 (ipykernel)",
   "language": "python",
   "name": "python3"
  },
  "language_info": {
   "codemirror_mode": {
    "name": "ipython",
    "version": 3
   },
   "file_extension": ".py",
   "mimetype": "text/x-python",
   "name": "python",
   "nbconvert_exporter": "python",
   "pygments_lexer": "ipython3",
   "version": "3.9.0"
  }
 },
 "nbformat": 4,
 "nbformat_minor": 4
}
