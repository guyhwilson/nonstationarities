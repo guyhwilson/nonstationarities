{
 "cells": [
  {
   "cell_type": "markdown",
   "metadata": {},
   "source": [
    "Code below does a grid search for optimal HMM values:\n"
   ]
  },
  {
   "cell_type": "code",
   "execution_count": 181,
   "metadata": {},
   "outputs": [
    {
     "name": "stdout",
     "output_type": "stream",
     "text": [
      "The autoreload extension is already loaded. To reload it, use:\n",
      "  %reload_ext autoreload\n"
     ]
    }
   ],
   "source": [
    "%load_ext autoreload\n",
    "%autoreload 2\n",
    "\n",
    "import numpy as np\n",
    "from scipy.io import loadmat\n",
    "import matplotlib.pyplot as plt\n",
    "import pandas as pd\n",
    "from copy import deepcopy\n",
    "import glob\n",
    "import sys\n",
    "\n",
    "[sys.path.append(f) for f in glob.glob('../utils/*')]\n",
    "from preprocess import DataStruct\n",
    "from plotting_utils import figSize\n",
    "from lineplots import plotsd\n",
    "from session_utils import *\n",
    "from recalibration_utils import *\n",
    "from click_utils import *\n",
    "\n",
    "\n",
    "def formatJobOutput(f):\n",
    "    raw = np.load(f, allow_pickle = True)\n",
    "    df  = pd.DataFrame([x.item() for x in raw])\n",
    "    df  = df[['file', 'exp', 'inflection', 'kappa', 'score']]\n",
    "    \n",
    "    return df\n",
    "\n",
    "\n",
    "def getSummaryStats(scores_df):\n",
    "    return\n",
    "    \n",
    "    \n",
    "\n",
    "SWEEP_DIR = '/oak/stanford/groups/shenoy/gwilson/nonstationarities/T5/HMMsweep/'\n",
    "\n",
    "\n",
    "files     = glob.glob(SWEEP_DIR + '*')\n",
    "scores    = [formatJobOutput(f) for f in files]\n",
    "scores_df = pd.concat(scores)"
   ]
  },
  {
   "cell_type": "code",
   "execution_count": 164,
   "metadata": {},
   "outputs": [],
   "source": [
    "params      = ['kappa', 'inflection', 'exp']\n",
    "unique_vals = dict([(x, np.unique(scores_df[x])) for x in params])\n",
    "unique_lens = [len(np.unique(scores_df[x])) for x in params]\n",
    "medscores   = np.zeros(unique_lens)\n",
    "\n",
    "lens = list()\n",
    "for i, kappa in enumerate(unique_vals['kappa']):\n",
    "    for j, inflection in enumerate(unique_vals['inflection']):\n",
    "        for k, exp in enumerate(unique_vals['exp']):\n",
    "            subset             = scores_df.loc[(scores_df[\"kappa\"] == kappa) & (scores_df[\"inflection\"] == inflection) & (scores_df[\"exp\"] == exp)]\n",
    "            medscores[i, j, k] = np.median(subset['score'])\n",
    "            lens.append(len(subset['score']))\n"
   ]
  },
  {
   "cell_type": "code",
   "execution_count": 188,
   "metadata": {},
   "outputs": [
    {
     "data": {
      "text/plain": [
       "98"
      ]
     },
     "execution_count": 188,
     "metadata": {},
     "output_type": "execute_result"
    }
   ],
   "source": [
    "len(scores[1])"
   ]
  },
  {
   "cell_type": "code",
   "execution_count": null,
   "metadata": {
    "collapsed": true
   },
   "outputs": [],
   "source": []
  },
  {
   "cell_type": "code",
   "execution_count": 183,
   "metadata": {},
   "outputs": [],
   "source": [
    "nums = [int(x.split('ID_')[1].split('.npy')[0]) for x in files]"
   ]
  },
  {
   "cell_type": "code",
   "execution_count": 184,
   "metadata": {},
   "outputs": [
    {
     "data": {
      "text/plain": [
       "46"
      ]
     },
     "execution_count": 184,
     "metadata": {},
     "output_type": "execute_result"
    }
   ],
   "source": [
    "len(np.setdiff1d(np.arange(600), nums))"
   ]
  },
  {
   "cell_type": "code",
   "execution_count": 185,
   "metadata": {},
   "outputs": [
    {
     "data": {
      "text/plain": [
       "554"
      ]
     },
     "execution_count": 185,
     "metadata": {},
     "output_type": "execute_result"
    }
   ],
   "source": [
    "len(nums)"
   ]
  },
  {
   "cell_type": "code",
   "execution_count": null,
   "metadata": {
    "collapsed": true
   },
   "outputs": [],
   "source": []
  },
  {
   "cell_type": "code",
   "execution_count": null,
   "metadata": {
    "collapsed": true
   },
   "outputs": [],
   "source": []
  },
  {
   "cell_type": "code",
   "execution_count": 155,
   "metadata": {
    "collapsed": true
   },
   "outputs": [],
   "source": [
    "scores_df.drop_duplicates(inplace = True)"
   ]
  },
  {
   "cell_type": "code",
   "execution_count": 147,
   "metadata": {},
   "outputs": [
    {
     "data": {
      "image/png": "[encoded data removed]",
      "text/plain": [
       "<Figure size 720x360 with 2 Axes>"
      ]
     },
     "metadata": {},
     "output_type": "display_data"
    }
   ],
   "source": [
    "opt_kappa, opt_inflection, opt_exp = np.unravel_index(medscores.argmax(), medscores.shape)\n",
    "\n",
    "plt.imshow(medscores[:, opt_inflection, :])\n",
    "plt.colorbar()\n",
    "plt.show()"
   ]
  },
  {
   "cell_type": "code",
   "execution_count": 190,
   "metadata": {},
   "outputs": [
    {
     "data": {
      "text/plain": [
       "{'exp': array([1.0e-04, 1.0e-03, 2.5e-02, 5.0e-02, 1.0e-01, 5.0e-01, 1.0e+00,\n",
       "        2.0e+00, 4.0e+00]),\n",
       " 'inflection': array([1.e-01, 1.e+01, 3.e+01, 5.e+01, 7.e+01, 1.e+02, 2.e+02, 4.e+02]),\n",
       " 'kappa': array([0.5, 1. , 2. , 4. , 6. , 8. ])}"
      ]
     },
     "execution_count": 190,
     "metadata": {},
     "output_type": "execute_result"
    }
   ],
   "source": [
    "unique_vals"
   ]
  },
  {
   "cell_type": "code",
   "execution_count": null,
   "metadata": {
    "collapsed": true
   },
   "outputs": [],
   "source": []
  },
  {
   "cell_type": "code",
   "execution_count": 148,
   "metadata": {},
   "outputs": [],
   "source": [
    "subset  = scores_df.loc[(scores_df[\"kappa\"] == unique_vals['kappa'][opt_kappa]) & (scores_df[\"inflection\"] == unique_vals['inflection'][opt_inflection]) & (scores_df[\"exp\"] == unique_vals['exp'][opt_exp])]\n"
   ]
  },
  {
   "cell_type": "code",
   "execution_count": 149,
   "metadata": {
    "collapsed": true
   },
   "outputs": [],
   "source": [
    "import seaborn as sns"
   ]
  },
  {
   "cell_type": "code",
   "execution_count": 150,
   "metadata": {},
   "outputs": [
    {
     "name": "stderr",
     "output_type": "stream",
     "text": [
      "/home/users/ghwilson/.local/lib/python3.6/site-packages/seaborn/_core.py:1319: UserWarning: Horizontal orientation ignored with only `y` specified.\n",
      "  warnings.warn(single_var_warning.format(\"Horizontal\", \"y\"))\n"
     ]
    },
    {
     "data": {
      "image/png": "[encoded data removed]",
      "text/plain": [
       "<Figure size 720x360 with 1 Axes>"
      ]
     },
     "metadata": {},
     "output_type": "display_data"
    }
   ],
   "source": [
    "figSize(5, 10)\n",
    "sns.stripplot(y = np.asarray(subset['score'] ), orient = 'h')\n",
    "plt.ylim([-1, 1])\n",
    "plt.show()"
   ]
  },
  {
   "cell_type": "code",
   "execution_count": null,
   "metadata": {
    "collapsed": true
   },
   "outputs": [],
   "source": []
  },
  {
   "cell_type": "code",
   "execution_count": null,
   "metadata": {
    "collapsed": true
   },
   "outputs": [],
   "source": []
  },
  {
   "cell_type": "code",
   "execution_count": null,
   "metadata": {
    "collapsed": true
   },
   "outputs": [],
   "source": []
  },
  {
   "cell_type": "code",
   "execution_count": 103,
   "metadata": {
    "collapsed": true
   },
   "outputs": [],
   "source": [
    "scores_df = pd.DataFrame(scores)"
   ]
  },
  {
   "cell_type": "code",
   "execution_count": null,
   "metadata": {
    "collapsed": true
   },
   "outputs": [],
   "source": [
    "import seaborn as sns\n",
    "sns.swarmplot(y = scores_df['score'], x = scores_df['smoothing'], orient = 'v')"
   ]
  },
  {
   "cell_type": "code",
   "execution_count": null,
   "metadata": {
    "collapsed": true
   },
   "outputs": [],
   "source": []
  },
  {
   "cell_type": "code",
   "execution_count": null,
   "metadata": {
    "collapsed": true
   },
   "outputs": [],
   "source": []
  },
  {
   "cell_type": "code",
   "execution_count": null,
   "metadata": {
    "collapsed": true
   },
   "outputs": [],
   "source": [
    "import seaborn as sns \n",
    "\n",
    "medscores = np.median(scores, axis = 0)\n",
    "args      = np.unravel_index(medscores.argmax(), medscores.shape)\n",
    "\n",
    "print('Best weighting function: logistic with inflection = ', inflection_sweep[args[0]], ' exponent = ', exp_sweep[args[1]])\n",
    "print('Best kappa: ', kappa_sweep[args[2]])\n",
    "print('Best threshold: ', thresh_sweep[args[3]])\n",
    "\n",
    "plt.subplot(1, 2, 1)\n",
    "x = np.linspace(0, 400, 3000)\n",
    "y = coef = 1 / (1 + np.exp(-1 * (x - inflection_sweep[args[0]]) * exp_sweep[args[1]]))\n",
    "\n",
    "figSize(5, 10)\n",
    "plt.plot(x, y)\n",
    "plt.xlabel('Distance to target')\n",
    "plt.ylabel('Kappa adjustment factor')\n",
    "plt.title('Weighting function')\n",
    "\n",
    "plt.subplot(1, 2, 2)\n",
    "sns.swarmplot(data = scores[:, args[0], args[1], args[2], args[3]], orient = 'v')\n",
    "plt.title('Session scores (best parameters)')\n",
    "plt.ylabel('R^2 (new day)')"
   ]
  },
  {
   "cell_type": "code",
   "execution_count": null,
   "metadata": {
    "collapsed": true
   },
   "outputs": [],
   "source": [
    "kappa_sweep[args[0]]\n",
    "kappa_sweep[args[0]]"
   ]
  },
  {
   "cell_type": "code",
   "execution_count": null,
   "metadata": {
    "collapsed": true
   },
   "outputs": [],
   "source": []
  }
 ],
 "metadata": {
  "kernelspec": {
   "display_name": "Python 3",
   "language": "python",
   "name": "python3"
  },
  "language_info": {
   "codemirror_mode": {
    "name": "ipython",
    "version": 3
   },
   "file_extension": ".py",
   "mimetype": "text/x-python",
   "name": "python",
   "nbconvert_exporter": "python",
   "pygments_lexer": "ipython3",
   "version": "3.6.1"
  }
 },
 "nbformat": 4,
 "nbformat_minor": 4
}
