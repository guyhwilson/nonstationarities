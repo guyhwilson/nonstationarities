{
 "cells": [
  {
   "cell_type": "code",
   "execution_count": 2,
   "metadata": {},
   "outputs": [
    {
     "name": "stdout",
     "output_type": "stream",
     "text": [
      "Done loading\n"
     ]
    }
   ],
   "source": [
    "%load_ext autoreload\n",
    "%autoreload 2\n",
    "\n",
    "import numpy as np\n",
    "from scipy.io import loadmat\n",
    "import matplotlib.pyplot as plt\n",
    "import seaborn as sns\n",
    "import pandas as pd\n",
    "from copy import deepcopy\n",
    "import glob\n",
    "import sys\n",
    "\n",
    "[sys.path.append(f) for f in glob.glob('../utils/*')]\n",
    "import preprocess, sweep_utils\n",
    "from plotting_utils import figSize, setTickLabels\n",
    "from lineplots import plotsd\n",
    "from session_utils import *\n",
    "from recalibration_utils import *\n",
    "from click_utils import *\n",
    "\n",
    "\n",
    "pearson_r_thresh = 0.15**0.5\n",
    "SWEEP_DIR        = '/oak/stanford/groups/shenoy/ghwilson/nonstationarities/T5/HMM/HMMsweep/'\n",
    "fig_path         = '/home/users/ghwilson/projects/nonstationarities/figures/'\n",
    "params           = ['kappa', 'inflection', 'exp']\n",
    "fields           = ['R2_score', 'meanRecal_pearson_r', 'pearson_r', 'days_apart', 'viterbi_prob', 'file']\n",
    "int_encode_files = True\n",
    "prune            = None\n",
    "\n",
    "\n",
    "# load files and check if any are missing:\n",
    "files    = glob.glob(SWEEP_DIR + '*scores_ID*') \n",
    "file_IDs = [int(x.split('ID_')[1].split('.npy')[0]) for x in files]\n",
    "maxval   = np.max(file_IDs)\n",
    "diff     = np.setdiff1d(np.arange(maxval + 1), file_IDs)\n",
    "\n",
    "if len(diff) > 0:\n",
    "    raise ValueError('Missing sweeps: ', diff)\n",
    "\n",
    "scores_df = sweep_utils.getSummaryDataFrame(files, params + fields, prune = prune, int_encode_files = int_encode_files)\n",
    "scores_df = scores_df[scores_df['meanRecal_pearson_r'] > pearson_r_thresh]\n",
    "\n",
    "scores_df['viterbi_prob'] = scores_df['viterbi_prob'].apply(lambda x: x[0] )\n",
    "print('Done loading')\n"
   ]
  },
  {
   "cell_type": "code",
   "execution_count": 144,
   "metadata": {},
   "outputs": [
    {
     "name": "stderr",
     "output_type": "stream",
     "text": [
      "IOPub data rate exceeded.\n",
      "The notebook server will temporarily stop sending output\n",
      "to the client in order to avoid crashing it.\n",
      "To change this limit, set the config variable\n",
      "`--NotebookApp.iopub_data_rate_limit`.\n"
     ]
    }
   ],
   "source": [
    "figSize(50, 20)\n",
    "\n",
    "plt.locator_params(nbins=4)\n",
    "\n",
    "n_cols = 5\n",
    "\n",
    "unique           = np.unique(scores_df['file'])\n",
    "autotune_pearson = np.zeros(len(unique))\n",
    "grpopt_pearson   = np.zeros(len(unique))\n",
    "corrs            = np.zeros(len(unique))\n",
    "n_rows           = np.ceil(len(unique) / n_cols).astype(int)\n",
    "\n",
    "for i, val in enumerate(unique):\n",
    "    \n",
    "    # subselect parameter sweeps for a given session pair, extract viterbi and pearson r \n",
    "    subset_idxs = scores_df['file'].apply(lambda x: x == val)\n",
    "    subset      = scores_df[subset_idxs]\n",
    "    viterbi     = subset['viterbi_prob'].to_numpy()\n",
    "    pearsonr    = subset['pearson_r'].to_numpy()\n",
    "    \n",
    "    corr     = np.corrcoef(viterbi, pearsonr)[0, 1]\n",
    "    corrs[i] = corr\n",
    "    \n",
    "    # grab autotuned score\n",
    "    max_viterbi_idx     = np.argmax(viterbi)\n",
    "    autotune_pearson[i] = pearsonr[max_viterbi_idx]\n",
    "    \n",
    "    # grab score from optimal hyperparameters based on group mean\n",
    "    opt         = {'kappa' : 2, 'inflection' : 70, 'exp' : 0.5}\n",
    "    subset_df   = sweep_utils.get_subsetDF(subset, opt)\n",
    "    pearson_grp_opt   = subset_df['pearson_r']\n",
    "    grpopt_pearson[i] = pearson_grp_opt\n",
    "    \n",
    "    plt.subplot(n_rows, n_cols, i + 1)\n",
    "    ax = plt.gca()\n",
    "        \n",
    "    lm_df = pd.DataFrame({'viterbi' : viterbi, 'pearsonr' : pearsonr})\n",
    "    sns.regplot(x = 'viterbi', y = 'pearsonr', data = lm_df, \n",
    "               scatter_kws = {'alpha' : 0.4, 'color' : 'b'}, ax = ax)\n",
    "    plt.title(f'r = {corr}')\n",
    "\n",
    "    ax.spines['top'].set_visible(False)\n",
    "    ax.spines['right'].set_visible(False)\n",
    "    \n",
    "    ymin, ymax = ax.get_ylim()\n",
    "    custom_ticks = np.round(np.linspace(ymin, ymax, 4), 2)\n",
    "    ax.set_yticks(custom_ticks)\n",
    "    ax.set_yticklabels(custom_ticks)\n",
    "   \n",
    "    xmin, xmax = ax.get_xlim()\n",
    "    custom_ticks = np.linspace(xmin + 1000, xmax - 1000, 2, dtype = int)\n",
    "    ax.set_xticks(custom_ticks)\n",
    "    ax.set_xticklabels(custom_ticks)\n",
    "        \n",
    "    \n",
    "plt.tight_layout()\n",
    "\n",
    "plt.savefig(fig_path + 'HMM/viterbi_vs_pearson', format = 'pdf')\n",
    "plt.show()"
   ]
  },
  {
   "cell_type": "code",
   "execution_count": 139,
   "metadata": {},
   "outputs": [
    {
     "name": "stderr",
     "output_type": "stream",
     "text": [
      "/home/users/ghwilson/.local/lib/python3.6/site-packages/seaborn/distributions.py:2619: FutureWarning: `distplot` is a deprecated function and will be removed in a future version. Please adapt your code to use either `displot` (a figure-level function with similar flexibility) or `histplot` (an axes-level function for histograms).\n",
      "  warnings.warn(msg, FutureWarning)\n",
      "/home/users/ghwilson/.local/lib/python3.6/site-packages/seaborn/distributions.py:2103: FutureWarning: The `axis` variable is no longer used and will be removed. Instead, assign variables directly to `x` or `y`.\n",
      "  warnings.warn(msg, FutureWarning)\n"
     ]
    },
    {
     "data": {
      "image/png": "[encoded data removed]",
      "text/plain": [
       "<Figure size 600x300 with 2 Axes>"
      ]
     },
     "metadata": {},
     "output_type": "display_data"
    }
   ],
   "source": [
    "import seaborn as sns\n",
    "figSize(3, 6)\n",
    "\n",
    "plt.subplot(1, 2, 1)\n",
    "\n",
    "#sns.set_theme()\n",
    "\n",
    "plt.style.use('default')\n",
    "\n",
    "sns.distplot(corrs, rug = True, kde = False, )\n",
    "mean_corr = np.mean(corrs)\n",
    "plt.axvline(mean_corr, label = np.round(mean_corr, 3))\n",
    "ax = plt.gca()\n",
    "ax.spines['top'].set_visible(False)\n",
    "ax.spines['right'].set_visible(False)\n",
    "plt.legend()\n",
    "\n",
    "plt.subplot(1, 2, 2)\n",
    "lims = [0.3, 0.8]\n",
    "plt.scatter(grpopt_pearson, autotune_pearson)\n",
    "plt.xlabel('group-optimized r')\n",
    "plt.ylabel('Autotuned r')\n",
    "plt.xlim(lims)\n",
    "plt.ylim(lims)\n",
    "plt.plot(lims, lims, c = 'k')\n",
    "ax = plt.gca()\n",
    "ax.spines['top'].set_visible(False)\n",
    "ax.spines['right'].set_visible(False)\n",
    "\n",
    "\n",
    "plt.tight_layout()\n",
    "#plt.savefig(fig_path + 'HMM/viterbi_vs_pearson_summary', format = 'pdf')\n",
    "plt.show()"
   ]
  },
  {
   "cell_type": "code",
   "execution_count": null,
   "metadata": {
    "collapsed": true
   },
   "outputs": [],
   "source": [
    "unique_idxs      = np.unique(scores_df['file'], return_index=True)[1]\n",
    "unique_scores_df = scores_df[['file', 'days_apart']].iloc[unique_idxs]"
   ]
  },
  {
   "cell_type": "code",
   "execution_count": null,
   "metadata": {},
   "outputs": [
    {
     "name": "stderr",
     "output_type": "stream",
     "text": [
      "/share/software/user/open/py-scikit-learn/0.19.1_py36/lib/python3.6/site-packages/sklearn/ensemble/weight_boosting.py:29: DeprecationWarning: numpy.core.umath_tests is an internal NumPy module and should not be imported. It will be removed in a future NumPy release.\n",
      "  from numpy.core.umath_tests import inner1d\n"
     ]
    }
   ],
   "source": [
    "import resample \n",
    "\n",
    "graph, idxs = resample.makeSessionPairGraph(unique_scores_df, int_encoded = True)\n",
    "x           = idxs[resample.graphSets(graph)]\n",
    "#scores_mat = paired_scores.iloc[x][fields].to_numpy()"
   ]
  },
  {
   "cell_type": "code",
   "execution_count": 7,
   "metadata": {},
   "outputs": [],
   "source": [
    "x = np.array([ 0,  9, 19, 28, 36, 42, 45, 55, 62, 64, 67, 71, 72, 76, 78, 79])"
   ]
  },
  {
   "cell_type": "code",
   "execution_count": null,
   "metadata": {
    "collapsed": true
   },
   "outputs": [],
   "source": []
  },
  {
   "cell_type": "code",
   "execution_count": null,
   "metadata": {
    "collapsed": true
   },
   "outputs": [],
   "source": []
  },
  {
   "cell_type": "code",
   "execution_count": 141,
   "metadata": {
    "collapsed": true
   },
   "outputs": [],
   "source": [
    "n_shuffles = 1000\n",
    "\n",
    "\n",
    "autotune_pearson_null = np.zeros((len(unique), n_shuffles))\n",
    "for i, val in enumerate(unique):\n",
    "    subset_idxs = scores_df['file'].apply(lambda x: x == val)\n",
    "    subset      = scores_df[subset_idxs]\n",
    "    pearsonr = subset['pearson_r'].to_numpy()\n",
    "    \n",
    "    pearson_null = np.random.choice(pearsonr, n_shuffles, replace = True)\n",
    "    autotune_pearson_null[i, :] = pearson_null\n",
    "\n"
   ]
  },
  {
   "cell_type": "code",
   "execution_count": 143,
   "metadata": {},
   "outputs": [
    {
     "name": "stderr",
     "output_type": "stream",
     "text": [
      "/home/users/ghwilson/.local/lib/python3.6/site-packages/seaborn/distributions.py:2619: FutureWarning: `distplot` is a deprecated function and will be removed in a future version. Please adapt your code to use either `displot` (a figure-level function with similar flexibility) or `histplot` (an axes-level function for histograms).\n",
      "  warnings.warn(msg, FutureWarning)\n"
     ]
    },
    {
     "data": {
      "image/png": "[encoded data removed]",
      "text/plain": [
       "<Figure size 500x500 with 1 Axes>"
      ]
     },
     "metadata": {},
     "output_type": "display_data"
    }
   ],
   "source": [
    "figSize(5, 5)\n",
    "\n",
    "orig_delta  = np.mean(autotune_pearson - grpopt_pearson)\n",
    "null_deltas = np.mean(autotune_pearson_null - grpopt_pearson[:, None], axis = 0)\n",
    "\n",
    "sns.distplot(null_deltas, color = 'b')\n",
    "\n",
    "plt.axvline(orig_delta, color = 'k')\n",
    "\n",
    "ax = plt.gca()\n",
    "ax.spines['top'].set_visible(False)\n",
    "ax.spines['right'].set_visible(False)\n",
    "\n",
    "plt.savefig(fig_path + 'HMM/viterbi_vs_pearson_null', format = 'pdf')\n",
    "plt.show()"
   ]
  },
  {
   "cell_type": "code",
   "execution_count": null,
   "metadata": {
    "collapsed": true
   },
   "outputs": [],
   "source": []
  }
 ],
 "metadata": {
  "kernelspec": {
   "display_name": "Python 3",
   "language": "python",
   "name": "python3"
  },
  "language_info": {
   "codemirror_mode": {
    "name": "ipython",
    "version": 3
   },
   "file_extension": ".py",
   "mimetype": "text/x-python",
   "name": "python",
   "nbconvert_exporter": "python",
   "pygments_lexer": "ipython3",
   "version": "3.6.1"
  }
 },
 "nbformat": 4,
 "nbformat_minor": 4
}
