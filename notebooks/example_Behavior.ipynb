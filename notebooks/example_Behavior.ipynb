{
 "cells": [
  {
   "cell_type": "code",
   "execution_count": 4,
   "metadata": {},
   "outputs": [
    {
     "name": "stdout",
     "output_type": "stream",
     "text": [
      "The autoreload extension is already loaded. To reload it, use:\n",
      "  %reload_ext autoreload\n"
     ]
    }
   ],
   "source": [
    "%load_ext autoreload\n",
    "%autoreload 2\n",
    "\n",
    "import numpy as np\n",
    "from scipy.io import loadmat\n",
    "import matplotlib.pyplot as plt\n",
    "import glob\n",
    "import sys\n",
    "import os\n",
    "\n",
    "[sys.path.append(f) for f in glob.glob('../utils/*')]\n",
    "from preprocess import DataStruct\n",
    "from plotting_utils import figSize\n",
    "[sys.path.append(f) for f in glob.glob('../utils/*')]\n",
    "from preprocess import *\n",
    "from plotting_utils import *\n",
    "from lineplots import plotsd\n",
    "from stabilizer_utils import *\n",
    "from recalibration_utils import *\n",
    "from session_utils import *\n",
    "from CosineTuning import *\n",
    "\n",
    "\n",
    "min_nblocks    = 2\n",
    "max_ndays      = 1e99\n",
    "participant    = 'T5'\n",
    "\n",
    "\n",
    "FILE_DIR       = f'{DATA_DIR}/{participant}/'\n",
    "fig_path       = FIG_DIR\n",
    "filelist       = glob.glob(FILE_DIR + 'historical/*')\n",
    "filelist.extend(glob.glob(FILE_DIR + 'new/*'))\n",
    "\n",
    "block_constraints = getBlockConstraints(FILE_DIR)\n",
    "\n",
    "files = get_Sessions(filelist, min_nblocks,  block_constraints = block_constraints)\n",
    "dat   = DataStruct(files[10])"
   ]
  },
  {
   "cell_type": "code",
   "execution_count": 5,
   "metadata": {},
   "outputs": [
    {
     "ename": "IndexError",
     "evalue": "list index out of range",
     "output_type": "error",
     "traceback": [
      "\u001b[0;31m---------------------------------------------------------------------------\u001b[0m",
      "\u001b[0;31mIndexError\u001b[0m                                Traceback (most recent call last)",
      "\u001b[0;32m<ipython-input-5-94e3c536aaaa>\u001b[0m in \u001b[0;36m<module>\u001b[0;34m()\u001b[0m\n\u001b[1;32m      6\u001b[0m \u001b[0mn_trials\u001b[0m \u001b[0;34m=\u001b[0m \u001b[0;36m100\u001b[0m\u001b[0;34m\u001b[0m\u001b[0m\n\u001b[1;32m      7\u001b[0m \u001b[0;34m\u001b[0m\u001b[0m\n\u001b[0;32m----> 8\u001b[0;31m \u001b[0mdat\u001b[0m  \u001b[0;34m=\u001b[0m \u001b[0mDataStruct\u001b[0m\u001b[0;34m(\u001b[0m\u001b[0mfiles\u001b[0m\u001b[0;34m[\u001b[0m\u001b[0;36m10\u001b[0m\u001b[0;34m]\u001b[0m\u001b[0;34m)\u001b[0m\u001b[0;34m\u001b[0m\u001b[0m\n\u001b[0m\u001b[1;32m      9\u001b[0m \u001b[0mcmap\u001b[0m             \u001b[0;34m=\u001b[0m \u001b[0mcolors\u001b[0m\u001b[0;34m.\u001b[0m\u001b[0mListedColormap\u001b[0m\u001b[0;34m(\u001b[0m\u001b[0;34m[\u001b[0m\u001b[0;34m'r'\u001b[0m\u001b[0;34m,\u001b[0m \u001b[0;34m'orange'\u001b[0m\u001b[0;34m,\u001b[0m \u001b[0;34m'y'\u001b[0m\u001b[0;34m,\u001b[0m \u001b[0;34m'g'\u001b[0m\u001b[0;34m,\u001b[0m \u001b[0;34m'k'\u001b[0m\u001b[0;34m,\u001b[0m \u001b[0;34m'purple'\u001b[0m\u001b[0;34m,\u001b[0m \u001b[0;34m'violet'\u001b[0m\u001b[0;34m,\u001b[0m \u001b[0;34m'maroon'\u001b[0m\u001b[0;34m,\u001b[0m \u001b[0;34m'b'\u001b[0m\u001b[0;34m]\u001b[0m\u001b[0;34m)\u001b[0m\u001b[0;34m\u001b[0m\u001b[0m\n\u001b[1;32m     10\u001b[0m \u001b[0munique\u001b[0m\u001b[0;34m,\u001b[0m \u001b[0mtargetID\u001b[0m \u001b[0;34m=\u001b[0m \u001b[0mnp\u001b[0m\u001b[0;34m.\u001b[0m\u001b[0munique\u001b[0m\u001b[0;34m(\u001b[0m\u001b[0mnp\u001b[0m\u001b[0;34m.\u001b[0m\u001b[0mvstack\u001b[0m\u001b[0;34m(\u001b[0m\u001b[0;34m[\u001b[0m\u001b[0mdat\u001b[0m\u001b[0;34m.\u001b[0m\u001b[0mtargetPos\u001b[0m\u001b[0;34m[\u001b[0m\u001b[0mi\u001b[0m\u001b[0;34m]\u001b[0m\u001b[0;34m[\u001b[0m\u001b[0;36m0\u001b[0m\u001b[0;34m,\u001b[0m \u001b[0;34m:\u001b[0m\u001b[0;34m]\u001b[0m \u001b[0;32mfor\u001b[0m \u001b[0mi\u001b[0m \u001b[0;32min\u001b[0m \u001b[0mrange\u001b[0m\u001b[0;34m(\u001b[0m\u001b[0mn_trials\u001b[0m\u001b[0;34m)\u001b[0m\u001b[0;34m]\u001b[0m\u001b[0;34m)\u001b[0m\u001b[0;34m,\u001b[0m \u001b[0mreturn_inverse\u001b[0m\u001b[0;34m=\u001b[0m \u001b[0;32mTrue\u001b[0m\u001b[0;34m,\u001b[0m \u001b[0maxis\u001b[0m \u001b[0;34m=\u001b[0m \u001b[0;36m0\u001b[0m\u001b[0;34m)\u001b[0m\u001b[0;34m\u001b[0m\u001b[0m\n",
      "\u001b[0;31mIndexError\u001b[0m: list index out of range"
     ]
    }
   ],
   "source": [
    "from matplotlib import colors \n",
    "import matplotlib \n",
    "\n",
    "figSize(7, 22)\n",
    "\n",
    "n_trials = 100\n",
    "\n",
    "cmap             = colors.ListedColormap(['r', 'orange', 'y', 'g', 'k', 'purple', 'violet', 'maroon', 'b'])\n",
    "unique, targetID = np.unique(np.vstack([dat.targetPos[i][0, :] for i in range(n_trials)]), return_inverse= True, axis = 0)\n",
    "\n",
    "\n",
    "plt.subplot(1, 3, 1)\n",
    "plt.xlabel('x pos')\n",
    "plt.ylabel('y pos')\n",
    "for i in range(n_trials):\n",
    "    color       = cmap(targetID[i])\n",
    "    plt.scatter(dat.targetPos[i][0, 0], dat.targetPos[i][0, 1], color = 'k', s = 200)\n",
    "    alpha       = [0.3 if targetID[i]== 4 else 1][0]\n",
    "    plt.plot(dat.cursorPos[i][:, 0], dat.cursorPos[i][:, 1], color = color, alpha = alpha)\n",
    "\n",
    "plt.subplot(1, 3, 2)\n",
    "ax = plt.gca()\n",
    "plt.xlabel('x pos')\n",
    "plt.ylabel('y pos')\n",
    "grid_trls = np.where(dat.trialType == 'keyboard')[0]\n",
    "grid_size = 865 / 6\n",
    "targs     = np.unique([dat.targetPos[trl][0, :] for trl in grid_trls], axis = 0)\n",
    "\n",
    "for targ in targs:\n",
    "    rect = matplotlib.patches.Rectangle(targ - grid_size / 2, grid_size, grid_size, color = 'k', alpha = 0.1 )\n",
    "    ax.add_patch(rect)\n",
    "    \n",
    "for i in range(n_trials):\n",
    "    trl         = np.where(dat.trialType == 'keyboard')[0][i]\n",
    "    #targPos     = dat.targetPos[trl][0, :]\n",
    "    #plt.scatter(targPos[0], targPos[1], color = 'k', s = 200)\n",
    "    plt.plot(dat.cursorPos[trl][:, 0], dat.cursorPos[trl][:, 1], color = 'k', alpha = 0.5)\n",
    "    \n",
    "\n",
    "dat = DataStruct(files[23])\n",
    "plt.subplot(1, 3, 3)\n",
    "plt.xlabel('x pos')\n",
    "plt.ylabel('y pos')\n",
    "for i in range(n_trials):\n",
    "    trl         = np.where(dat.trialType == 'fitts')[0][i]\n",
    "    targPos     = dat.targetPos[trl][0, :]\n",
    "    plt.scatter(targPos[0], targPos[1], color = 'k', s = 200)\n",
    "    plt.plot(dat.cursorPos[trl][:, 0], dat.cursorPos[trl][:, 1], color = 'k', alpha = 0.5)\n",
    "    \n",
    "plt.suptitle(files[10], fontweight = 'bold')\n",
    "\n",
    "plt.savefig(fig_path + 'behavior/T5_example_tasks', format = 'pdf')\n",
    "plt.show()"
   ]
  },
  {
   "cell_type": "code",
   "execution_count": 4,
   "metadata": {},
   "outputs": [
    {
     "data": {
      "text/plain": [
       "Text(0.5, 0, 'Time (sec)')"
      ]
     },
     "execution_count": 4,
     "metadata": {},
     "output_type": "execute_result"
    },
    {
     "data": {
      "image/png": "[encoded data removed]",
      "text/plain": [
       "<Figure size 1080x504 with 2 Axes>"
      ]
     },
     "metadata": {
      "needs_background": "light"
     },
     "output_type": "display_data"
    }
   ],
   "source": [
    "dat  = DataStruct(files[10])\n",
    "\n",
    "trlens_cursor   = [dat.TX[i].shape[0]/50 for i in np.where(dat.trialType == 'cursor')[0] ]\n",
    "trlens_keyboard = [dat.TX[i].shape[0]/50 for i in np.where(dat.trialType == 'keyboard')[0] ]\n",
    "\n",
    "plt.subplot(1, 2, 1)\n",
    "plt.hist(trlens_cursor)\n",
    "plt.title('Distribution of trial lengths: radial-8')\n",
    "plt.xlabel('Time (sec)', fontweight = 'bold')\n",
    "plt.subplot(1, 2, 2)\n",
    "plt.hist(trlens_cursor)\n",
    "plt.title('Distribution of trial lengths: keyboard')\n",
    "plt.xlabel('Time (sec)', fontweight = 'bold')"
   ]
  },
  {
   "cell_type": "markdown",
   "metadata": {},
   "source": [
    "Visualize cursor trajectory across time with HTML animation"
   ]
  },
  {
   "cell_type": "code",
   "execution_count": 22,
   "metadata": {},
   "outputs": [],
   "source": [
    "import numpy as np\n",
    "import matplotlib.pyplot as plt\n",
    "import matplotlib.animation as animation\n",
    "from IPython.display import HTML\n",
    "\n",
    "\n",
    "#=========================================\n",
    "# Animate Fake Images (in Jupyter)\n",
    "\n",
    "trajectories = dat.cursorPos_continuous[500:2000, :]\n",
    "click        = dat.decClick_continuous[500:2000]\n",
    "\n",
    "def getImageFromList(x):\n",
    "    if sum(click[(x+48):(x+52)]) > 0:\n",
    "        c = 'r'\n",
    "    else:\n",
    "        c = 'k'\n",
    "    return trajectories[(x+49):(x+50), :], c\n",
    "\n",
    "fig = plt.figure(figsize=(10, 10))\n",
    "ims = []\n",
    "for i in range(500):\n",
    "    coords, c  = getImageFromList(i)\n",
    "    im         = plt.plot(coords[-1, 0], coords[-1, 1], color = c, marker = 'o', markersize = 20, animated=True)\n",
    "    #circle = plt.Circle((snippet[-1, 0], snippet[-1, 1]), radius = 10, fc=c, ec='k')\n",
    "    #board.add_patch(circle)\n",
    "    #if len(snippet) > 0:\n",
    "    #im = plt.scatter(snippet[-1, 0], snippet[-1, 1], color = c, s = 20, animated = True)\n",
    "    ims.append(im)\n",
    "\n",
    "ani = animation.ArtistAnimation(fig, ims, interval=50, blit=True, repeat_delay=1000)\n",
    "plt.close()\n",
    "\n",
    "# Show the animation\n",
    "HTML(ani.to_html5_video())\n",
    "ani.save('dynamic_images.mp4')"
   ]
  },
  {
   "cell_type": "code",
   "execution_count": 27,
   "metadata": {},
   "outputs": [
    {
     "data": {
      "image/png": "[encoded data removed]",
      "text/plain": [
       "<Figure size 432x288 with 1 Axes>"
      ]
     },
     "metadata": {
      "needs_background": "light"
     },
     "output_type": "display_data"
    }
   ],
   "source": [
    "x = np.arange(10, 1000)\n",
    "\n",
    "plt.plot(x, 1/ x)\n",
    "plt.xscale('log')"
   ]
  },
  {
   "cell_type": "code",
   "execution_count": null,
   "metadata": {
    "collapsed": true
   },
   "outputs": [],
   "source": []
  }
 ],
 "metadata": {
  "kernelspec": {
   "display_name": "Python 3 (ipykernel)",
   "language": "python",
   "name": "python3"
  },
  "language_info": {
   "codemirror_mode": {
    "name": "ipython",
    "version": 3
   },
   "file_extension": ".py",
   "mimetype": "text/x-python",
   "name": "python",
   "nbconvert_exporter": "python",
   "pygments_lexer": "ipython3",
   "version": "3.9.0"
  }
 },
 "nbformat": 4,
 "nbformat_minor": 4
}
