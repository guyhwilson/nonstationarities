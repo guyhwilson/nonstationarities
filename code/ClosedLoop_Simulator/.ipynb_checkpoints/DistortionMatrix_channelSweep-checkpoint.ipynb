{
 "cells": [
  {
   "cell_type": "markdown",
   "metadata": {},
   "source": [
    "Code for examining how HMM performs under different perturbations to population activity. \n",
    "\n",
    "Tests recalibration performance in response to mean shifts, PD shifts"
   ]
  },
  {
   "cell_type": "code",
   "execution_count": 1,
   "metadata": {},
   "outputs": [],
   "source": [
    "%load_ext autoreload\n",
    "%autoreload 2\n",
    "\n",
    "import numpy as np\n",
    "from sklearn.linear_model import LinearRegression\n",
    "\n",
    "\n",
    "import sys, glob\n",
    "[sys.path.append(f) for f in glob.glob('../utils/*')]\n",
    "from plotting_utils import figSize\n",
    "from HMM_matlab import hmmviterbi_vonmises, hmmdecode_vonmises\n",
    "from hmm_utils import *\n",
    "from simulation_matlab import *\n",
    "from simulation_utils import * \n",
    "\n",
    "# for a reproducible result\n",
    "np.random.seed(1)\n"
   ]
  },
  {
   "cell_type": "markdown",
   "metadata": {},
   "source": [
    "#### Distortion matrix analysis with channel sweep\n",
    "\n",
    "- look at distortion matrix properties (axis-aligned shifts, rotations between X and Y subspaces) as a function of channel count\n"
   ]
  },
  {
   "cell_type": "code",
   "execution_count": null,
   "metadata": {},
   "outputs": [],
   "source": [
    "import time"
   ]
  },
  {
   "cell_type": "code",
   "execution_count": null,
   "metadata": {},
   "outputs": [],
   "source": [
    "# general settings:\n",
    "nSimSteps     = 100000\n",
    "n_repeats     = 500\n",
    "tuning_shift  = [0.3, 0]  # PD and mean\n",
    "days_between  = 0\n",
    "channel_sweep = [10, 50, 100, 500, 1000, 5000]\n",
    "SNR           = 1\n",
    "\n",
    "#-----------------------------------------\n",
    "session_scores  = np.zeros((len(channel_sweep), n_repeats,)) \n",
    "distortion_mats = np.zeros((len(channel_sweep), n_repeats, 2, 2)) \n",
    " \n",
    "eng             = matlab.engine.start_matlab()\n",
    "for i, nUnits in enumerate(channel_sweep):\n",
    "    start = time.time()\n",
    "    nTrainingSteps = 10000\n",
    "\n",
    "    initialTuning  = generateUnits(n_units = nUnits, SNR = SNR)\n",
    "    calVelocity    = np.random.normal(size = (nTrainingSteps, 2))\n",
    "    calNeural      = calVelocity.dot(initialTuning[:,1:].T)  + initialTuning[:, 0].T;  # FR = <velocity, PD> + baseline\n",
    "    calNeural      = calNeural + np.random.normal(size = calNeural.shape) * 0.3      # add gaussian noise\n",
    "\n",
    "    lr             = LinearRegression(fit_intercept = True).fit(calNeural, calVelocity)\n",
    "    D              = np.hstack([lr.intercept_[:, np.newaxis], lr.coef_]).T\n",
    "\n",
    "    # Normalize the gain of this decoder so that it will output vectors with a magnitude of 1 when the encoded velocity has a magnitude of 1. \n",
    "    D[:, 0] = D[:,0] / np.linalg.norm(D[1:, :][:, 0]) / np.linalg.norm(initialTuning[:, 1])\n",
    "    D[:, 1] = D[:,1] / np.linalg.norm(D[1:, :][:, 1]) / np.linalg.norm(initialTuning[:, 2])\n",
    "    \n",
    "    alpha       = 0.94 # amount of exponential smoothing (0.9 to 0.96 are reasonable)\n",
    "    delT        = 0.01 # define the time step (10 ms)\n",
    "    nDelaySteps = 20   # define the simulated user's visual feedback delay (200 ms)\n",
    "    gainSteps   = 50000\n",
    "\n",
    "    # Do a quick sweep of cursor gains to find the optimal one for this task:\n",
    "    possibleGain = np.linspace(0.5,2.5,10)\n",
    "    meanTTT      = np.zeros((len(possibleGain),))\n",
    "\n",
    "    for g in range(len(possibleGain)):\n",
    "        posTraj, velTraj, rawDecTraj, conTraj, targTraj, neuralTraj, trialStart, ttt = simulateBCIFitts(initialTuning, D, alpha, possibleGain[g], nDelaySteps, delT, gainSteps, engine = eng)\n",
    "        meanTTT[g] = np.mean(ttt)\n",
    "    print(nUnits, time.time() - start)"
   ]
  },
  {
   "cell_type": "code",
   "execution_count": null,
   "metadata": {},
   "outputs": [],
   "source": [
    "# general settings:\n",
    "nSimSteps     = 100000\n",
    "n_repeats     = 500\n",
    "tuning_shift  = [0.3, 0]  # PD and mean\n",
    "days_between  = 0\n",
    "channel_sweep = [10, 50, 100, 500, 1000, 5000]\n",
    "SNR           = 1\n",
    "\n",
    "#-----------------------------------------\n",
    "session_scores  = np.zeros((len(channel_sweep), n_repeats,)) \n",
    "distortion_mats = np.zeros((len(channel_sweep), n_repeats, 2, 2)) \n",
    " \n",
    "eng             = matlab.engine.start_matlab()\n",
    "for i, nUnits in enumerate(channel_sweep):\n",
    "    nTrainingSteps = 10000\n",
    "\n",
    "    initialTuning  = generateUnits(n_units = nUnits, SNR = SNR)\n",
    "    calVelocity    = np.random.normal(size = (nTrainingSteps, 2))\n",
    "    calNeural      = calVelocity.dot(initialTuning[:,1:].T)  + initialTuning[:, 0].T;  # FR = <velocity, PD> + baseline\n",
    "    calNeural      = calNeural + np.random.normal(size = calNeural.shape) * 0.3      # add gaussian noise\n",
    "\n",
    "    lr             = LinearRegression(fit_intercept = True).fit(calNeural, calVelocity)\n",
    "    D              = np.hstack([lr.intercept_[:, np.newaxis], lr.coef_]).T\n",
    "\n",
    "    # Normalize the gain of this decoder so that it will output vectors with a magnitude of 1 when the encoded velocity has a magnitude of 1. \n",
    "    D[:, 0] = D[:,0] / np.linalg.norm(D[1:, :][:, 0]) / np.linalg.norm(initialTuning[:, 1])\n",
    "    D[:, 1] = D[:,1] / np.linalg.norm(D[1:, :][:, 1]) / np.linalg.norm(initialTuning[:, 2])\n",
    "    \n",
    "    alpha       = 0.94 # amount of exponential smoothing (0.9 to 0.96 are reasonable)\n",
    "    delT        = 0.01 # define the time step (10 ms)\n",
    "    nDelaySteps = 20   # define the simulated user's visual feedback delay (200 ms)\n",
    "    gainSteps   = 50000\n",
    "\n",
    "    # Do a quick sweep of cursor gains to find the optimal one for this task:\n",
    "    possibleGain = np.linspace(0.5,2.5,10)\n",
    "    meanTTT      = np.zeros((len(possibleGain),))\n",
    "\n",
    "    for g in range(len(possibleGain)):\n",
    "        posTraj, velTraj, rawDecTraj, conTraj, targTraj, neuralTraj, trialStart, ttt = simulateBCIFitts(initialTuning, D, alpha, possibleGain[g], nDelaySteps, delT, gainSteps, engine = eng)\n",
    "        meanTTT[g] = np.mean(ttt)\n",
    "\n",
    "    beta   = possibleGain[np.argmin(meanTTT)]\n",
    "    \n",
    "    for j in range(n_repeats):\n",
    "        D_new  = np.copy(D)\n",
    "        tuning = np.copy(initialTuning)\n",
    "        for k in range(days_between + 1):\n",
    "            tuning = simulateTuningShift(tuning, PD_ratio = tuning_shift[0], mean_shift = tuning_shift[1])  # introduce daily nonstationarities between recorded sessions\n",
    "\n",
    "        # simulate new days' data:\n",
    "        cursorPos, _, decOut, _, targetPos, neural, _, ttt = simulateBCIFitts(tuning, D_new, alpha, beta, nDelaySteps, delT, nSimSteps, engine = eng) \n",
    "\n",
    "        PosErr     = targetPos - cursorPos  \n",
    "        D_new      = np.linalg.lstsq(np.hstack([np.ones((neural.shape[0], 1)), neural]), PosErr, rcond = -1)[0]  # update previous decoder\n",
    "        decVec_new = np.hstack([np.ones((neural.shape[0], 1)), neural]).dot(D_new)\n",
    "\n",
    "        #Important: normalize the decoder so that D_new decoders vectors of magnitude 1 when far from the target. \n",
    "        #This will restore the original optimal gain.\n",
    "        TargDist   = np.linalg.norm(PosErr, axis = 1)\n",
    "        TargDir    = PosErr / TargDist[:, np.newaxis]\n",
    "        farIdx     = np.where(TargDist > 0.4)[0]\n",
    "        projVec    = np.sum(np.multiply(decVec_new[farIdx, :], TargDir[farIdx, :]), axis = 1)\n",
    "        D_new     /= np.mean(projVec)\n",
    "\n",
    "        ttt_new                  = simulateBCIFitts(tuning, D_new, alpha, beta, nDelaySteps, delT, nSimSteps, engine = eng)[-1] # simulate performance with recalibrated decoder\n",
    "        session_scores[i, j]     = np.mean(ttt_new)\n",
    "        distortion_mats[i,j,:,:] = getDistortionMatrix(D_new[1:, :], initialTuning[:, 1:])\n",
    "        \n",
    "    print(np.round(100 * (i + 1) / len(channel_sweep), 3), \"% complete\")\n",
    "    \n",
    "eng.quit()"
   ]
  },
  {
   "cell_type": "code",
   "execution_count": null,
   "metadata": {},
   "outputs": [],
   "source": []
  },
  {
   "cell_type": "code",
   "execution_count": null,
   "metadata": {},
   "outputs": [],
   "source": [
    "import matplotlib.cm as cm\n",
    "\n",
    "figSize(7, 14)\n",
    "\n",
    "labels = ['X distortion vectors', 'Y distortion vectors']\n",
    "\n",
    "\n",
    "for i, nUnits in enumerate(channels_sweep):\n",
    "    plt.subplot(3, 3, i + 1, projection='polar')\n",
    "    for j in range(2):\n",
    "        theta = np.arctan2(distortion_mats[i, :, 1, j], distortion_mats[i, :, 0, i])\n",
    "        r     = np.linalg.norm(distortion_mats[i, :, :, j], axis = 1)\n",
    "        plt.scatter(theta, r, color = cm.jet(1 - (days[1:] / max(days))))\n",
    "        ax    = plt.gca()\n",
    "        ax.set_rlim([0, 1])\n",
    "    plt.title('Distortion vectors: ' + str(nUnits) + ' channels')\n",
    "    \n",
    "plt.tight_layout()"
   ]
  },
  {
   "cell_type": "code",
   "execution_count": 43,
   "metadata": {},
   "outputs": [],
   "source": [
    "def getDistortionMatrix(dec, enc):\n",
    "    '''\n",
    "    Get distortion matrix D^T * E. Inputs are:\n",
    "    \n",
    "        dec (2D array) - n_channels x 2 array\n",
    "        enc (2D array) - n_channels x 2 array \n",
    "    '''\n",
    "    \n",
    "    distort  = dec.T.dot(enc)\n",
    "    distort /= np.outer(np.linalg.norm(dec, axis = 0), np.linalg.norm(enc, axis = 0))\n",
    "    \n",
    "    return distort\n",
    "    "
   ]
  },
  {
   "cell_type": "code",
   "execution_count": 67,
   "metadata": {},
   "outputs": [
    {
     "data": {
      "text/plain": [
       "Text(0.5, 0, 'Days')"
      ]
     },
     "execution_count": 67,
     "metadata": {},
     "output_type": "execute_result"
    },
    {
     "data": {
      "image/png": "[encoded data removed]",
      "text/plain": [
       "<Figure size 720x360 with 1 Axes>"
      ]
     },
     "metadata": {
      "needs_background": "light"
     },
     "output_type": "display_data"
    }
   ],
   "source": [
    "figSize(5, 10)\n",
    "\n",
    "labels = ['None', 'Previous', 'HMM']\n",
    "days   = np.linspace(0, (days_between + 1) * n_sessions, n_sessions + 1)\n",
    "\n",
    "for i, label in enumerate(labels):\n",
    "    plt.plot(days, session_scores[:, i], label = label)\n",
    "\n",
    "plt.legend()\n",
    "plt.title('Recalibration performance across time')\n",
    "plt.xlabel('Days')"
   ]
  },
  {
   "cell_type": "code",
   "execution_count": 91,
   "metadata": {},
   "outputs": [
    {
     "data": {
      "text/plain": [
       "array([[ 0.28762095,  1.07539781],\n",
       "       [ 0.44854366,  0.53451916],\n",
       "       [ 0.90422492,  0.71413597],\n",
       "       ...,\n",
       "       [ 0.98143308, -0.40655571],\n",
       "       [ 0.7940487 , -0.69481549],\n",
       "       [ 1.03589052, -0.73655241]])"
      ]
     },
     "execution_count": 91,
     "metadata": {},
     "output_type": "execute_result"
    }
   ],
   "source": [
    "rawDecTraj"
   ]
  },
  {
   "cell_type": "code",
   "execution_count": null,
   "metadata": {},
   "outputs": [],
   "source": []
  },
  {
   "cell_type": "code",
   "execution_count": null,
   "metadata": {},
   "outputs": [],
   "source": []
  }
 ],
 "metadata": {
  "kernelspec": {
   "display_name": "Speech",
   "language": "python",
   "name": "speech"
  },
  "language_info": {
   "codemirror_mode": {
    "name": "ipython",
    "version": 3
   },
   "file_extension": ".py",
   "mimetype": "text/x-python",
   "name": "python",
   "nbconvert_exporter": "python",
   "pygments_lexer": "ipython3",
   "version": "3.7.7"
  }
 },
 "nbformat": 4,
 "nbformat_minor": 2
}
