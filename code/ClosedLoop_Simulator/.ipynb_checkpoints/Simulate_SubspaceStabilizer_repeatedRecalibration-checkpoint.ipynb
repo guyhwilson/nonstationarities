{
 "cells": [
  {
   "cell_type": "markdown",
   "metadata": {},
   "source": [
    "Code for examining how HMM performs under repeated recalibration\n"
   ]
  },
  {
   "cell_type": "code",
   "execution_count": 1,
   "metadata": {},
   "outputs": [],
   "source": [
    "%load_ext autoreload\n",
    "%autoreload 2\n",
    "\n",
    "import numpy as np\n",
    "from sklearn.linear_model import LinearRegression\n",
    "\n",
    "\n",
    "import sys, glob\n",
    "[sys.path.append(f) for f in glob.glob('../utils/*')]\n",
    "from plotting_utils import figSize\n",
    "from hmm import hmmviterbi_vonmises, hmmdecode_vonmises\n",
    "from simulation_utils import * \n",
    "from simulation import simulateBCIFitts\n",
    "from stabilizer_utils import *\n",
    "\n",
    "# for a reproducible result\n",
    "np.random.seed(1)\n"
   ]
  },
  {
   "cell_type": "markdown",
   "metadata": {},
   "source": [
    "#### Define an initial decoder and initial neural tuning properties (mean firing rates and preferred directions).\n"
   ]
  },
  {
   "cell_type": "code",
   "execution_count": 2,
   "metadata": {},
   "outputs": [],
   "source": [
    "'''The first column of initialTuning is the means, and the second two columns are the preferred directions. \n",
    "We make sure that the last two columns are orthogonal (uniformly distributed PDs) \n",
    "and that the tuning strength is set to SNR (norm of the column is SNR). '''\n",
    "\n",
    "nUnits         = 192\n",
    "SNR            = 0.5\n",
    "nTrainingSteps = 10000\n",
    "\n",
    "initialTuning  = generateUnits(n_units = nUnits, SNR = SNR)\n",
    "\n",
    "calVelocity    = np.random.normal(size = (nTrainingSteps, 2))\n",
    "calNeural      = calVelocity.dot(initialTuning[:,1:].T)  + initialTuning[:, 0].T;  # FR = <velocity, PD> + baseline\n",
    "calNeural      = calNeural + np.random.normal(size = calNeural.shape) * 0.3      # add gaussian noise\n",
    "\n",
    "lr             = LinearRegression(fit_intercept = True).fit(calNeural, calVelocity)\n",
    "D              = np.hstack([lr.intercept_[:, np.newaxis], lr.coef_]).T\n",
    "\n",
    "# Normalize the gain of this decoder so that it will output vectors with a magnitude of 1 when the encoded velocity has a magnitude of 1. \n",
    "D[:, 0] = D[:,0] / np.linalg.norm(D[1:, :][:, 0]) / np.linalg.norm(initialTuning[:, 1])\n",
    "D[:, 1] = D[:,1] / np.linalg.norm(D[1:, :][:, 1]) / np.linalg.norm(initialTuning[:, 2])"
   ]
  },
  {
   "cell_type": "code",
   "execution_count": 3,
   "metadata": {},
   "outputs": [
    {
     "name": "stdout",
     "output_type": "stream",
     "text": [
      "0 / 10\n",
      "1 / 10\n",
      "2 / 10\n",
      "3 / 10\n",
      "4 / 10\n",
      "5 / 10\n",
      "6 / 10\n",
      "7 / 10\n",
      "8 / 10\n",
      "9 / 10\n",
      "Using gain value beta =  1.1666666666666665\n"
     ]
    },
    {
     "data": {
      "image/png": "[encoded data removed]",
      "text/plain": [
       "<Figure size 360x360 with 1 Axes>"
      ]
     },
     "metadata": {
      "needs_background": "light"
     },
     "output_type": "display_data"
    }
   ],
   "source": [
    "alpha       = 0.94 # amount of exponential smoothing (0.9 to 0.96 are reasonable)\n",
    "delT        = 0.01 # define the time step (10 ms)\n",
    "nDelaySteps = 20   # define the simulated user's visual feedback delay (200 ms)\n",
    "\n",
    "\n",
    "# Do a quick sweep of cursor gains to find the optimal one for this task:\n",
    "\n",
    "import matplotlib.pyplot as plt \n",
    "figSize(5,5)\n",
    "\n",
    "possibleGain = np.linspace(0.5,2.5,10)\n",
    "nSimSteps    = 50000\n",
    "meanTTT      = np.zeros((len(possibleGain),))\n",
    "\n",
    "for g in range(len(possibleGain)):\n",
    "    print(str(g) + ' / ' + str(len(possibleGain)))\n",
    "    posTraj, velTraj, rawDecTraj, conTraj, targTraj, neuralTraj, trialStart, ttt = simulateBCIFitts(initialTuning, D, alpha, possibleGain[g], nDelaySteps, delT, nSimSteps)\n",
    "    meanTTT[g] = np.mean(ttt)\n",
    "\n",
    "plt.figure()\n",
    "plt.plot(possibleGain, meanTTT, '-o')\n",
    "plt.xlabel('Gain')\n",
    "plt.ylabel('Mean Trial Time (s)')\n",
    "\n",
    "minIdx = np.argmin(meanTTT)\n",
    "beta   = possibleGain[minIdx]\n",
    "\n",
    "print('Using gain value beta = ', beta)"
   ]
  },
  {
   "cell_type": "code",
   "execution_count": 4,
   "metadata": {},
   "outputs": [],
   "source": [
    "# inflection and exponent terms from parameter grid search notebook: \n",
    "\n",
    "def adjustKappa(dist):\n",
    "    coef = 1 / (1 + np.exp(-1 * (dist - 0.15) * 5))\n",
    "    return coef "
   ]
  },
  {
   "cell_type": "code",
   "execution_count": null,
   "metadata": {},
   "outputs": [],
   "source": [
    "# general settings:\n",
    "n_sessions   = 30     # number of sessions to simulate \n",
    "days_between = 0      # days between sessions\n",
    "reps         = 10     # how many times to repeat the repeated nonstationarities simulation\n",
    "nSimSteps    = 10000  # number of timesteps for simulating session usage \n",
    "shrinkage    = 0.92   # relative tuning in subspace per new day\n",
    "\n",
    "# HMM settings:\n",
    "vmKappa    = 2          # Precision parameter for the von mises distribution\n",
    "probThresh = 0.4        # todo: implement\n",
    "gridSize   = 20\n",
    "stayProb   = 0.9999\n",
    "\n",
    "\n",
    "#-----------------------------------------\n",
    "session_scores          = np.zeros((reps, n_sessions + 1, 3)) # 0: no recalibration, 1: HMM recalibration (just once), 2: repeated HMM recalibration\n",
    "\n",
    "nStates                 = gridSize**2\n",
    "targLocs                = generateTargetGrid(gridSize = gridSize)\n",
    "stateTrans, pStateStart = generateTransitionMatrix(gridSize = gridSize, stayProb = stayProb)\n",
    "\n",
    "for n in range(reps):\n",
    "    # Day 0 performance:\n",
    "    ttt                     = simulateBCIFitts(initialTuning, D, alpha, beta, nDelaySteps, delT, nSimSteps)[-1]\n",
    "    session_scores[:, 0, :] = np.mean(ttt)\n",
    "    \n",
    "    D_HMM  = np.copy(D)\n",
    "    tuning = np.copy(initialTuning)\n",
    "    \n",
    "    for i in range(n_sessions):\n",
    "        for j in range(days_between + 1):\n",
    "            tuning = simulateTuningShift(tuning, PD_shrinkage = shrinkage, mean_shift = 0, renormalize = True)  # introduce daily nonstationarities between recorded sessions\n",
    "\n",
    "        # No recalibration:\n",
    "        ttt_none                  = simulateBCIFitts(tuning, D, alpha, beta, nDelaySteps, delT, nSimSteps)[-1] \n",
    "        session_scores[n, i+1, 0] = np.mean(ttt_none)\n",
    "\n",
    "\n",
    "        # HMM recalibration (once):\n",
    "        cursorPos, _, decOut, _, _, neural, _, ttt_prior = simulateBCIFitts(tuning, D, alpha, beta, nDelaySteps, delT, nSimSteps) \n",
    "        targStates, pTargState                           = hmmviterbi_vonmises(decOut, stateTrans, targLocs, cursorPos, pStateStart, vmKappa, adjustKappa = adjustKappa)\n",
    "\n",
    "        inferredTargLoc  = targLocs[targStates.astype('int').flatten() - 1,:]\n",
    "        inferredPosErr   = inferredTargLoc - cursorPos\n",
    "\n",
    "        D_once           = np.linalg.lstsq(np.hstack([np.ones((neural.shape[0], 1)), neural]), inferredPosErr, rcond = -1)[0]  # update previous decoder\n",
    "        decVec_new       = np.hstack([np.ones((neural.shape[0], 1)), neural]).dot(D_once)\n",
    "\n",
    "        #Important: normalize the decoder so that D_new decoders vectors of magnitude 1 when far from the target. \n",
    "        #This will restore the original optimal gain.\n",
    "        inferredTargDist = np.linalg.norm(inferredPosErr, axis = 1)\n",
    "        inferredTargDir  = inferredPosErr / inferredTargDist[:, np.newaxis]\n",
    "        farIdx           = np.where(inferredTargDist > 0.4)[0]\n",
    "        projVec          = np.sum(np.multiply(decVec_new[farIdx, :], inferredTargDir[farIdx, :]), axis = 1)\n",
    "        D_once          /= np.mean(projVec)\n",
    "\n",
    "        ttt_Recal                  = simulateBCIFitts(tuning, D_once, alpha, beta, nDelaySteps, delT, nSimSteps)[-1] #Simulate BCI performance with the HMM-recalibrated decoder\n",
    "        session_scores[n, i+1, 1]  = np.mean(ttt_Recal)\n",
    "\n",
    "\n",
    "        # HMM recalibration (repeated):\n",
    "        cursorPos, _, decOut, _, _, neural, _, ttt_prior = simulateBCIFitts(tuning, D_HMM, alpha, beta, nDelaySteps, delT, nSimSteps) \n",
    "        targStates, pTargState                           = hmmviterbi_vonmises(decOut, stateTrans, targLocs, cursorPos, pStateStart, vmKappa, adjustKappa = adjustKappa)\n",
    "\n",
    "        inferredTargLoc  = targLocs[targStates.astype('int').flatten() - 1,:]\n",
    "        inferredPosErr   = inferredTargLoc - cursorPos\n",
    "\n",
    "        D_HMM            = np.linalg.lstsq(np.hstack([np.ones((neural.shape[0], 1)), neural]), inferredPosErr, rcond = -1)[0]  # update previous decoder\n",
    "        decVec_new       = np.hstack([np.ones((neural.shape[0], 1)), neural]).dot(D_HMM)\n",
    "\n",
    "        #Important: normalize the decoder so that D_new decoders vectors of magnitude 1 when far from the target. \n",
    "        #This will restore the original optimal gain.\n",
    "        inferredTargDist = np.linalg.norm(inferredPosErr, axis = 1)\n",
    "        inferredTargDir  = inferredPosErr / inferredTargDist[:, np.newaxis]\n",
    "        farIdx           = np.where(inferredTargDist > 0.4)[0]\n",
    "        projVec          = np.sum(np.multiply(decVec_new[farIdx, :], inferredTargDir[farIdx, :]), axis = 1)\n",
    "        D_HMM           /= np.mean(projVec)\n",
    "\n",
    "        ttt_RepeatedRecal          = simulateBCIFitts(tuning, D_HMM, alpha, beta, nDelaySteps, delT, nSimSteps)[-1] #Simulate BCI performance with the HMM-recalibrated decoder\n",
    "        session_scores[n, i+1, 2]  = np.mean(ttt_RepeatedRecal)\n"
   ]
  },
  {
   "cell_type": "code",
   "execution_count": null,
   "metadata": {},
   "outputs": [],
   "source": [
    "figSize(5, 10)\n",
    "from lineplots import plotsd\n",
    "\n",
    "labels = ['None', 'One-time HMM', 'repeated HMM']\n",
    "colors = ['r', 'g', 'b']\n",
    "days   = np.linspace(0, (days_between + 1) * n_sessions, n_sessions + 1)\n",
    "\n",
    "for i, label in enumerate(labels):\n",
    "    plotsd(data = session_scores[:, :, i], time_bins = days, color = colors[i], toggleSE = True)\n",
    "\n",
    "plt.legend(labels, loc = 'upper left')\n",
    "plt.title('Recalibration performance across time (alpha = ' + str(shrinkage) + ')')\n",
    "plt.xlabel('Days')\n",
    "plt.ylabel('Time to target (sec)')"
   ]
  },
  {
   "cell_type": "code",
   "execution_count": null,
   "metadata": {},
   "outputs": [],
   "source": []
  }
 ],
 "metadata": {
  "kernelspec": {
   "display_name": "Speech",
   "language": "python",
   "name": "speech"
  },
  "language_info": {
   "codemirror_mode": {
    "name": "ipython",
    "version": 3
   },
   "file_extension": ".py",
   "mimetype": "text/x-python",
   "name": "python",
   "nbconvert_exporter": "python",
   "pygments_lexer": "ipython3",
   "version": "3.7.7"
  }
 },
 "nbformat": 4,
 "nbformat_minor": 2
}
