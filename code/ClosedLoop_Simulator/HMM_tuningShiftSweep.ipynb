{
 "cells": [
  {
   "cell_type": "markdown",
   "metadata": {},
   "source": [
    "Code for examining how HMM performs under different perturbations to population activity. \n",
    "\n",
    "Tests recalibration performance in response to mean shifts, PD shifts"
   ]
  },
  {
   "cell_type": "code",
   "execution_count": 168,
   "metadata": {},
   "outputs": [
    {
     "name": "stdout",
     "output_type": "stream",
     "text": [
      "The autoreload extension is already loaded. To reload it, use:\n",
      "  %reload_ext autoreload\n"
     ]
    }
   ],
   "source": [
    "%load_ext autoreload\n",
    "%autoreload 2\n",
    "\n",
    "import numpy as np\n",
    "\n",
    "\n",
    "import sys\n",
    "sys.path.append('utils/plotting/')\n",
    "sys.path.append('utils/MATLAB/')\n",
    "sys.path.append('utils/simulation/')\n",
    "from plotting_utils import figSize\n",
    "from HMM_matlab import hmmviterbi_vonmises, hmmdecode_vonmises\n",
    "from simulation_matlab import *\n",
    "from simulation_utils import * \n",
    "\n",
    "# for a reproducible result\n",
    "np.random.seed(1)\n"
   ]
  },
  {
   "cell_type": "markdown",
   "metadata": {},
   "source": [
    "#### Define an initial decoder and initial neural tuning properties (mean firing rates and preferred directions).\n"
   ]
  },
  {
   "cell_type": "code",
   "execution_count": 151,
   "metadata": {},
   "outputs": [],
   "source": [
    "'''The first column of initialTuning is the means, and the second two columns are the preferred directions. \n",
    "We make sure that the last two columns are orthogonal (uniformly distributed PDs) \n",
    "and that the tuning strength is set to 1 (norm of the column is 1). '''\n",
    "\n",
    "nUnits        = 192\n",
    "SNR           = 1\n",
    "\n",
    "initialTuning = generateUnits(n_units = nUnits, SNR = SNR)"
   ]
  },
  {
   "cell_type": "code",
   "execution_count": 152,
   "metadata": {},
   "outputs": [],
   "source": [
    "'''Generate initial decoder '''\n",
    "from sklearn.linear_model import LinearRegression\n",
    "\n",
    "nTrainingSteps = 10000\n",
    "calVelocity    = np.random.normal(size = (nTrainingSteps, 2))\n",
    "calNeural      = calVelocity.dot(initialTuning[:,1:].T)  + initialTuning[:, 0].T;  # FR = <velocity, PD> + baseline\n",
    "calNeural      = calNeural + np.random.normal(size = calNeural.shape) * 0.3      # add gaussian noise\n",
    "\n",
    "lr             = LinearRegression(fit_intercept = True).fit(calNeural, calVelocity)\n",
    "D              = np.hstack([lr.intercept_[:, np.newaxis], lr.coef_]).T\n",
    "\n",
    "# Normalize the gain of this decoder so that it will output vectors with a magnitude of 1 when the encoded velocity has a magnitude of 1. \n",
    "D[:, 0] = D[:,0] / np.linalg.norm(D[1:, :][:, 0]) / np.linalg.norm(initialTuning[:, 1])\n",
    "D[:, 1] = D[:,1] / np.linalg.norm(D[1:, :][:, 1]) / np.linalg.norm(initialTuning[:, 2])\n"
   ]
  },
  {
   "cell_type": "code",
   "execution_count": 153,
   "metadata": {},
   "outputs": [],
   "source": [
    "'''Here we define the amount of exponential smoothing used in the decoder (alpha). Values between 0.9 and 0.96 are pretty reasonable. See the paper\n",
    "'A comparison of intention estimation methods for decoder calibration in intracortical brain-computer interfaces' for an explanation of how velocity Kalman \n",
    "filters can be parameterized with a smoothing parameter (alpha), gain parameter (beta, see next section below) and decoding matrix (D). '''\n",
    "\n",
    "alpha       = 0.94\n",
    "delT        = 0.01 # define the time step (10 ms)\n",
    "nDelaySteps = 20   # define the simulated user's visual feedback delay (200 ms)"
   ]
  },
  {
   "cell_type": "markdown",
   "metadata": {},
   "source": [
    "### Do a quick sweep of cursor gains to find the optimal one for this task.\n",
    "\n",
    "This is really important so that any new recalibration algorithm doesn't improve performance simply by coincidence,\n",
    "via randomly changing the gain to some better value."
   ]
  },
  {
   "cell_type": "code",
   "execution_count": 154,
   "metadata": {},
   "outputs": [
    {
     "name": "stdout",
     "output_type": "stream",
     "text": [
      "0 / 10\n",
      "1 / 10\n",
      "2 / 10\n",
      "3 / 10\n",
      "4 / 10\n",
      "5 / 10\n",
      "6 / 10\n",
      "7 / 10\n",
      "8 / 10\n",
      "9 / 10\n",
      "Using gain value beta =  1.3888888888888888\n"
     ]
    },
    {
     "data": {
      "image/png": "[encoded data removed]",
      "text/plain": [
       "<Figure size 360x360 with 1 Axes>"
      ]
     },
     "metadata": {
      "needs_background": "light"
     },
     "output_type": "display_data"
    }
   ],
   "source": [
    "'''\n",
    "The task we are simulating is a fitts style task where targets randomly\n",
    "appear within a box centered at the origin. To acquire the target, the\n",
    "user must hold the cursor on top of the target for half a second. The\n",
    "performance metric of interest is the average total trial time (TTT), or\n",
    "the average amount of time it takes to reach to and fully hold on a target. \n",
    "\n",
    "The 'simulateBCIFitts' does all the work of simulating the BCI user, the\n",
    "neural activity, and the decoder. It returns time series data you can use\n",
    "to see the cursor trajectory and target locations (posTraj & velTraj are\n",
    "the cursor positions and velocities, rawDecTraj is the raw decoded\n",
    "velocity vectors before they are smoothed, conTraj is the user's internal\n",
    "control vector, targTraj is a time series of target locations, neuralTraj\n",
    "is a time series of neural activity, trialStart contains the time step on\n",
    "which each trial started, and ttt has the trial time (in seconds) for each\n",
    "trial. '''\n",
    "import matplotlib.pyplot as plt \n",
    "figSize(5,5)\n",
    "\n",
    "possibleGain = np.linspace(0.5,2.5,10)\n",
    "nSimSteps    = 50000\n",
    "meanTTT      = np.zeros((len(possibleGain),))\n",
    "\n",
    "for g in range(len(possibleGain)):\n",
    "    print(str(g) + ' / ' + str(len(possibleGain)))\n",
    "    posTraj, velTraj, rawDecTraj, conTraj, targTraj, neuralTraj, trialStart, ttt = simulateBCIFitts(initialTuning, D,alpha, possibleGain[g], nDelaySteps, delT, nSimSteps)\n",
    "    meanTTT[g] = np.mean(ttt)\n",
    "\n",
    "plt.figure()\n",
    "plt.plot(possibleGain, meanTTT, '-o')\n",
    "plt.xlabel('Gain')\n",
    "plt.ylabel('Mean Trial Time (s)')\n",
    "\n",
    "minIdx = np.argmin(meanTTT)\n",
    "beta   = possibleGain[minIdx]\n",
    "\n",
    "print('Using gain value beta = ', beta)\n"
   ]
  },
  {
   "cell_type": "code",
   "execution_count": 157,
   "metadata": {},
   "outputs": [
    {
     "name": "stdout",
     "output_type": "stream",
     "text": [
      "9.09 % complete.\n",
      "18.18 % complete.\n",
      "27.27 % complete.\n",
      "36.36 % complete.\n",
      "45.45 % complete.\n",
      "54.55 % complete.\n",
      "63.64 % complete.\n",
      "72.73 % complete.\n",
      "81.82 % complete.\n",
      "90.91 % complete.\n",
      "100.0 % complete.\n"
     ]
    }
   ],
   "source": [
    "# general settings:\n",
    "nSimSteps  = 100000\n",
    "PD_sweep   = np.linspace(0, 1, 11)\n",
    "mean_sweep = np.linspace(0, 1, 11)\n",
    "\n",
    "# HMM settings:\n",
    "vmKappa    = 2          # Precision parameter for the von mises distribution\n",
    "probThresh = 0.4\n",
    "gridSize   = 20\n",
    "stayProb   = 0.9999\n",
    "\n",
    "\n",
    "#-----------------------------------------\n",
    "sweep_scores = np.zeros((len(PD_sweep), len(mean_sweep), 2)) # 0: no recalibration, 1: mean recalibration, 2: HMM recalibration\n",
    "\n",
    "\n",
    "X_loc,Y_loc = np.meshgrid(np.linspace(-0.5, 0.5, gridSize), np.linspace(-0.5, 0.5, gridSize))\n",
    "targLocs    = np.vstack([np.ravel(X_loc), np.ravel(Y_loc[:])]).T\n",
    "nStates     = gridSize**2\n",
    "stateTrans  = np.eye(nStates)*stayProb # Define the state transition matrix\n",
    "\n",
    "for x in range(nStates):\n",
    "    idx                = np.setdiff1d(np.arange(nStates), x)\n",
    "    stateTrans[x, idx] = (1-stayProb)/(nStates-1)\n",
    "\n",
    "pStateStart = np.zeros((nStates,1)) + 1/nStates\n",
    "\n",
    "\n",
    "ttt       = simulateBCIFitts(initialTuning, D, alpha, beta, nDelaySteps, delT, nSimSteps)[-1] # Simulate BCI performance with matched neural tuning and decoder, and an optimized gain\n",
    "opt_score = np.mean(ttt)\n",
    "eng       = matlab.engine.start_matlab()\n",
    "\n",
    "for i, PD_ratio in enumerate(PD_sweep):\n",
    "    for j, mean_shift in enumerate(mean_sweep):\n",
    "        newTuning                                       = simulateTuningShift(initialTuning, PD_ratio = PD_ratio, mean_shift = mean_shift)       # now introduce nonstationarities\n",
    "        cursorPos, _, decOut, _, _, neural, _, ttt_new  = simulateBCIFitts(newTuning, D, alpha, beta, nDelaySteps, delT, nSimSteps)              # simulate performnance with old decoder\n",
    "        sweep_scores[i, j, 0]                           = np.mean(ttt_new)\n",
    "        \n",
    "        targStates, logP = hmmviterbi_vonmises(decOut, stateTrans, targLocs, cursorPos, pStateStart, vmKappa, engine = eng)\n",
    "        pTargState, pSeq = hmmdecode_vonmises(decOut,  stateTrans, targLocs, cursorPos, pStateStart, vmKappa, engine = eng)\n",
    "        inferredTargLoc  = targLocs[targStates.astype('int').flatten() - 1,:]\n",
    "        inferredPosErr   = inferredTargLoc - cursorPos\n",
    "\n",
    "        D_new          = np.linalg.lstsq(np.hstack([np.ones((neural.shape[0], 1)), neural]), inferredPosErr, rcond = -1)[0]\n",
    "        decVec_new     = np.hstack([np.ones((neural.shape[0], 1)), neural]).dot(D_new)\n",
    "\n",
    "        #Important: normalize the decoder so that D_new decoders vectors of magnitude 1 when far from the target. \n",
    "        #This will restore the original optimal gain.\n",
    "        inferredTargDist = np.linalg.norm(inferredPosErr, axis = 1)\n",
    "        inferredTargDir  = inferredPosErr / inferredTargDist[:, np.newaxis]\n",
    "        farIdx           = np.where(inferredTargDist > probThresh)[0]\n",
    "        projVec          = np.sum(np.multiply(decVec_new[farIdx, :], inferredTargDir[farIdx, :]), axis = 1)\n",
    "        D_new           /= np.mean(projVec)\n",
    "\n",
    "        \n",
    "        ttt_recal             = simulateBCIFitts(newTuning, D_new, alpha, beta, nDelaySteps, delT, nSimSteps)[-1] #Simulate BCI performance with the HMM-recalibrated decoder\n",
    "        sweep_scores[i, j, 1] = np.mean(ttt_recal)\n",
    "        \n",
    "    print(np.round((i + 1) * 100 / len(PD_sweep), 2), '% complete.')\n",
    "    \n",
    "eng.quit()"
   ]
  },
  {
   "cell_type": "code",
   "execution_count": 158,
   "metadata": {},
   "outputs": [
    {
     "data": {
      "image/png": "[encoded data removed]",
      "text/plain": [
       "<Figure size 1728x720 with 2 Axes>"
      ]
     },
     "metadata": {
      "needs_background": "light"
     },
     "output_type": "display_data"
    }
   ],
   "source": [
    "figSize(10, 24)\n",
    "\n",
    "for i in range(2):\n",
    "    plt.subplot(1, 2, i + 1)\n",
    "    plt.imshow(sweep_scores[:, :, i], aspect = 'auto')\n",
    "    plt.xticks(np.arange(len(mean_sweep)), np.round(mean_sweep, 2))\n",
    "    plt.yticks(np.arange(len(PD_sweep)), np.round(PD_sweep, 2))\n",
    "    plt.xlabel('Mean shift (sigma)')\n",
    "    plt.ylabel('PD ratio')\n"
   ]
  },
  {
   "cell_type": "code",
   "execution_count": 167,
   "metadata": {},
   "outputs": [
    {
     "data": {
      "text/plain": [
       "[<matplotlib.lines.Line2D at 0x1603ab4be48>]"
      ]
     },
     "execution_count": 167,
     "metadata": {},
     "output_type": "execute_result"
    },
    {
     "data": {
      "image/png": "[encoded data removed]",
      "text/plain": [
       "<Figure size 1728x720 with 1 Axes>"
      ]
     },
     "metadata": {
      "needs_background": "light"
     },
     "output_type": "display_data"
    }
   ],
   "source": [
    "plt.plot(sweep_scores[:, 0, 0])\n",
    "plt.plot(sweep_scores[:, 0, 1])"
   ]
  },
  {
   "cell_type": "code",
   "execution_count": null,
   "metadata": {},
   "outputs": [],
   "source": []
  },
  {
   "cell_type": "code",
   "execution_count": null,
   "metadata": {},
   "outputs": [],
   "source": []
  },
  {
   "cell_type": "code",
   "execution_count": null,
   "metadata": {},
   "outputs": [],
   "source": []
  }
 ],
 "metadata": {
  "kernelspec": {
   "display_name": "Speech",
   "language": "python",
   "name": "speech"
  },
  "language_info": {
   "codemirror_mode": {
    "name": "ipython",
    "version": 3
   },
   "file_extension": ".py",
   "mimetype": "text/x-python",
   "name": "python",
   "nbconvert_exporter": "python",
   "pygments_lexer": "ipython3",
   "version": "3.7.7"
  }
 },
 "nbformat": 4,
 "nbformat_minor": 2
}
