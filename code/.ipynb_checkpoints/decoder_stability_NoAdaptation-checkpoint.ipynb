{
 "cells": [
  {
   "cell_type": "code",
   "execution_count": 2,
   "metadata": {},
   "outputs": [],
   "source": [
    "%load_ext autoreload\n",
    "%autoreload 2\n",
    "\n",
    "import numpy as np\n",
    "from scipy.io import loadmat\n",
    "import matplotlib.pyplot as plt\n",
    "import glob\n",
    "import sys\n",
    "\n",
    "[sys.path.append(f) for f in glob.glob('utils/*')]\n",
    "from preprocess import DataStruct\n",
    "from firingrate import raster2FR\n",
    "\n",
    "files = glob.glob('D:/T5_ClosedLoop/*')"
   ]
  },
  {
   "cell_type": "code",
   "execution_count": 17,
   "metadata": {},
   "outputs": [],
   "source": []
  },
  {
   "cell_type": "code",
   "execution_count": 18,
   "metadata": {},
   "outputs": [],
   "source": []
  },
  {
   "cell_type": "code",
   "execution_count": 20,
   "metadata": {},
   "outputs": [
    {
     "name": "stdout",
     "output_type": "stream",
     "text": [
      "[0.30182041 0.3084013  0.28969867 0.31321984 0.35041631 0.31823849\n",
      " 0.3814243  0.37241722 0.34243111 0.34720034]\n"
     ]
    }
   ],
   "source": [
    "from sklearn.linear_model import LinearRegression\n",
    "from sklearn.pipeline import Pipeline\n",
    "from sklearn.preprocessing import StandardScaler\n",
    "\n",
    "from sklearn.model_selection import cross_val_score\n",
    "\n"
   ]
  },
  {
   "cell_type": "code",
   "execution_count": 38,
   "metadata": {},
   "outputs": [],
   "source": [
    "def rolling_window(a, window):\n",
    "    shape = a.shape[:-1] + (a.shape[-1] - window + 1, window)\n",
    "    strides = a.strides + (a.strides[-1],)\n",
    "    return np.lib.stride_tricks.as_strided(a, shape=shape, strides=strides)\n",
    "\n",
    "\n"
   ]
  },
  {
   "cell_type": "code",
   "execution_count": 41,
   "metadata": {},
   "outputs": [
    {
     "data": {
      "text/plain": [
       "192"
      ]
     },
     "execution_count": 41,
     "metadata": {},
     "output_type": "execute_result"
    }
   ],
   "source": [
    "n_chans"
   ]
  },
  {
   "cell_type": "code",
   "execution_count": 40,
   "metadata": {},
   "outputs": [
    {
     "ename": "ValueError",
     "evalue": "cannot reshape array of size 50227960 into shape (192,newaxis)",
     "output_type": "error",
     "traceback": [
      "\u001b[1;31m---------------------------------------------------------------------------\u001b[0m",
      "\u001b[1;31mValueError\u001b[0m                                Traceback (most recent call last)",
      "\u001b[1;32m<ipython-input-40-3c04357ad56d>\u001b[0m in \u001b[0;36m<module>\u001b[1;34m\u001b[0m\n\u001b[0;32m      6\u001b[0m \u001b[1;33m\u001b[0m\u001b[0m\n\u001b[0;32m      7\u001b[0m \u001b[0mtargs\u001b[0m    \u001b[1;33m=\u001b[0m \u001b[1;33m(\u001b[0m\u001b[0mdat\u001b[0m\u001b[1;33m.\u001b[0m\u001b[0mtargetPos\u001b[0m \u001b[1;33m-\u001b[0m \u001b[0mdat\u001b[0m\u001b[1;33m.\u001b[0m\u001b[0mcursorPos\u001b[0m\u001b[1;33m)\u001b[0m \u001b[1;33m[\u001b[0m\u001b[1;33m:\u001b[0m\u001b[1;33m-\u001b[0m\u001b[1;36m5\u001b[0m\u001b[1;33m,\u001b[0m \u001b[1;33m:\u001b[0m\u001b[1;33m]\u001b[0m\u001b[1;33m\u001b[0m\u001b[1;33m\u001b[0m\u001b[0m\n\u001b[1;32m----> 8\u001b[1;33m \u001b[0mfeatures\u001b[0m \u001b[1;33m=\u001b[0m \u001b[0mrolling_window\u001b[0m\u001b[1;33m(\u001b[0m\u001b[0mdat\u001b[0m\u001b[1;33m.\u001b[0m\u001b[0mTX\u001b[0m\u001b[1;33m,\u001b[0m \u001b[0mwindow\u001b[0m \u001b[1;33m=\u001b[0m \u001b[1;36m5\u001b[0m\u001b[1;33m)\u001b[0m\u001b[1;33m.\u001b[0m\u001b[0mreshape\u001b[0m\u001b[1;33m(\u001b[0m\u001b[0mn_chans\u001b[0m\u001b[1;33m,\u001b[0m \u001b[1;33m-\u001b[0m\u001b[1;36m1\u001b[0m\u001b[1;33m)\u001b[0m\u001b[1;33m\u001b[0m\u001b[1;33m\u001b[0m\u001b[0m\n\u001b[0m\u001b[0;32m      9\u001b[0m \u001b[1;33m\u001b[0m\u001b[0m\n\u001b[0;32m     10\u001b[0m \u001b[1;33m\u001b[0m\u001b[0m\n",
      "\u001b[1;31mValueError\u001b[0m: cannot reshape array of size 50227960 into shape (192,newaxis)"
     ]
    }
   ],
   "source": [
    "dat      = DataStruct(files[2])\n",
    "window   = 5\n",
    "\n",
    "\n",
    "n_chans  = dat.TX.shape[1]\n",
    "\n",
    "targs    = (dat.targetPos - dat.cursorPos) [:-5, :]\n",
    "features = rolling_window(dat.TX, window = 5).reshape(n_chans, -1)\n",
    "\n",
    "\n",
    "lr         = LinearRegression()\n",
    "normalizer = StandardScaler()\n",
    "decoder    = Pipeline([('scaler', StandardScaler()), ('regressor', lr)])\n",
    "scores = cross_val_score(decoder, features, targs, cv = 10)\n",
    "print(scores)"
   ]
  },
  {
   "cell_type": "code",
   "execution_count": 15,
   "metadata": {},
   "outputs": [
    {
     "data": {
      "text/plain": [
       "array([0.38868059, 0.39188252, 0.37112343, 0.24628728, 0.34158282,\n",
       "       0.39026565, 0.3858543 , 0.31614585, 0.32642094, 0.30154847])"
      ]
     },
     "execution_count": 15,
     "metadata": {},
     "output_type": "execute_result"
    }
   ],
   "source": [
    "\n",
    "\n",
    "\n",
    "for i in range"
   ]
  },
  {
   "cell_type": "code",
   "execution_count": 16,
   "metadata": {},
   "outputs": [
    {
     "data": {
      "text/plain": [
       "['D:/T5_ClosedLoop\\\\t5.2016.09.26.mat',\n",
       " 'D:/T5_ClosedLoop\\\\t5.2016.09.28.mat',\n",
       " 'D:/T5_ClosedLoop\\\\t5.2016.10.03.mat',\n",
       " 'D:/T5_ClosedLoop\\\\t5.2016.10.05.mat',\n",
       " 'D:/T5_ClosedLoop\\\\t5.2016.10.07.mat',\n",
       " 'D:/T5_ClosedLoop\\\\t5.2016.10.10.mat',\n",
       " 'D:/T5_ClosedLoop\\\\t5.2016.10.12.mat',\n",
       " 'D:/T5_ClosedLoop\\\\t5.2016.10.13.mat',\n",
       " 'D:/T5_ClosedLoop\\\\t5.2016.10.17.mat',\n",
       " 'D:/T5_ClosedLoop\\\\t5.2016.10.19.mat',\n",
       " 'D:/T5_ClosedLoop\\\\t5.2016.10.24.mat',\n",
       " 'D:/T5_ClosedLoop\\\\t5.2016.10.26.mat',\n",
       " 'D:/T5_ClosedLoop\\\\t5.2016.10.31.mat',\n",
       " 'D:/T5_ClosedLoop\\\\t5.2016.12.06.mat',\n",
       " 'D:/T5_ClosedLoop\\\\t5.2016.12.08.mat',\n",
       " 'D:/T5_ClosedLoop\\\\t5.2016.12.15.mat',\n",
       " 'D:/T5_ClosedLoop\\\\t5.2016.12.16.mat',\n",
       " 'D:/T5_ClosedLoop\\\\t5.2016.12.19.mat',\n",
       " 'D:/T5_ClosedLoop\\\\t5.2016.12.21.mat',\n",
       " 'D:/T5_ClosedLoop\\\\t5.2017.01.04.mat',\n",
       " 'D:/T5_ClosedLoop\\\\t5.2017.01.30.mat',\n",
       " 'D:/T5_ClosedLoop\\\\t5.2017.02.15.mat',\n",
       " 'D:/T5_ClosedLoop\\\\t5.2017.02.22.mat',\n",
       " 'D:/T5_ClosedLoop\\\\t5.2017.03.30.mat',\n",
       " 'D:/T5_ClosedLoop\\\\t5.2017.04.26.mat',\n",
       " 'D:/T5_ClosedLoop\\\\t5.2017.05.24.mat',\n",
       " 'D:/T5_ClosedLoop\\\\t5.2017.05.31.mat',\n",
       " 'D:/T5_ClosedLoop\\\\t5.2017.07.07.mat',\n",
       " 'D:/T5_ClosedLoop\\\\t5.2017.07.31.mat',\n",
       " 'D:/T5_ClosedLoop\\\\t5.2017.08.04.mat',\n",
       " 'D:/T5_ClosedLoop\\\\t5.2017.08.07.mat',\n",
       " 'D:/T5_ClosedLoop\\\\t5.2017.09.20.mat',\n",
       " 'D:/T5_ClosedLoop\\\\t5.2017.12.27.mat',\n",
       " 'D:/T5_ClosedLoop\\\\t5.2018.01.08.mat',\n",
       " 'D:/T5_ClosedLoop\\\\t5.2018.01.17.mat',\n",
       " 'D:/T5_ClosedLoop\\\\t5.2018.01.19.mat',\n",
       " 'D:/T5_ClosedLoop\\\\t5.2018.01.22.mat',\n",
       " 'D:/T5_ClosedLoop\\\\t5.2018.01.24.mat',\n",
       " 'D:/T5_ClosedLoop\\\\t5.2018.04.09.mat',\n",
       " 'D:/T5_ClosedLoop\\\\t5.2018.04.16.mat',\n",
       " 'D:/T5_ClosedLoop\\\\t5.2018.04.18.mat',\n",
       " 'D:/T5_ClosedLoop\\\\t5.2018.04.23.mat',\n",
       " 'D:/T5_ClosedLoop\\\\t5.2018.05.14.mat',\n",
       " 'D:/T5_ClosedLoop\\\\t5.2018.06.11.mat',\n",
       " 'D:/T5_ClosedLoop\\\\t5.2018.06.25.mat',\n",
       " 'D:/T5_ClosedLoop\\\\t5.2018.06.27.mat',\n",
       " 'D:/T5_ClosedLoop\\\\t5.2018.07.02.mat',\n",
       " 'D:/T5_ClosedLoop\\\\t5.2018.07.06.mat',\n",
       " 'D:/T5_ClosedLoop\\\\t5.2018.07.11.mat',\n",
       " 'D:/T5_ClosedLoop\\\\t5.2018.07.25.mat',\n",
       " 'D:/T5_ClosedLoop\\\\t5.2018.07.27.mat',\n",
       " 'D:/T5_ClosedLoop\\\\t5.2018.08.06.mat',\n",
       " 'D:/T5_ClosedLoop\\\\t5.2018.08.08.mat',\n",
       " 'D:/T5_ClosedLoop\\\\t5.2018.08.22.mat',\n",
       " 'D:/T5_ClosedLoop\\\\t5.2018.09.17.mat',\n",
       " 'D:/T5_ClosedLoop\\\\t5.2018.10.24.mat',\n",
       " 'D:/T5_ClosedLoop\\\\t5.2018.11.21.mat',\n",
       " 'D:/T5_ClosedLoop\\\\t5.2018.11.28.mat',\n",
       " 'D:/T5_ClosedLoop\\\\t5.2018.12.12.mat',\n",
       " 'D:/T5_ClosedLoop\\\\t5.2018.12.17.mat',\n",
       " 'D:/T5_ClosedLoop\\\\t5.2018.12.19.mat',\n",
       " 'D:/T5_ClosedLoop\\\\t5.2019.01.09.mat',\n",
       " 'D:/T5_ClosedLoop\\\\t5.2019.01.14.mat',\n",
       " 'D:/T5_ClosedLoop\\\\t5.2019.01.16.mat',\n",
       " 'D:/T5_ClosedLoop\\\\t5.2019.01.23.mat',\n",
       " 'D:/T5_ClosedLoop\\\\t5.2019.01.30.mat',\n",
       " 'D:/T5_ClosedLoop\\\\t5.2019.02.22.mat',\n",
       " 'D:/T5_ClosedLoop\\\\t5.2019.03.13.mat',\n",
       " 'D:/T5_ClosedLoop\\\\t5.2019.03.20.mat',\n",
       " 'D:/T5_ClosedLoop\\\\t5.2019.03.27.mat',\n",
       " 'D:/T5_ClosedLoop\\\\t5.2019.04.01.mat',\n",
       " 'D:/T5_ClosedLoop\\\\t5.2019.04.03.mat',\n",
       " 'D:/T5_ClosedLoop\\\\t5.2019.04.08.mat',\n",
       " 'D:/T5_ClosedLoop\\\\t5.2019.04.29.mat',\n",
       " 'D:/T5_ClosedLoop\\\\t5.2019.05.29.mat',\n",
       " 'D:/T5_ClosedLoop\\\\t5.2019.06.19.mat',\n",
       " 'D:/T5_ClosedLoop\\\\t5.2019.07.01.mat',\n",
       " 'D:/T5_ClosedLoop\\\\t5.2019.09.18.mat',\n",
       " 'D:/T5_ClosedLoop\\\\t5.2019.10.28.mat',\n",
       " 'D:/T5_ClosedLoop\\\\t5.2019.11.27.mat',\n",
       " 'D:/T5_ClosedLoop\\\\t5.2019.12.09.mat',\n",
       " 'D:/T5_ClosedLoop\\\\t5.2020.01.13.mat',\n",
       " 'D:/T5_ClosedLoop\\\\t5.2020.02.26.mat']"
      ]
     },
     "execution_count": 16,
     "metadata": {},
     "output_type": "execute_result"
    }
   ],
   "source": [
    "files"
   ]
  },
  {
   "cell_type": "code",
   "execution_count": null,
   "metadata": {},
   "outputs": [],
   "source": []
  }
 ],
 "metadata": {
  "kernelspec": {
   "display_name": "Speech",
   "language": "python",
   "name": "speech"
  },
  "language_info": {
   "codemirror_mode": {
    "name": "ipython",
    "version": 3
   },
   "file_extension": ".py",
   "mimetype": "text/x-python",
   "name": "python",
   "nbconvert_exporter": "python",
   "pygments_lexer": "ipython3",
   "version": "3.7.7"
  }
 },
 "nbformat": 4,
 "nbformat_minor": 2
}
