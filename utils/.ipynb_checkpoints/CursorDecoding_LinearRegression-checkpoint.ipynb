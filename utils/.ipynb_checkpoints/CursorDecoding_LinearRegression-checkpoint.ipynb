{
 "cells": [
  {
   "cell_type": "markdown",
   "metadata": {},
   "source": [
    "## Test separate direction and magnitude decoders vs combined velocity decoder\n",
    "\n",
    "We'll test two strategies:\n",
    "- decode the target-cursor error vector $v_t$\n",
    "- decode the unit point-at-target vector $v_{t} / ||v_{t}||$ and magnitude $||v_{t}||$ separately, then multiply together for output"
   ]
  },
  {
   "cell_type": "code",
   "execution_count": 1,
   "metadata": {},
   "outputs": [
    {
     "name": "stdout",
     "output_type": "stream",
     "text": [
      "The autoreload extension is already loaded. To reload it, use:\n",
      "  %reload_ext autoreload\n"
     ]
    }
   ],
   "source": [
    "%load_ext autoreload\n",
    "%autoreload 2\n",
    "\n",
    "%load_ext autoreload\n",
    "%autoreload 2\n",
    "\n",
    "import numpy as np\n",
    "from scipy.io import loadmat\n",
    "import matplotlib.pyplot as plt\n",
    "from copy import deepcopy\n",
    "import glob\n",
    "import sys\n",
    "\n",
    "[sys.path.append(f) for f in glob.glob('utils/*')]\n",
    "from preprocess import DataStruct\n",
    "from firingrate import raster2FR\n",
    "from plotting_utils import figSize\n",
    "from lineplots import plotsd\n",
    "from session_utils import *\n",
    "from recalibration_utils import *\n",
    "from click_utils import *\n",
    "\n",
    "from sklearn.linear_model import LinearRegression\n",
    "from sklearn.pipeline import Pipeline\n",
    "from sklearn.preprocessing import StandardScaler\n",
    "from sklearn.model_selection import cross_val_score\n",
    "from sklearn.decomposition import FactorAnalysis, PCA\n",
    "\n",
    "\n",
    "min_nblocks    = 3\n",
    "\n",
    "filelist       = glob.glob('D:/T5_ClosedLoop/historical/*')\n",
    "sessions_check = np.load('misc_data/OldSessions_check.npy', allow_pickle = True).item()\n",
    "files          = get_Sessions(filelist, min_nblocks,  manually_remove = sessions_check['bad_days'])"
   ]
  },
  {
   "cell_type": "code",
   "execution_count": null,
   "metadata": {},
   "outputs": [],
   "source": [
    "from sklearn.metrics import r2_score\n",
    "from CosineTuning import angle_between\n",
    "\n",
    "train_size = 0.67\n",
    "task       = None\n",
    "sigma      = 2\n",
    "\n",
    "test_scores    = np.zeros((len(files), 2))\n",
    "decoding_angle = np.zeros((len(files), 3))\n",
    "\n",
    "for i, f in enumerate(files):\n",
    "    day        = DataStruct(f, alignScreens = True)\n",
    "    #blocks     = [sessions_check[f] if f in sessions_check.keys() else None][0]\n",
    "    blocks     = None\n",
    "\n",
    "    train_x, test_x, train_y, test_y  = getTrainTest(day, train_size = train_size, sigma = sigma, task = task, blocks = blocks, returnFlattened = True)\n",
    "    \n",
    "    train_x, test_x = get_BlockwiseMeanSubtracted(train_x, test_x, concatenate = True)\n",
    "    train_y         = np.concatenate(train_y)\n",
    "    test_y          = np.concatenate(test_y)\n",
    "    \n",
    "    train_mags, test_mags = np.linalg.norm(train_y, axis = 1), np.linalg.norm(test_y, axis = 1)\n",
    "\n",
    "    means       = train_x.mean(axis = 0)\n",
    "    veldecoder  = LinearRegression(normalize = False).fit(train_x, train_y)\n",
    "    \n",
    "    magdecoder  = LinearRegression(normalize = False).fit(train_x, train_mags)\n",
    "    mag_preds   = magdecoder.predict(test_x)\n",
    "    \n",
    "    vel_preds   = veldecoder.predict(test_x)\n",
    "    unit_preds  = vel_preds / np.linalg.norm(vel_preds, axis = 1)[:, np.newaxis]\n",
    "    preds       = unit_preds * mag_preds[:, np.newaxis]\n",
    "    \n",
    "    test_scores[i, 0] = r2_score(test_y, vel_preds)\n",
    "    test_scores[i, 1] = r2_score(test_y, preds)\n",
    "    \n",
    "    decoding_angle[i, 0] = angle_between(magdecoder.coef_,    veldecoder.coef_[0, :])     # angle between X-velocity decoder and magnitude decoder \n",
    "    decoding_angle[i, 1] = angle_between(magdecoder.coef_,    veldecoder.coef_[1, :])     # angle between Y-velocity decoder and magnitude decoder\n",
    "    decoding_angle[i, 2] = angle_between(veldecoder.coef_[0, :], veldecoder.coef_[1, :])  # angle between X-velocity and Y-velocity decoder "
   ]
  },
  {
   "cell_type": "code",
   "execution_count": null,
   "metadata": {},
   "outputs": [],
   "source": [
    "figSize(5, 15)\n",
    "\n",
    "titles = ['X-velocity and magnitude decoders', 'Y-velocity and magnitude decoders', 'X and Y-velocity decoders']\n",
    "for i in range(3):\n",
    "    plt.subplot(1, 3, i + 1, projection = 'polar')\n",
    "    plt.title(titles[i])\n",
    "    for j in range(len(files)):\n",
    "        plt.polar(decoding_angle[j, i], 1, 'ro', color = 'k', alpha = 0.6)\n",
    "        \n",
    "plt.tight_layout()"
   ]
  },
  {
   "cell_type": "code",
   "execution_count": null,
   "metadata": {},
   "outputs": [],
   "source": [
    "figSize(7, 7)\n",
    "ax_lims = [0, 0.7]\n",
    "\n",
    "plt.scatter(test_scores[:, 0], test_scores[:, 1], label = 'Session')\n",
    "plt.plot(ax_lims, ax_lims, color = 'k', linestyle = '--', alpha = 0.5)\n",
    "plt.xlim(ax_lims)\n",
    "plt.ylim(ax_lims)\n",
    "plt.xlabel('Combined decoder (R^2)', fontsize = 12)\n",
    "plt.ylabel('Separate decoders (R^2)', fontsize = 12)\n",
    "plt.legend()"
   ]
  },
  {
   "cell_type": "code",
   "execution_count": null,
   "metadata": {},
   "outputs": [],
   "source": []
  }
 ],
 "metadata": {
  "kernelspec": {
   "display_name": "Nonstationarities",
   "language": "python",
   "name": "nonstationarities"
  },
  "language_info": {
   "codemirror_mode": {
    "name": "ipython",
    "version": 3
   },
   "file_extension": ".py",
   "mimetype": "text/x-python",
   "name": "python",
   "nbconvert_exporter": "python",
   "pygments_lexer": "ipython3",
   "version": "3.9.4"
  }
 },
 "nbformat": 4,
 "nbformat_minor": 4
}
