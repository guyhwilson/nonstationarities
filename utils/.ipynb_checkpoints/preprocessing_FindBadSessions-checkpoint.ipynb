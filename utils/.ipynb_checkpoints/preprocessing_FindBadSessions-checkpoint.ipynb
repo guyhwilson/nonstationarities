{
 "cells": [
  {
   "cell_type": "code",
   "execution_count": null,
   "metadata": {},
   "outputs": [],
   "source": [
    "%load_ext autoreload\n",
    "%autoreload 2\n",
    "\n",
    "import numpy as np\n",
    "from scipy.io import loadmat\n",
    "import matplotlib.pyplot as plt\n",
    "import glob\n",
    "import sys\n",
    "import itertools\n",
    "\n",
    "[sys.path.append(f) for f in glob.glob('utils/*')]\n",
    "from preprocess import DataStruct, daysBetween\n",
    "from plotting_utils import figSize\n",
    "from lineplots import plotsd, comparisonScatterPlot\n",
    "from recalibration_utils import *\n",
    "from session_utils import *\n"
   ]
  },
  {
   "cell_type": "markdown",
   "metadata": {},
   "source": [
    "### **Checked sessions**"
   ]
  },
  {
   "cell_type": "code",
   "execution_count": null,
   "metadata": {},
   "outputs": [],
   "source": [
    "sessions_check             = dict()\n",
    "\n",
    "# note bad days:\n",
    "sessions_check['bad_days'] = ['t5.2018.01.17', 't5.2018.01.19', 't5.2018.01.22', 't5.2018.01.24',\n",
    "                              't5.2018.07.02', 't5.2018.07.06', 't5.2018.08.06', 't5.2018.08.08', \n",
    "                              't5.2019.01.23', 't5.2016.12.15', 't5.2016.12.21', 't5.2016.10.05', \n",
    "                              't5.2017.07.31', 't5.2019.03.20']\n",
    "\n",
    "# for good days, store session ID and acceptable blocks in key-value pairs. Days where all blocks\n",
    "# are acceptable are not included.\n",
    "sessions_check['t5.2016.09.28'] = [16, 19, 22, 24, 25, 29, 35]\n",
    "sessions_check['t5.2016.10.03'] = [10, 27, 29, 30, 31]\n",
    "sessions_check['t5.2016.10.07'] = [14, 15, 16, 17, 18]\n",
    "sessions_check['t5.2016.10.10'] = [14, 15, 16, 17, 20, 21, 22, 24, 26, 28, 29, 30]\n",
    "sessions_check['t5.2019.01.09'] = [14, 15, 16, 17]\n",
    "sessions_check['t5.2019.01.14'] = [27, 28, 29]\n",
    "sessions_check['t5.2019.01.16'] = [19, 21, 22, 23]\n",
    "sessions_check['t5.2019.01.30'] = [12, 14, 16, 18]\n",
    "sessions_check['t5.2019.03.27'] = [11, 18, 20, 22, 25, 27, 29]\n",
    "sessions_check['t5.2019.04.03'] = [12, 14, 16]"
   ]
  },
  {
   "cell_type": "code",
   "execution_count": null,
   "metadata": {},
   "outputs": [],
   "source": [
    "import numpy as np\n",
    "np.save('misc_data/OldSessions_check.npy', sessions_check)"
   ]
  },
  {
   "cell_type": "markdown",
   "metadata": {},
   "source": [
    "\n",
    "## Bad sessions:\n",
    "\n",
    "**D:/T5_ClosedLoop\\\\t5.2016.12.15.mat** - TOSS: early days and no imagery session notes for blocks\n",
    "\n",
    "**D:/T5_ClosedLoop\\\\t5.2016.12.21.mat** - TOSS: early days and no imagery session notes for blocks\n",
    "\n",
    "**D:/T5_ClosedLoop\\\\t5.2016.10.05.mat** - TOSS; all chalkboard imagery \n",
    "\n",
    "**D:/T5_ClosedLoop\\\\t5.2017.07.31.mat** - TOSS; dual cursor day\n",
    "\n",
    "**D:/T5_ClosedLoop\\\\t5.2019.03.20.mat** - TOSS: \"reach and point\"\n",
    "\n",
    "And these: \n",
    "['D:/T5_ClosedLoop\\\\t5.2018.01.17.mat', 'D:/T5_ClosedLoop\\\\t5.2018.01.19.mat', 'D:/T5_ClosedLoop\\\\t5.2018.01.22.mat', 'D:/T5_ClosedLoop\\\\t5.2018.01.24.mat',\n",
    "               'D:/T5_ClosedLoop\\\\t5.2018.07.02.mat', 'D:/T5_ClosedLoop\\\\t5.2018.07.06.mat', 'D:/T5_ClosedLoop\\\\t5.2018.08.06.mat', 'D:/T5_ClosedLoop\\\\t5.2018.08.08.mat', \n",
    "               'D:/T5_ClosedLoop\\\\t5.2019.01.23.mat']\n",
    "\n",
    "\n",
    "## Good sessions:\n",
    "\n",
    "**D:/T5_ClosedLoop\\\\t5.2016.09.26.mat** - KEEP: all blocks\n",
    "\n",
    "**D:/T5_ClosedLoop\\\\t5.2016.09.28.mat** - KEEP: 16, 19, 22, 24, 25, 29, 35 (trackball and joystick imagery are very similar neurally)\n",
    "\n",
    "**D:/T5_ClosedLoop\\\\t5.2016.10.03.mat** - KEEP: 10, 27, 29, 30, 31 (again, trackball and joystick appear very similar here - combining below for all sessions)\n",
    "\n",
    "**D:/T5_ClosedLoop\\\\t5.2016.10.07.mat** - KEEP: 14, 15, 16, 17, 18\n",
    "\n",
    "**D:/T5_ClosedLoop\\\\t5.2016.10.10.mat** - KEEP: 14, 15, 16, 17, 20, 21, 22, 24, 26, 28, 29, 30\n",
    "\n",
    "**D:/T5_ClosedLoop\\\\t5.2016.10.12.mat** - KEEP: all blocks\n",
    "\n",
    "**D:/T5_ClosedLoop\\\\t5.2016.10.13.mat** - KEEP: all blocks \n",
    "\n",
    "**D:/T5_ClosedLoop\\\\t5.2016.10.24.mat** - KEEP: all blocks\n",
    "\n",
    "**D:/T5_ClosedLoop\\\\t5.2016.10.26.mat** - KEEP: all blocks\n",
    "\n",
    "**D:/T5_ClosedLoop\\\\t5.2016.10.31.mat** - KEEP: all blocks\n",
    "\n",
    "**D:/T5_ClosedLoop\\\\t5.2018.07.02.mat** - KEEP: all blocks (haptic feedback day)\n",
    "\n",
    "**D:/T5_ClosedLoop\\\\t5.2018.07.06.mat** - KEEP: all blocks (haptic feedback day)\n",
    "\n",
    "**D:/T5_ClosedLoop\\\\t5.2018.07.11.mat** - KEEP: all blocks (haptic feedback day)\n",
    "\n",
    "**D:/T5_ClosedLoop\\\\t5.2018.07.25.mat** - KEEP: all blocks (haptic feedback day)\n",
    "\n",
    "**D:/T5_ClosedLoop\\\\t5.2018.08.06.mat** - KEEP: all blocks (haptic feedback day)\n",
    "\n",
    "**D:/T5_ClosedLoop\\\\t5.2018.08.08.mat** - KEEP: all blocks (haptic feedback day)\n",
    "\n",
    "**D:/T5_ClosedLoop\\\\t5.2017.08.07.mat** - KEEP: all blocks (presumably all same imagery...? using \"rollerball\" at start)\n",
    "\n",
    "**D:/T5_ClosedLoop\\\\t5.2018.12.17.mat** - KEEP: all blocks (using \"ball\" imagery; speaking during arm iBCI is kk @ sergey paper) \n",
    "\n",
    "**D:/T5_ClosedLoop\\\\t5.2018.12.19.mat** - KEEP: all blocks\n",
    "\n",
    "**D:/T5_ClosedLoop\\\\t5.2019.01.09.mat** - KEEP: 14, 15, 16, 17\n",
    "\n",
    "**D:/T5_ClosedLoop\\\\t5.2019.01.14.mat** - KEEP: 27, 28, 29\n",
    "\n",
    "**D:/T5_ClosedLoop\\\\t5.2019.01.16.mat** - KEEP: 19, 21, 22, 23 (used magic for 3, 5 trials in blocks 22 and 23 but mostly right joystick) \n",
    "\n",
    "**D:/T5_ClosedLoop\\\\t5.2019.01.23.mat** - KEEP: all blocks (speech day, but blocks are standard cursor control) \n",
    "\n",
    "**D:/T5_ClosedLoop\\\\t5.2019.01.30.mat** - (??) KEEP: 12, 14, 16, 18\n",
    "\n",
    "**D:/T5_ClosedLoop\\\\t5.2019.03.27.mat** - KEEP: 11, 18, 20, 22, 25, 27, 29\n",
    "\n",
    "**D:/T5_ClosedLoop\\\\t5.2019.04.03.mat** - KEEP: 12, 14, 16 (non-magic blocks)\n",
    "\n",
    "**D:/T5_ClosedLoop\\\\t5.2019.04.08.mat** - KEEP: all blocks (no imagery mentioned?)\n",
    "\n",
    "**D:/T5_ClosedLoop\\\\t5.2019.06.19.mat** - KEEP: all blocks (no imagery mentioned?)\n",
    "\n",
    "**D:/T5_ClosedLoop\\\\t5.2019.07.01.mat** - KEEP: all blocks (no imagery mentioned?)\n",
    "\n",
    "**D:/T5_ClosedLoop\\\\t5.2019.11.27.mat** - KEEP: all blocks (no imagery mentioned?)\n",
    "\n",
    "**D:/T5_ClosedLoop\\\\t5.2019.12.09.mat** - KEEP: all blocks (no imagery mentioned?)\n",
    "\n"
   ]
  },
  {
   "cell_type": "code",
   "execution_count": null,
   "metadata": {},
   "outputs": [],
   "source": [
    "file    = 'D:/T5_ClosedLoop\\\\t5.2019.01.16.mat'\n",
    "    \n",
    "session = DataStruct(file)\n",
    "print('Blocks: ', session.blockList)\n",
    "print('Tasks: ', session.gameName)"
   ]
  },
  {
   "cell_type": "markdown",
   "metadata": {},
   "source": [
    "## Check if block subselection improves overall decoder readout"
   ]
  },
  {
   "cell_type": "code",
   "execution_count": 43,
   "metadata": {},
   "outputs": [],
   "source": []
  },
  {
   "cell_type": "code",
   "execution_count": null,
   "metadata": {},
   "outputs": [],
   "source": [
    "min_nblocks    = 3\n",
    "max_ndays      = 14\n",
    "filelist       = glob.glob('D:/T5_ClosedLoop/historical/*')\n",
    "sessions_check = np.load('misc_data/OldSessions_check.npy', allow_pickle = True).item()\n",
    "\n",
    "files          = get_Sessions(filelist, min_nblocks,  manually_remove = sessions_check['bad_days'])\n",
    "init_pairs     = get_SessionPairs(files, max_ndays = max_ndays)\n",
    "n_files        = len(files)\n",
    "\n",
    "pairs, scores1 = get_StrongTransferPairs(init_pairs, min_R2 = -1 * np.inf, train_size = 0.67, sigma = 2, block_constraints = None)\n",
    "pairs, scores2 = get_StrongTransferPairs(init_pairs, min_R2 = -1 * np.inf, train_size = 0.67, sigma = 2, block_constraints = sessions_check)"
   ]
  },
  {
   "cell_type": "code",
   "execution_count": null,
   "metadata": {},
   "outputs": [],
   "source": [
    "comparisonScatterPlot(scores1, scores2, figsize= 10, xy_lims= [-1,1])\n",
    "plt.xlabel('All blocks R^2')\n",
    "plt.ylabel('Subselected blocks R^2')"
   ]
  },
  {
   "cell_type": "code",
   "execution_count": null,
   "metadata": {},
   "outputs": [],
   "source": [
    "figSize(10, 20)\n",
    "plt.subplot(1, 2, 1)\n",
    "plt.scatter(np.arange(len(pairs)), scores1)\n",
    "plt.ylim([-1, 1])\n",
    "plt.axhline(0, linestyle = '--', color = 'k')\n",
    "\n",
    "plt.subplot(1, 2, 2)\n",
    "bad_sessions   = np.concatenate([pairs[i] for i in np.where(scores1 < 0.1)[0]])\n",
    "unique, counts = np.unique(bad_sessions, return_counts = True)\n",
    "plt.bar(np.arange(len(unique)), counts)"
   ]
  },
  {
   "cell_type": "markdown",
   "metadata": {},
   "source": [
    "## Check whether imagery shows strong tuning differences "
   ]
  },
  {
   "cell_type": "code",
   "execution_count": null,
   "metadata": {},
   "outputs": [],
   "source": [
    "session = DataStruct('D:/T5_ClosedLoop\\\\t5.2016.10.03.mat')\n",
    "\n",
    "print(session.blockList)\n",
    "print(session.gameName)"
   ]
  },
  {
   "cell_type": "code",
   "execution_count": null,
   "metadata": {},
   "outputs": [],
   "source": [
    "\n",
    "imageries               = dict()\n",
    "\n",
    "imageries['type'] = ['Chalk', 'Trackball', 'Joystick']\n",
    "imageries[0]      = [14, 15]\n",
    "imageries[1]      = [27, 29, 30, 31]\n",
    "imageries[2]      = [10]\n"
   ]
  },
  {
   "cell_type": "code",
   "execution_count": null,
   "metadata": {},
   "outputs": [],
   "source": [
    "from sklearn.linear_model import LinearRegression\n",
    "\n",
    "figSize(10, 10)\n",
    "\n",
    "scores_matrix = np.zeros((3, 3))\n",
    "n_imageries   = len(imageries['type'])\n",
    "\n",
    "for i in range(n_imageries):\n",
    "    im1_trainX, im1_testX, im1_trainY, im1_testY = getTrainTest(session, train_frac = 0.5, blocks= imageries[i])\n",
    "    for j in range(n_imageries):\n",
    "        im2_trainX, im2_testX, im2_trainY, im2_testY = getTrainTest(session, train_frac = 0.5, blocks= imageries[j])\n",
    "        lm = LinearRegression(fit_intercept= False, normalize = False)\n",
    "        lm.fit(im1_trainX - im1_trainX.mean(axis = 0), im1_trainY)\n",
    "\n",
    "        scores_matrix[i, j] = lm.score(im2_testX - im1_trainX.mean(axis = 0), im2_testY)\n",
    "\n",
    "        \n",
    "plt.imshow(scores_matrix)\n",
    "plt.colorbar()\n",
    "plt.xticks(np.arange(n_imageries), imageries['type'])\n",
    "plt.yticks(np.arange(n_imageries), imageries['type'])\n",
    "plt.title('Test set performance (R^2)', fontweight = 'bold')\n",
    "plt.xlabel('Test condition', fontweight = 'bold')\n",
    "plt.ylabel('Train condition', fontweight = 'bold')\n",
    "\n",
    "for i in range(n_imageries):\n",
    "    for j in range(n_imageries):\n",
    "        plt.text(i - 0.1, j, np.round(scores_matrix[i, j], 3), fontweight = 'bold')\n"
   ]
  },
  {
   "cell_type": "code",
   "execution_count": null,
   "metadata": {},
   "outputs": [],
   "source": []
  }
 ],
 "metadata": {
  "kernelspec": {
   "display_name": "Nonstationarities",
   "language": "python",
   "name": "nonstationarities"
  },
  "language_info": {
   "codemirror_mode": {
    "name": "ipython",
    "version": 3
   },
   "file_extension": ".py",
   "mimetype": "text/x-python",
   "name": "python",
   "nbconvert_exporter": "python",
   "pygments_lexer": "ipython3",
   "version": "3.9.4"
  }
 },
 "nbformat": 4,
 "nbformat_minor": 4
}
