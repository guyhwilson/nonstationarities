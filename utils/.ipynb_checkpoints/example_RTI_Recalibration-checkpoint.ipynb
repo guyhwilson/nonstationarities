{
 "cells": [
  {
   "cell_type": "markdown",
   "metadata": {},
   "source": [
    "Retrospective target inference (RTI) approach from Beata's paper: "
   ]
  },
  {
   "cell_type": "code",
   "execution_count": 1,
   "metadata": {},
   "outputs": [],
   "source": [
    "%load_ext autoreload\n",
    "%autoreload 2\n",
    "\n",
    "import numpy as np\n",
    "from scipy.io import loadmat\n",
    "import matplotlib.pyplot as plt\n",
    "from copy import deepcopy\n",
    "import glob\n",
    "import sys\n",
    "\n",
    "[sys.path.append(f) for f in glob.glob('utils/*')]\n",
    "from preprocess import DataStruct\n",
    "from firingrate import raster2FR\n",
    "from plotting_utils import figSize\n",
    "from lineplots import plotsd\n",
    "from hmm_utils import *\n",
    "from hmm import *\n",
    "from session_utils import *\n",
    "from recalibration_utils import *\n",
    "from click_utils import *\n",
    "\n",
    "from sklearn.linear_model import LinearRegression\n",
    "from sklearn.pipeline import Pipeline\n",
    "from sklearn.preprocessing import StandardScaler\n",
    "from sklearn.model_selection import cross_val_score\n",
    "from sklearn.decomposition import FactorAnalysis, PCA\n",
    "\n",
    "files          = glob.glob('D:/T5_ClosedLoop/*')\n",
    "click_sessions = get_Sessions(files, min_nblocks = 1, getClick = True)  "
   ]
  },
  {
   "cell_type": "code",
   "execution_count": 25,
   "metadata": {},
   "outputs": [
    {
     "name": "stdout",
     "output_type": "stream",
     "text": [
      "(0,)\n"
     ]
    },
    {
     "ename": "ValueError",
     "evalue": "Shape of array too small to calculate a numerical gradient, at least (edge_order + 1) elements are required.",
     "output_type": "error",
     "traceback": [
      "\u001b[1;31m---------------------------------------------------------------------------\u001b[0m",
      "\u001b[1;31mValueError\u001b[0m                                Traceback (most recent call last)",
      "\u001b[1;32m<ipython-input-25-6d465d0e2832>\u001b[0m in \u001b[0;36m<module>\u001b[1;34m\u001b[0m\n\u001b[0;32m      5\u001b[0m \u001b[0mstart\u001b[0m\u001b[1;33m,\u001b[0m \u001b[0mstop\u001b[0m    \u001b[1;33m=\u001b[0m \u001b[0msuccess_clicks\u001b[0m\u001b[1;33m[\u001b[0m\u001b[1;36m120\u001b[0m\u001b[1;33m]\u001b[0m\u001b[1;33m,\u001b[0m \u001b[0msuccess_clicks\u001b[0m\u001b[1;33m[\u001b[0m\u001b[1;36m140\u001b[0m\u001b[1;33m]\u001b[0m\u001b[1;33m\u001b[0m\u001b[1;33m\u001b[0m\u001b[0m\n\u001b[0;32m      6\u001b[0m \u001b[1;33m\u001b[0m\u001b[0m\n\u001b[1;32m----> 7\u001b[1;33m _, _, idxs     = get_RTIData(session.TX_continuous[start:stop, :], session.cursorPos_continuous[start:stop, :], session.decClick_continuous[start:stop, ], session.onTarget[start:stop], \n\u001b[0m\u001b[0;32m      8\u001b[0m                              lookback = 60, MinDist = 0, MinTime = 0, ReturnInds = False)\n\u001b[0;32m      9\u001b[0m \u001b[1;33m\u001b[0m\u001b[0m\n",
      "\u001b[1;32m~\\Documents\\projects\\nptlbraingaterig\\code\\analysis\\Guy\\nonstationarities\\code\\utils\\recalibration\\RTI_utils.py\u001b[0m in \u001b[0;36mget_RTIData\u001b[1;34m(neural, cursor, IsClick, OnTarget, lookback, MinDist, MinTime, ReturnInds)\u001b[0m\n\u001b[0;32m     44\u001b[0m \u001b[1;33m\u001b[0m\u001b[0m\n\u001b[0;32m     45\u001b[0m         \u001b[0mfarIdx\u001b[0m        \u001b[1;33m=\u001b[0m \u001b[0mdist_retro\u001b[0m \u001b[1;33m>=\u001b[0m \u001b[0mMinDist\u001b[0m        \u001b[1;31m# time points spatially distant from inferred target\u001b[0m\u001b[1;33m\u001b[0m\u001b[1;33m\u001b[0m\u001b[0m\n\u001b[1;32m---> 46\u001b[1;33m         \u001b[0mapproachIdx\u001b[0m   \u001b[1;33m=\u001b[0m \u001b[0mnp\u001b[0m\u001b[1;33m.\u001b[0m\u001b[0mgradient\u001b[0m\u001b[1;33m(\u001b[0m\u001b[0mdist_retro\u001b[0m\u001b[1;33m)\u001b[0m \u001b[1;33m>\u001b[0m \u001b[1;36m0\u001b[0m  \u001b[1;31m# time points where cursor heading toward inferred target\u001b[0m\u001b[1;33m\u001b[0m\u001b[1;33m\u001b[0m\u001b[0m\n\u001b[0m\u001b[0;32m     47\u001b[0m \u001b[1;33m\u001b[0m\u001b[0m\n\u001b[0;32m     48\u001b[0m         \u001b[0mselectIdx\u001b[0m     \u001b[1;33m=\u001b[0m \u001b[0mnp\u001b[0m\u001b[1;33m.\u001b[0m\u001b[0mwhere\u001b[0m\u001b[1;33m(\u001b[0m\u001b[0mnp\u001b[0m\u001b[1;33m.\u001b[0m\u001b[0mlogical_and\u001b[0m\u001b[1;33m(\u001b[0m\u001b[0mfarIdx\u001b[0m\u001b[1;33m,\u001b[0m \u001b[0mapproachIdx\u001b[0m\u001b[1;33m)\u001b[0m\u001b[1;33m)\u001b[0m\u001b[1;33m[\u001b[0m\u001b[1;36m0\u001b[0m\u001b[1;33m]\u001b[0m\u001b[1;33m\u001b[0m\u001b[1;33m\u001b[0m\u001b[0m\n",
      "\u001b[1;32m<__array_function__ internals>\u001b[0m in \u001b[0;36mgradient\u001b[1;34m(*args, **kwargs)\u001b[0m\n",
      "\u001b[1;32m~\\miniconda3\\envs\\Nonstationarities\\lib\\site-packages\\numpy\\lib\\function_base.py\u001b[0m in \u001b[0;36mgradient\u001b[1;34m(f, axis, edge_order, *varargs)\u001b[0m\n\u001b[0;32m   1050\u001b[0m     \u001b[1;32mfor\u001b[0m \u001b[0maxis\u001b[0m\u001b[1;33m,\u001b[0m \u001b[0max_dx\u001b[0m \u001b[1;32min\u001b[0m \u001b[0mzip\u001b[0m\u001b[1;33m(\u001b[0m\u001b[0maxes\u001b[0m\u001b[1;33m,\u001b[0m \u001b[0mdx\u001b[0m\u001b[1;33m)\u001b[0m\u001b[1;33m:\u001b[0m\u001b[1;33m\u001b[0m\u001b[1;33m\u001b[0m\u001b[0m\n\u001b[0;32m   1051\u001b[0m         \u001b[1;32mif\u001b[0m \u001b[0mf\u001b[0m\u001b[1;33m.\u001b[0m\u001b[0mshape\u001b[0m\u001b[1;33m[\u001b[0m\u001b[0maxis\u001b[0m\u001b[1;33m]\u001b[0m \u001b[1;33m<\u001b[0m \u001b[0medge_order\u001b[0m \u001b[1;33m+\u001b[0m \u001b[1;36m1\u001b[0m\u001b[1;33m:\u001b[0m\u001b[1;33m\u001b[0m\u001b[1;33m\u001b[0m\u001b[0m\n\u001b[1;32m-> 1052\u001b[1;33m             raise ValueError(\n\u001b[0m\u001b[0;32m   1053\u001b[0m                 \u001b[1;34m\"Shape of array too small to calculate a numerical gradient, \"\u001b[0m\u001b[1;33m\u001b[0m\u001b[1;33m\u001b[0m\u001b[0m\n\u001b[0;32m   1054\u001b[0m                 \"at least (edge_order + 1) elements are required.\")\n",
      "\u001b[1;31mValueError\u001b[0m: Shape of array too small to calculate a numerical gradient, at least (edge_order + 1) elements are required."
     ]
    }
   ],
   "source": [
    "from RTI_utils import get_RTIData\n",
    "\n",
    "session        = DataStruct(click_sessions[1], alignScreens = True)\n",
    "success_clicks = np.where(np.logical_and(session.decClick_continuous == 1, session.onTarget == 1))[0]\n",
    "start, stop    = success_clicks[120], success_clicks[140]\n",
    "\n",
    "_, _, idxs     = get_RTIData(session.TX_continuous[start:stop, :], session.cursorPos_continuous[start:stop, :], session.decClick_continuous[start:stop], session.onTarget[start:stop], \n",
    "                             lookback = 60, MinDist = 0, MinTime = 0, ReturnInds = False)\n",
    "\n",
    "plt.scatter(session.cursorPos_continuous[idxs, :])\n",
    "   # click        = success_clicks[i]\n",
    "   # cursor_retro = session.cursorPos_continuous[(click - 60):click, :]\n",
    "   # plt.scatter(cursor_retro[:, 0], cursor_retro[:, 1], color = 'k', alpha = 0.3)\n",
    "   # plt.scatter(cursor_retro[-1, 0], cursor_retro[-1, 1], color = 'r')\n",
    "plt.title('Example successful clicks')\n",
    "plt.xlabel('Cursor x pos')\n",
    "plt.ylabel('Cursor y pos')"
   ]
  },
  {
   "cell_type": "code",
   "execution_count": 27,
   "metadata": {},
   "outputs": [
    {
     "data": {
      "text/plain": [
       "4066"
      ]
     },
     "execution_count": 27,
     "metadata": {},
     "output_type": "execute_result"
    }
   ],
   "source": [
    "stop\n"
   ]
  },
  {
   "cell_type": "code",
   "execution_count": 22,
   "metadata": {},
   "outputs": [
    {
     "name": "stdout",
     "output_type": "stream",
     "text": [
      "Supervised recal decoder: R2 =  0.4497145217683413\n",
      "RTI decoder: R2 =  0.4257825222859888\n"
     ]
    }
   ],
   "source": [
    "\n",
    "lookback   = 60     # time points prior to consider \n",
    "minDist    = 50\n",
    "train_frac = 0.5\n",
    "\n",
    "\n",
    "session       = DataStruct(click_sessions[1], alignScreens = True)\n",
    "session_len   = len(session.decClick_continuous)\n",
    "n_train       = int(train_frac * session_len)\n",
    "\n",
    "\n",
    "train_x        = session.TX_continuous[:n_train, :]\n",
    "train_y        = (session.targetPos_continuous - session.cursorPos_continuous)[:n_train, :]\n",
    "train_cursor   = session.cursorPos_continuous[:n_train, :]\n",
    "train_click    = session.decClick_continuous[:n_train]\n",
    "train_onTarget = session.onTarget[:n_train] \n",
    "\n",
    "train_xRTI, train_yRTI = get_RTIData(train_x, train_cursor, train_click, onTarget = train_onTarget, lookback = lookback, minDist = minDist)\n",
    "test_x                 = session.TX_continuous[n_train:, :]\n",
    "test_y                 = (session.targetPos_continuous - session.cursorPos_continuous)[n_train:, :]\n",
    "\n",
    "# supervised recalibration:\n",
    "print('Supervised recal decoder: R2 = ', LinearRegression().fit(train_x, train_y).score(test_x, test_y))\n",
    "\n",
    "# RTI approach:\n",
    "print('RTI decoder: R2 = ', LinearRegression().fit(train_xRTI, train_yRTI).score(test_x, test_y))\n",
    "\n"
   ]
  },
  {
   "cell_type": "code",
   "execution_count": null,
   "metadata": {},
   "outputs": [],
   "source": []
  },
  {
   "cell_type": "code",
   "execution_count": null,
   "metadata": {},
   "outputs": [],
   "source": []
  }
 ],
 "metadata": {
  "kernelspec": {
   "display_name": "Nonstationarities",
   "language": "python",
   "name": "nonstationarities"
  },
  "language_info": {
   "codemirror_mode": {
    "name": "ipython",
    "version": 3
   },
   "file_extension": ".py",
   "mimetype": "text/x-python",
   "name": "python",
   "nbconvert_exporter": "python",
   "pygments_lexer": "ipython3",
   "version": "3.9.4"
  }
 },
 "nbformat": 4,
 "nbformat_minor": 4
}
