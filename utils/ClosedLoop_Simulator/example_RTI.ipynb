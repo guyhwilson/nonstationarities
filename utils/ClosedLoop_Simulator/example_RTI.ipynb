{
 "cells": [
  {
   "cell_type": "markdown",
   "metadata": {},
   "source": [
    "### **Example of retrospective target inference (RTI)**\n",
    "\n",
    "We "
   ]
  },
  {
   "cell_type": "code",
   "execution_count": 1,
   "metadata": {},
   "outputs": [],
   "source": [
    "%load_ext autoreload\n",
    "%autoreload 2\n",
    "\n",
    "import numpy as np\n",
    "\n",
    "\n",
    "import sys\n",
    "sys.path.append('../utils/plotting/')\n",
    "sys.path.append('../utils/PD_tools/')\n",
    "sys.path.append('../utils/simulation/')\n",
    "sys.path.append('../utils/recalibration/')\n",
    "sys.path.append('../utils/preprocessing/')\n",
    "from plotting_utils import figSize\n",
    "from simulation import *\n",
    "from simulation_utils import * \n",
    "\n",
    "\n",
    "# for a reproducible result\n",
    "np.random.seed(1)\n"
   ]
  },
  {
   "cell_type": "code",
   "execution_count": 2,
   "metadata": {},
   "outputs": [],
   "source": [
    "import matplotlib.pyplot as plt\n",
    "from sklearn.decomposition import FactorAnalysis\n",
    "from sklearn.model_selection import train_test_split\n",
    "from sklearn.linear_model import LinearRegression\n",
    "from CosineTuning import getAngles\n",
    "import matplotlib.cm as cm\n",
    "\n",
    "\n",
    "#The first column of cursorTuning is the means, and the second two columns are the preferred directions. \n",
    "nUnits         = 192\n",
    "SNR            = 0.5\n",
    "nTrainingSteps = 10000\n",
    "\n",
    "cursorTuning   = generateUnits(n_units = nUnits, SNR = SNR)\n",
    "clickTuning    = orthogonalizeAgainst(np.random.normal(size = (192,)), cursorTuning[:, 1])\n",
    "clickTuning    = orthogonalizeAgainst(clickTuning / np.linalg.norm(clickTuning), cursorTuning[:, 2])[:, np.newaxis] \n",
    "\n",
    "\n",
    "calNeural, calVelocity = simulateUnitActivity(cursorTuning, noise = 0.3, nSteps = nTrainingSteps)\n",
    "lr                     = LinearRegression(fit_intercept = True).fit(calNeural, calVelocity)\n",
    "D                      = np.hstack([lr.intercept_[:, np.newaxis], lr.coef_]).T\n",
    "\n",
    "# Normalize the gain of this decoder so that it will output vectors with a magnitude of 1 when the encoded velocity has a magnitude of 1. \n",
    "D[:, 0] = D[:,0] / np.linalg.norm(D[1:, :][:, 0]) / np.linalg.norm(cursorTuning[:, 1])\n",
    "D[:, 1] = D[:,1] / np.linalg.norm(D[1:, :][:, 1]) / np.linalg.norm(cursorTuning[:, 2])"
   ]
  },
  {
   "cell_type": "code",
   "execution_count": 3,
   "metadata": {},
   "outputs": [
    {
     "name": "stdout",
     "output_type": "stream",
     "text": [
      "0 / 10\n"
     ]
    },
    {
     "name": "stderr",
     "output_type": "stream",
     "text": [
      "../utils/simulation\\simulation.py:143: NumbaPerformanceWarning: \u001b[1m\u001b[1m\u001b[1mnp.dot() is faster on contiguous arrays, called on (array(float64, 2d, A), array(float64, 2d, C))\u001b[0m\u001b[0m\u001b[0m\n",
      "  simAct  = neuralTuning[:,1:].dot(currControl)\n",
      "../utils/simulation\\simulation.py:148: NumbaPerformanceWarning: \u001b[1m\u001b[1mnp.dot() is faster on contiguous arrays, called on (array(float64, 2d, A), array(float64, 2d, C))\u001b[0m\u001b[0m\n",
      "  rawDecVec = np.dot(D[1:,:].T, simAct)\n"
     ]
    },
    {
     "name": "stdout",
     "output_type": "stream",
     "text": [
      "1 / 10\n",
      "2 / 10\n",
      "3 / 10\n",
      "4 / 10\n",
      "5 / 10\n",
      "6 / 10\n",
      "7 / 10\n",
      "8 / 10\n",
      "9 / 10\n",
      "Using gain value beta =  1.3888888888888888\n"
     ]
    }
   ],
   "source": [
    "alpha       = 0.94 # amount of exponential smoothing (0.9 to 0.96 are reasonable)\n",
    "delT        = 0.01 # define the time step (10 ms)\n",
    "nDelaySteps = 20   # define the simulated user's visual feedback delay (200 ms)\n",
    "\n",
    "\n",
    "# Do a quick sweep of cursor gains to find the optimal one for this task:\n",
    "\n",
    "import matplotlib.pyplot as plt \n",
    "figSize(5,5)\n",
    "\n",
    "possibleGain = np.linspace(0.5,2.5,10)\n",
    "nSimSteps    = 50000\n",
    "meanTTT      = np.zeros((len(possibleGain),))\n",
    "\n",
    "for g in range(len(possibleGain)):\n",
    "    print(str(g) + ' / ' + str(len(possibleGain)))\n",
    "    posTraj, velTraj, rawDecTraj, conTraj, targTraj, neuralTraj, trialStart, ttt = simulateBCIFitts(cursorTuning, D, alpha, possibleGain[g], nDelaySteps, delT, nSimSteps)\n",
    "    meanTTT[g] = np.mean(ttt)\n",
    "\n",
    "minIdx = np.argmin(meanTTT)\n",
    "beta   = possibleGain[minIdx]\n",
    "\n",
    "print('Using gain value beta = ', beta)"
   ]
  },
  {
   "cell_type": "code",
   "execution_count": 4,
   "metadata": {},
   "outputs": [
    {
     "data": {
      "text/plain": [
       "Pipeline(steps=[('PCA', PCA(n_components=4)),\n",
       "                ('Logistic',\n",
       "                 LogisticRegression(class_weight='balanced', max_iter=3000))])"
      ]
     },
     "execution_count": 4,
     "metadata": {},
     "output_type": "execute_result"
    }
   ],
   "source": [
    "from sklearn.pipeline import Pipeline\n",
    "from sklearn.decomposition import PCA\n",
    "from sklearn.linear_model import LogisticRegression, LinearRegression\n",
    "\n",
    "PCA_nComponents = 4\n",
    "\n",
    "\n",
    "# simulate some open loop click data - target dwell logic is used to move to next trial\n",
    "D_click = None\n",
    "\n",
    "posTraj, velTraj, rawDecTraj, _, _, conTraj, targTraj, neuralTraj, trialStart, ttt = simulateBCIFitts_click(cursorTuning, clickTuning, D, D_click, alpha, beta, nDelaySteps, delT, nSimSteps, ClickLogic = False)\n",
    "\n",
    "targets = np.zeros((len(neuralTraj),))\n",
    "for t in trialStart:\n",
    "    targets[(t - 25):t] = 1\n",
    "    \n",
    "decoder         = Pipeline([('PCA', PCA(n_components = PCA_nComponents)), ('Logistic', LogisticRegression(class_weight = 'balanced', max_iter = 3000))])\n",
    "decoder.fit(X = neuralTraj, y = targets)"
   ]
  },
  {
   "cell_type": "code",
   "execution_count": 35,
   "metadata": {},
   "outputs": [
    {
     "name": "stdout",
     "output_type": "stream",
     "text": [
      "With a matched, optimized decoder, mean trial time is  1.0049494949494948  s\n",
      "With changed tuning and a mismatched decoder, the mean trial time is  1.215679012345679  s\n",
      "Control: With changed tuning and a mismatched decoder with restored gain, the mean trial time is  1.2428750000000002  s\n"
     ]
    }
   ],
   "source": [
    "# Simulate BCI performance with matched neural tuning and decoder, and an optimized gain\n",
    "D_click      = [decoder, 0.7]\n",
    "PD_shrinkage = 0.5\n",
    "nSimSteps    = 10000\n",
    "\n",
    "posTraj, velTraj, rawDecTraj, clickMagTraj, clickTraj, conTraj, targTraj, neuralTraj, trialStart, ttt = simulateBCIFitts_click(cursorTuning, clickTuning, D, D_click, alpha, beta, nDelaySteps, delT, nSimSteps, ClickLogic = True)                                   \n",
    "print('With a matched, optimized decoder, mean trial time is ', np.mean(ttt), ' s')\n",
    "\n",
    "# Simulate a change in neural cursor tuning (specifically, change the PDs only, making sure the total magnitude of tuning is the same)\n",
    "newCursorTuning = simulateTuningShift(cursorTuning, PD_shrinkage = PD_shrinkage)\n",
    "posTraj_new, velTraj_new, rawDecTraj_new, clickMagTraj_new, clickTraj_new, conTraj_new, targTraj_new, neuralTraj_new, trialStart_new, ttt_new = simulateBCIFitts_click(newCursorTuning, clickTuning, D, D_click, alpha, beta, nDelaySteps, delT, nSimSteps, ClickLogic = True)\n",
    "print('With changed tuning and a mismatched decoder, the mean trial time is ', np.mean(ttt_new), ' s')\n",
    "\n",
    "#Control: increase gain in original tuning subspace \n",
    "posTraj_control, velTraj_control, rawDecTraj_control, clickMagTraj_control, clickTraj_control, conTraj_control, targTraj_control, neuralTraj_control, trialStart_control, ttt_control = simulateBCIFitts_click(newCursorTuning, clickTuning, D, D_click, alpha, beta / PD_shrinkage, nDelaySteps, delT, nSimSteps, ClickLogic = True)\n",
    "print('Control: With changed tuning and a mismatched decoder with restored gain, the mean trial time is ', np.mean(ttt_control), ' s')"
   ]
  },
  {
   "cell_type": "markdown",
   "metadata": {},
   "source": [
    "Now use RTI to recalibrate"
   ]
  },
  {
   "cell_type": "code",
   "execution_count": 37,
   "metadata": {},
   "outputs": [
    {
     "name": "stdout",
     "output_type": "stream",
     "text": [
      "(120, 192)\n"
     ]
    }
   ],
   "source": [
    "from RTI_utils import get_RTIData\n",
    "\n",
    "lookback = 120     # look this many timesteps prior to click for training data\n",
    "minDist  = 0.0     # exclude time points that are too close to target (noisy)\n",
    "onTarget = (np.linalg.norm(posTraj_new - targTraj_new, axis = 1) < 0.075).astype('int') \n",
    "\n",
    "x, y     = get_RTIData(neuralTraj_new, posTraj_new, clickTraj_new.squeeze(), onTarget, lookback, minDist)\n",
    "\n",
    "print(x.shape)"
   ]
  },
  {
   "cell_type": "code",
   "execution_count": 31,
   "metadata": {},
   "outputs": [
    {
     "data": {
      "text/plain": [
       "(12, 2)"
      ]
     },
     "execution_count": 31,
     "metadata": {},
     "output_type": "execute_result"
    }
   ],
   "source": []
  },
  {
   "cell_type": "markdown",
   "metadata": {},
   "source": [
    "Now modify our original decoder to use the new factor analysis model and stabilizing transformation:"
   ]
  },
  {
   "cell_type": "code",
   "execution_count": 22,
   "metadata": {},
   "outputs": [],
   "source": [
    "G_new     = get_FactorAnalysisMap(stab.new_model)\n",
    "D_coefnew = h.dot(G_new.dot(stab.R).T)                                # compose to get neural --> latent --> output \n",
    "D_new     = np.hstack([lr.intercept_[:, np.newaxis], D_coefnew]).T    # add bias terms\n",
    "\n",
    "# Normalize the gain of this decoder so that it will output vectors with a magnitude of 1 when the encoded velocity has a magnitude of 1. \n",
    "D_new[:, 0] = D_new[:,0] / np.linalg.norm(D_new[1:, :][:, 0]) / np.linalg.norm(newTuning[:, 1])\n",
    "D_new[:, 1] = D_new[:,1] / np.linalg.norm(D_new[1:, :][:, 1]) / np.linalg.norm(newTuning[:, 2])"
   ]
  },
  {
   "cell_type": "code",
   "execution_count": 24,
   "metadata": {},
   "outputs": [
    {
     "data": {
      "text/plain": [
       "Text(0.5, 1.0, 'Time to target with simulated PD shift')"
      ]
     },
     "execution_count": 24,
     "metadata": {},
     "output_type": "execute_result"
    },
    {
     "data": {
      "image/png": "[encoded data removed]",
      "text/plain": [
       "<Figure size 1584x504 with 1 Axes>"
      ]
     },
     "metadata": {
      "needs_background": "light"
     },
     "output_type": "display_data"
    }
   ],
   "source": [
    "'''\n",
    "Summarize the performance for all 4 relevant conditions: original performance, performance when the tuning changes (but the decoder\n",
    "doesn't), performance with the HMM-powered unsupervised recalibration, and performance with supervised recalibration. \n",
    "We plot means and 95% CIs.\n",
    "'''\n",
    "from scipy.stats import norm\n",
    "import seaborn as sns\n",
    "\n",
    "groups = [ttt, ttt_new, ttt_control, ttt_ss]\n",
    "\n",
    "sns.boxplot(data = groups)\n",
    "sns.swarmplot(data = groups, color = 'k', alpha = 0.5)\n",
    "\n",
    "ax = plt.gca()\n",
    "labels = ['Original','Tuning Change','Gain compensation', 'Subspace stabilization']\n",
    "ax.set_xticks(np.arange(len(labels)))\n",
    "ax.set_xticklabels(labels)\n",
    "plt.setp(ax.get_xticklabels(), rotation=45, ha=\"right\", rotation_mode=\"anchor\")\n",
    "plt.ylabel('Trial time (s)')\n",
    "plt.ylim([0, max([max(i) for i in groups]) + 0.2])\n",
    "plt.title('Time to target with simulated PD shift', fontweight = 'bold')"
   ]
  },
  {
   "cell_type": "code",
   "execution_count": null,
   "metadata": {},
   "outputs": [],
   "source": []
  }
 ],
 "metadata": {
  "kernelspec": {
   "display_name": "Nonstationarities",
   "language": "python",
   "name": "nonstationarities"
  },
  "language_info": {
   "codemirror_mode": {
    "name": "ipython",
    "version": 3
   },
   "file_extension": ".py",
   "mimetype": "text/x-python",
   "name": "python",
   "nbconvert_exporter": "python",
   "pygments_lexer": "ipython3",
   "version": "3.9.4"
  }
 },
 "nbformat": 4,
 "nbformat_minor": 4
}
