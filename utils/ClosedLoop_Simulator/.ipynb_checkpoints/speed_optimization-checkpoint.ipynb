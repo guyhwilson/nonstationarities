{
 "cells": [
  {
   "cell_type": "code",
   "execution_count": 3,
   "metadata": {},
   "outputs": [
    {
     "name": "stdout",
     "output_type": "stream",
     "text": [
      "The autoreload extension is already loaded. To reload it, use:\n",
      "  %reload_ext autoreload\n"
     ]
    }
   ],
   "source": [
    "%load_ext autoreload\n",
    "%autoreload 2\n",
    "\n",
    "import numpy as np\n",
    "\n",
    "\n",
    "import sys\n",
    "sys.path.append('../utils/plotting/')\n",
    "sys.path.append('../utils/PD_tools/')\n",
    "sys.path.append('../utils/simulation/')\n",
    "sys.path.append('../utils/recalibration/')\n",
    "sys.path.append('../utils/preprocessing/')\n",
    "from plotting_utils import figSize\n",
    "from hmm import hmmviterbi_vonmises, hmmdecode_vonmises\n",
    "from hmm_utils import *\n",
    "from simulation import *\n",
    "from simulation_numba import simulateBCIFitts_numba\n",
    "from simulation_utils import * \n",
    "\n",
    "\n",
    "# for a reproducible result\n",
    "np.random.seed(1)"
   ]
  },
  {
   "cell_type": "code",
   "execution_count": 4,
   "metadata": {},
   "outputs": [],
   "source": [
    "from sklearn.linear_model import LinearRegression\n",
    "\n",
    "nUnits         = 192\n",
    "SNR            = 0.5\n",
    "nSimSteps      = 1000\n",
    "\n",
    "\n",
    "initialTuning  = generateUnits(n_units = nUnits, SNR = SNR)\n",
    "calVelocity    = np.random.normal(size = (10000, 2))\n",
    "calNeural      = calVelocity.dot(initialTuning[:,1:].T)  + initialTuning[:, 0].T;  # FR = <velocity, PD> + baseline\n",
    "calNeural      = calNeural + np.random.normal(size = calNeural.shape) * 0.3      # add gaussian noise\n",
    "\n",
    "lr             = LinearRegression(fit_intercept = True).fit(calNeural, calVelocity)\n",
    "D              = np.hstack([lr.intercept_[:, np.newaxis], lr.coef_]).T\n",
    "\n",
    "# Normalize the gain of this decoder so that it will output vectors with a magnitude of 1 when the encoded velocity has a magnitude of 1. \n",
    "D[:, 0] = D[:,0] / np.linalg.norm(D[1:, :][:, 0]) / np.linalg.norm(initialTuning[:, 1])\n",
    "D[:, 1] = D[:,1] / np.linalg.norm(D[1:, :][:, 1]) / np.linalg.norm(initialTuning[:, 2])"
   ]
  },
  {
   "cell_type": "code",
   "execution_count": 6,
   "metadata": {},
   "outputs": [
    {
     "name": "stdout",
     "output_type": "stream",
     "text": [
      "0 / 10\n"
     ]
    },
    {
     "name": "stderr",
     "output_type": "stream",
     "text": [
      "../utils/simulation\\simulation_numba.py:73: NumbaPerformanceWarning: \u001b[1m\u001b[1m\u001b[1mnp.dot() is faster on contiguous arrays, called on (array(float64, 2d, A), array(float64, 2d, C))\u001b[0m\u001b[0m\u001b[0m\n",
      "  for j in range(2):\n"
     ]
    },
    {
     "ename": "TypeError",
     "evalue": "cannot unpack non-iterable NoneType object",
     "output_type": "error",
     "traceback": [
      "\u001b[1;31m---------------------------------------------------------------------------\u001b[0m",
      "\u001b[1;31mTypeError\u001b[0m                                 Traceback (most recent call last)",
      "\u001b[1;32m<ipython-input-6-188c0390d060>\u001b[0m in \u001b[0;36m<module>\u001b[1;34m\u001b[0m\n\u001b[0;32m     13\u001b[0m \u001b[1;32mfor\u001b[0m \u001b[0mg\u001b[0m \u001b[1;32min\u001b[0m \u001b[0mrange\u001b[0m\u001b[1;33m(\u001b[0m\u001b[0mlen\u001b[0m\u001b[1;33m(\u001b[0m\u001b[0mpossibleGain\u001b[0m\u001b[1;33m)\u001b[0m\u001b[1;33m)\u001b[0m\u001b[1;33m:\u001b[0m\u001b[1;33m\u001b[0m\u001b[1;33m\u001b[0m\u001b[0m\n\u001b[0;32m     14\u001b[0m     \u001b[0mprint\u001b[0m\u001b[1;33m(\u001b[0m\u001b[0mstr\u001b[0m\u001b[1;33m(\u001b[0m\u001b[0mg\u001b[0m\u001b[1;33m)\u001b[0m \u001b[1;33m+\u001b[0m \u001b[1;34m' / '\u001b[0m \u001b[1;33m+\u001b[0m \u001b[0mstr\u001b[0m\u001b[1;33m(\u001b[0m\u001b[0mlen\u001b[0m\u001b[1;33m(\u001b[0m\u001b[0mpossibleGain\u001b[0m\u001b[1;33m)\u001b[0m\u001b[1;33m)\u001b[0m\u001b[1;33m)\u001b[0m\u001b[1;33m\u001b[0m\u001b[1;33m\u001b[0m\u001b[0m\n\u001b[1;32m---> 15\u001b[1;33m     \u001b[0mposTraj\u001b[0m\u001b[1;33m,\u001b[0m \u001b[0m_\u001b[0m\u001b[1;33m,\u001b[0m \u001b[0mvelTraj\u001b[0m\u001b[1;33m,\u001b[0m \u001b[0mrawDecTraj\u001b[0m\u001b[1;33m,\u001b[0m \u001b[0mconTraj\u001b[0m\u001b[1;33m,\u001b[0m \u001b[0mtargTraj\u001b[0m\u001b[1;33m,\u001b[0m \u001b[0mneuralTraj\u001b[0m\u001b[1;33m,\u001b[0m \u001b[0mtrialStart\u001b[0m\u001b[1;33m,\u001b[0m \u001b[0mttt\u001b[0m \u001b[1;33m=\u001b[0m \u001b[0msimulateBCIFitts_numba\u001b[0m\u001b[1;33m(\u001b[0m\u001b[0minitialTuning\u001b[0m\u001b[1;33m,\u001b[0m \u001b[0mD\u001b[0m\u001b[1;33m,\u001b[0m \u001b[0malpha\u001b[0m\u001b[1;33m,\u001b[0m \u001b[0mpossibleGain\u001b[0m\u001b[1;33m[\u001b[0m\u001b[0mg\u001b[0m\u001b[1;33m]\u001b[0m\u001b[1;33m,\u001b[0m \u001b[0mnDelaySteps\u001b[0m\u001b[1;33m,\u001b[0m \u001b[0mdelT\u001b[0m\u001b[1;33m,\u001b[0m \u001b[0mnSimSteps\u001b[0m\u001b[1;33m)\u001b[0m\u001b[1;33m\u001b[0m\u001b[1;33m\u001b[0m\u001b[0m\n\u001b[0m\u001b[0;32m     16\u001b[0m     \u001b[0mmeanTTT\u001b[0m\u001b[1;33m[\u001b[0m\u001b[0mg\u001b[0m\u001b[1;33m]\u001b[0m \u001b[1;33m=\u001b[0m \u001b[0mnp\u001b[0m\u001b[1;33m.\u001b[0m\u001b[0mmean\u001b[0m\u001b[1;33m(\u001b[0m\u001b[0mttt\u001b[0m\u001b[1;33m)\u001b[0m\u001b[1;33m\u001b[0m\u001b[1;33m\u001b[0m\u001b[0m\n\u001b[0;32m     17\u001b[0m \u001b[1;33m\u001b[0m\u001b[0m\n",
      "\u001b[1;31mTypeError\u001b[0m: cannot unpack non-iterable NoneType object"
     ]
    }
   ],
   "source": [
    "alpha       = 0.94 # amount of exponential smoothing (0.9 to 0.96 are reasonable)\n",
    "delT        = 0.01 # define the time step (10 ms)\n",
    "nDelaySteps = 20   # define the simulated user's visual feedback delay (200 ms)\n",
    "\n",
    "\n",
    "# Do a quick sweep of cursor gains to find the optimal one for this task:\n",
    "figSize(5,5)\n",
    "\n",
    "possibleGain = np.linspace(0.5,2.5,10)\n",
    "nSimSteps    = 50000\n",
    "meanTTT      = np.zeros((len(possibleGain),))\n",
    "\n",
    "for g in range(len(possibleGain)):\n",
    "    print(str(g) + ' / ' + str(len(possibleGain)))\n",
    "    posTraj, velTraj, rawDecTraj, conTraj, targTraj, neuralTraj, trialStart, ttt = simulateBCIFitts_numba(initialTuning, D, alpha, possibleGain[g], nDelaySteps, delT, nSimSteps)\n",
    "    meanTTT[g] = np.mean(ttt)\n",
    "\n",
    "plt.figure()\n",
    "plt.plot(possibleGain, meanTTT, '-o')\n",
    "plt.xlabel('Gain')\n",
    "plt.ylabel('Mean Trial Time (s)')\n",
    "\n",
    "minIdx = np.argmin(meanTTT)\n",
    "beta   = possibleGain[minIdx]\n",
    "\n",
    "print('Using gain value beta = ', beta)"
   ]
  },
  {
   "cell_type": "code",
   "execution_count": null,
   "metadata": {},
   "outputs": [],
   "source": [
    "_ = simulateBCIFitts_numba(initialTuning, D,alpha, beta, nDelaySteps, delT, 10, return_PosErr = False) "
   ]
  },
  {
   "cell_type": "code",
   "execution_count": null,
   "metadata": {},
   "outputs": [],
   "source": [
    "nSimSteps = 100000\n",
    "\n",
    "%timeit simulateBCIFitts(initialTuning, D,alpha, beta, nDelaySteps, delT, nSimSteps, no_matlab = True)  # python \n",
    "%timeit simulateBCIFitts_numba(initialTuning, D,alpha, beta, nDelaySteps, delT, nSimSteps, return_PosErr = False) "
   ]
  },
  {
   "cell_type": "code",
   "execution_count": null,
   "metadata": {},
   "outputs": [],
   "source": [
    "nSimSteps = 50000\n",
    "\n",
    "posTraj, posErr_estimate, velTraj, rawDecTraj, conTraj, targTraj, neuralTraj, trialStart, ttt = simulateBCIFitts_numba(initialTuning, D, alpha, beta, nDelaySteps, delT, nSimSteps)"
   ]
  },
  {
   "cell_type": "code",
   "execution_count": null,
   "metadata": {},
   "outputs": [],
   "source": [
    "figSize(5, 15)\n",
    "labels = ['x', 'y']\n",
    "\n",
    "plt.subplot(1, 3, 1)\n",
    "for i in range(2):\n",
    "    plt.plot(conTraj[:5000, i], label = labels[i])\n",
    "plt.title('Command signal')\n",
    "plt.legend()\n",
    "\n",
    "plt.subplot(1, 3, 2)\n",
    "for i in range(2):\n",
    "    plt.plot(rawDecTraj[:5000, i], label = labels[i])\n",
    "plt.title('Decoded signal (simulator)')\n",
    "plt.legend()\n",
    "\n",
    "plt.subplot(1, 3, 3)\n",
    "lrTraj = lr.predict(neuralTraj)\n",
    "for i in range(2):\n",
    "    plt.plot(lrTraj[:5000, i], label = labels[i])\n",
    "plt.title('Decoded signal (sklearn)')\n",
    "plt.legend()"
   ]
  },
  {
   "cell_type": "code",
   "execution_count": null,
   "metadata": {},
   "outputs": [],
   "source": [
    "figSize(5, 15)\n",
    "\n",
    "\n",
    "i      = 5  # starting trial index\n",
    "n_trls = 6  # number of consecutive trials to plot \n",
    "\n",
    "start = trialStart[i]\n",
    "stop  = trialStart[i + n_trls]\n",
    "\n",
    "\n",
    "plt.title('')\n",
    "plt.plot(posTraj[start:stop, :])\n",
    "for j in range(1, n_trls + 1):\n",
    "    plt.axvline(trialStart[i + j] - start,  color = 'k', linestyle = '--', alpha = 0.5)\n",
    "plt.legend(['Cursor x', 'Cursor Y', 'Trial starts'])\n",
    "plt.title('Cursor position across time', fontsize = 12)\n",
    "#plt.axvline()\n"
   ]
  },
  {
   "cell_type": "code",
   "execution_count": null,
   "metadata": {},
   "outputs": [],
   "source": [
    "figSize(7, 7)\n",
    "thresh          = 0.3   # only calculate SNR using points far from target\n",
    "cutStart        = 7     # exclude first <cutStart> timesteps\n",
    "\n",
    "for i in range(20):\n",
    "    start = int(trialStart[i])\n",
    "    stop  = int(trialStart[i+1] - 1)\n",
    "    \n",
    "    trlTraj          = posTraj[start:stop, :] \n",
    "    trlTraj_centered = trlTraj - posTraj[start, :]\n",
    "    trlTarg          = targTraj[start:stop, :]\n",
    "    \n",
    "    dists     = np.linalg.norm(trlTraj - targTraj[start, :], axis = 1)\n",
    "    too_close = np.where(dists < thresh)[0]\n",
    "    unused    = np.concatenate([np.arange(cutStart), too_close])\n",
    "    used      = np.setdiff1d(np.arange(len(dists)),unused)\n",
    "\n",
    "    _ = plt.scatter(trlTraj_centered[used, 0], trlTraj_centered[used, 1], color = 'b', alpha = 0.1)\n",
    "    _ = plt.scatter(trlTraj_centered[unused, 0], trlTraj_centered[unused, 1], color = 'k', alpha = 0.1)\n",
    "    \n",
    "plt.xlabel('X-pos (relative to start)')\n",
    "plt.ylabel('Y-pos (relative to start)')\n",
    "\n",
    "# Now calculate R^2 and SNR estimate for these subselected timepoints: \n",
    "cursorErr = targTraj - posTraj\n",
    "dists     = np.linalg.norm(cursorErr, axis = 1)\n",
    "lm        = LinearRegression().fit(neuralTraj, cursorErr)\n",
    "print('R2: ', lm.score(neuralTraj[dists > thresh, :], cursorErr[dists > thresh, :]))\n",
    "\n",
    "p_t       = cursorErr / dists[:, np.newaxis]  # unit vector pointing at target\n",
    "u_t       = lm.predict(neuralTraj)  \n",
    "ut_thresh = u_t[dists > thresh, :].flatten()[:, np.newaxis]\n",
    "pt_thresh =  p_t[dists > thresh, :].flatten()[:, np.newaxis]\n",
    "\n",
    "mult  = np.linalg.lstsq(pt_thresh, ut_thresh, rcond = None)[0][0][0]\n",
    "res   = ut_thresh - (pt_thresh * mult)\n",
    "\n",
    "print('SNR: ', mult / np.std(res))"
   ]
  },
  {
   "cell_type": "code",
   "execution_count": null,
   "metadata": {},
   "outputs": [],
   "source": []
  }
 ],
 "metadata": {
  "kernelspec": {
   "display_name": "Speech",
   "language": "python",
   "name": "speech"
  },
  "language_info": {
   "codemirror_mode": {
    "name": "ipython",
    "version": 3
   },
   "file_extension": ".py",
   "mimetype": "text/x-python",
   "name": "python",
   "nbconvert_exporter": "python",
   "pygments_lexer": "ipython3",
   "version": "3.7.7"
  }
 },
 "nbformat": 4,
 "nbformat_minor": 2
}
