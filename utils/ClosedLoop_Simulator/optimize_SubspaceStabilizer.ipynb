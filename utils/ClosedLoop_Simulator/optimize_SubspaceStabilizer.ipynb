{
 "cells": [
  {
   "cell_type": "code",
   "execution_count": 1,
   "metadata": {},
   "outputs": [],
   "source": [
    "%load_ext autoreload\n",
    "%autoreload 2\n",
    "\n",
    "import numpy as np\n",
    "import sys\n",
    "sys.path.append('../utils/plotting/')\n",
    "sys.path.append('../utils/recalibration/')\n",
    "sys.path.append('../utils/simulation/')\n",
    "from plotting_utils import figSize\n",
    "from hmm import hmmviterbi_vonmises, hmmdecode_vonmises\n",
    "from simulation import simulateBCIFitts\n",
    "from simulation_utils import * \n",
    "\n",
    "# for a reproducible result\n",
    "np.random.seed(1)"
   ]
  },
  {
   "cell_type": "markdown",
   "metadata": {},
   "source": [
    "#### Define an initial decoder and initial neural tuning properties (mean firing rates and preferred directions).\n"
   ]
  },
  {
   "cell_type": "code",
   "execution_count": 2,
   "metadata": {},
   "outputs": [],
   "source": [
    "from sklearn.linear_model import LinearRegression\n",
    "from simulation_utils import simulateUnitActivity\n",
    "\n",
    "'''The first column of initialTuning is the means, and the second two columns are the preferred directions. \n",
    "We make sure that the last two columns are orthogonal (uniformly distributed PDs)'''\n",
    "\n",
    "nUnits         = 192\n",
    "SNR            = 0.5\n",
    "nTrainingSteps = 10000\n",
    "\n",
    "initialTuning          = generateUnits(n_units = nUnits, SNR = SNR)\n",
    "initialTuning[:, 0]    = 0  # for now - assume features are centered \n",
    "calNeural, calVelocity = simulateUnitActivity(initialTuning, noise = 0.3, nSteps = nTrainingSteps)\n",
    "\n",
    "lr             = LinearRegression(fit_intercept = True).fit(calNeural, calVelocity)\n",
    "D              = np.hstack([lr.intercept_[:, np.newaxis], lr.coef_]).T\n",
    "\n",
    "# Normalize the gain of this decoder so that it will output vectors with a magnitude of 1 when the encoded velocity has a magnitude of 1. \n",
    "D[:, 0] = D[:,0] / np.linalg.norm(D[1:, :][:, 0]) / np.linalg.norm(initialTuning[:, 1])\n",
    "D[:, 1] = D[:,1] / np.linalg.norm(D[1:, :][:, 1]) / np.linalg.norm(initialTuning[:, 2])\n"
   ]
  },
  {
   "cell_type": "code",
   "execution_count": 3,
   "metadata": {},
   "outputs": [
    {
     "name": "stdout",
     "output_type": "stream",
     "text": [
      "0 / 10\n"
     ]
    },
    {
     "name": "stderr",
     "output_type": "stream",
     "text": [
      "../utils/simulation\\simulation.py:143: NumbaPerformanceWarning: \u001b[1m\u001b[1m\u001b[1mnp.dot() is faster on contiguous arrays, called on (array(float64, 2d, A), array(float64, 2d, C))\u001b[0m\u001b[0m\u001b[0m\n",
      "  simAct  = neuralTuning[:,1:].dot(currControl)\n",
      "../utils/simulation\\simulation.py:148: NumbaPerformanceWarning: \u001b[1m\u001b[1mnp.dot() is faster on contiguous arrays, called on (array(float64, 2d, A), array(float64, 2d, C))\u001b[0m\u001b[0m\n",
      "  rawDecVec = np.dot(D[1:,:].T, simAct)\n"
     ]
    },
    {
     "name": "stdout",
     "output_type": "stream",
     "text": [
      "1 / 10\n",
      "2 / 10\n",
      "3 / 10\n",
      "4 / 10\n",
      "5 / 10\n",
      "6 / 10\n",
      "7 / 10\n",
      "8 / 10\n",
      "9 / 10\n"
     ]
    }
   ],
   "source": [
    "'''Here we define the amount of exponential smoothing used in the decoder (alpha). Values between 0.9 and 0.96 are pretty reasonable. See the paper\n",
    "'A comparison of intention estimation methods for decoder calibration in intracortical brain-computer interfaces' for an explanation of how velocity Kalman \n",
    "filters can be parameterized with a smoothing parameter (alpha), gain parameter (beta, see next section below) and decoding matrix (D). '''\n",
    "\n",
    "alpha       = 0.94\n",
    "delT        = 0.01 # define the time step (10 ms)\n",
    "nDelaySteps = 20   # define the simulated user's visual feedback delay (200 ms)\n",
    "nSimSteps   = 50000\n",
    "\n",
    "possibleGain = np.linspace(0.5,2.5,10)\n",
    "meanTTT      = np.zeros((len(possibleGain),))\n",
    "\n",
    "for g in range(len(possibleGain)):\n",
    "    print(str(g) + ' / ' + str(len(possibleGain)))\n",
    "    posTraj, velTraj, rawDecTraj, conTraj, targTraj, neuralTraj, trialStart, ttt = simulateBCIFitts(initialTuning, D,alpha, possibleGain[g], nDelaySteps, delT, nSimSteps)\n",
    "    meanTTT[g] = np.mean(ttt)\n",
    "\n",
    "beta   = possibleGain[np.argmin(meanTTT)]"
   ]
  },
  {
   "cell_type": "markdown",
   "metadata": {},
   "source": [
    "### Do a sweep of subspace stabilizer hyperparameters\n",
    "\n",
    "Find optimal values for $d$ (latent dimensionality), $B$ (number of channels), and threshold."
   ]
  },
  {
   "cell_type": "code",
   "execution_count": 4,
   "metadata": {},
   "outputs": [
    {
     "name": "stdout",
     "output_type": "stream",
     "text": [
      "12.5 % complete.\n",
      "25.0 % complete.\n",
      "37.5 % complete.\n",
      "50.0 % complete.\n",
      "62.5 % complete.\n",
      "75.0 % complete.\n",
      "87.5 % complete.\n",
      "100.0 % complete.\n"
     ]
    }
   ],
   "source": [
    "from stabilizer_utils import Stabilizer, get_FactorAnalysisMap\n",
    "\n",
    "# general settings:\n",
    "nSimSteps   = 10000\n",
    "alpha       = 0.94   # exponential smoothing\n",
    "beta        = 1.16   # gain\n",
    "delT        = 0.01   # define the time step (10 ms)\n",
    "nDelaySteps = 20     # define the simulated user's visual feedback delay (200 ms)\n",
    "shrinkage   = 0.92\n",
    "\n",
    "# subspace stabilizer settings:\n",
    "model_type  = 'FactorAnalysis'\n",
    "\n",
    "# grid search settings:\n",
    "d_sweep      = np.arange(2, 10)\n",
    "B_sweep      = np.arange(10, 101, 10)\n",
    "thresh_sweep = np.linspace(0.01, 0.10, 10)\n",
    "\n",
    "\n",
    "#--------------------------------------------------\n",
    "sweep_scores = np.zeros((len(d_sweep), len(B_sweep), len(thresh_sweep), 3))  # last axis: fully calibrated, nonstationarity, post-stabilization \n",
    "newTuning    = simulateTuningShift(initialTuning, PD_shrinkage = shrinkage)   \n",
    "\n",
    "for i, d in enumerate(d_sweep):\n",
    "    stab  = Stabilizer(model_type = model_type, n_components = d)\n",
    "    stab.fit_ref([calNeural])\n",
    "\n",
    "    Q_ref        = get_FactorAnalysisMap(stab.ref_model)\n",
    "    calLatent    = (calNeural - calNeural.mean(axis = 0)).dot(Q_ref)\n",
    "    lr           = LinearRegression(fit_intercept = True).fit(calLatent, calVelocity)\n",
    "\n",
    "    h      = lr.coef_                                             # map from latent space onto targets\n",
    "    D_coef = h.dot(Q_ref.T)                                         # compose to get neural --> latent --> output \n",
    "    D      = np.hstack([lr.intercept_[:, np.newaxis], D_coef]).T  # add bias terms\n",
    "\n",
    "    # Normalize the gain of this decoder so that it will output vectors with a magnitude of 1 when the encoded velocity has a magnitude of 1. \n",
    "    D[:, 0] = D[:,0] / np.linalg.norm(D[1:, :][:, 0]) / np.linalg.norm(initialTuning[:, 1])\n",
    "    D[:, 1] = D[:,1] / np.linalg.norm(D[1:, :][:, 1]) / np.linalg.norm(initialTuning[:, 2])\n",
    "    \n",
    "   \n",
    "    cursorPos, _, decOut, _, targTraj, neural_ref, _, ttt   = simulateBCIFitts(initialTuning, D, alpha, beta, nDelaySteps, delT, nSimSteps) # Simulate BCI performance with matched neural tuning and decoder, and an optimized gain\n",
    "    #print('Performance with original decoder: ' , np.mean(ttt))\n",
    "    sweep_scores[i, :, :, 0] = np.mean(ttt)\n",
    "\n",
    "    cursorPos, _, decOut, _, targTraj, neural_new, _, ttt_new  = simulateBCIFitts(newTuning, D, alpha, beta, nDelaySteps, delT, nSimSteps)   # simulate performnance with old decoder\n",
    "    #print('Performance with nonstationarity: ', np.mean(ttt_new))\n",
    "    sweep_scores[i, :, :, 1] = np.mean(ttt_new)\n",
    "\n",
    "    for j, B in enumerate(B_sweep):\n",
    "        for k, thresh in enumerate(thresh_sweep):\n",
    "            \n",
    "            stab.fit_new([neural_new], B = B, thresh = thresh)\n",
    "            G_new      = get_FactorAnalysisMap(stab.new_model)\n",
    "            D_coefnew  = h.dot(G_new.dot(stab.R).T)                                # compose to get neural --> latent --> output \n",
    "            D_new      = np.hstack([lr.intercept_[:, np.newaxis], D_coefnew]).T    # add bias terms\n",
    "            decVec_new = np.hstack([np.ones((neural_new.shape[0], 1)), neural_new]).dot(D_new)\n",
    "\n",
    "            #Important: normalize the decoder so that D_new decoders vectors of magnitude 1 when far from the target. \n",
    "            #This will restore the original optimal gain.\n",
    "            PosErr   = targTraj - cursorPos\n",
    "            TargDist = np.linalg.norm(PosErr, axis = 1)\n",
    "            TargDir  = PosErr / TargDist[:, np.newaxis]\n",
    "            farIdx   = np.where(TargDist > 0.4)[0]\n",
    "            projVec  = np.sum(np.multiply(decVec_new[farIdx, :], TargDir[farIdx, :]), axis = 1)\n",
    "            D_new   /= np.mean(projVec)\n",
    "\n",
    "        \n",
    "            ttt_recal                = simulateBCIFitts(newTuning, D_new, alpha, beta, nDelaySteps, delT, nSimSteps)[-1] #Simulate BCI performance with the HMM-recalibrated decoder\n",
    "            sweep_scores[i, j, k, 2] = np.mean(ttt_recal)\n",
    "        \n",
    "    print(np.round((i + 1) * 100 / len(d_sweep), 2), '% complete.')\n",
    "    "
   ]
  },
  {
   "cell_type": "code",
   "execution_count": 143,
   "metadata": {},
   "outputs": [
    {
     "data": {
      "text/plain": [
       "Text(0.5, 0.98, 'Average time to target following nonstationarity + stabilization')"
      ]
     },
     "execution_count": 143,
     "metadata": {},
     "output_type": "execute_result"
    },
    {
     "data": {
      "image/png": "[encoded data removed]",
      "text/plain": [
       "<Figure size 1440x432 with 6 Axes>"
      ]
     },
     "metadata": {
      "needs_background": "light"
     },
     "output_type": "display_data"
    }
   ],
   "source": [
    "plt_scores = sweep_scores[:, :, :, 2]\n",
    "\n",
    "arg_d, arg_B, arg_thresh = np.unravel_index(np.argmin(plt_scores), plt_scores.shape)\n",
    "\n",
    "\n",
    "figSize(6, 20)\n",
    "plt.subplot(1, 3, 1)\n",
    "plt.imshow(plt_scores[arg_d, :, :], aspect = 'auto')\n",
    "plt.title('Fixed dimensionality = ' + str(d_sweep[arg_d]) + ' (best)')\n",
    "plt.ylabel('Threshold')\n",
    "plt.yticks(np.arange(len(thresh_sweep)), np.round(thresh_sweep, 3))\n",
    "plt.xlabel('B')\n",
    "plt.xticks(np.arange(len(B_sweep)), B_sweep)\n",
    "plt.colorbar()\n",
    "\n",
    "plt.subplot(1, 3, 2)\n",
    "plt.imshow(plt_scores[:, arg_B, :], aspect = 'auto')\n",
    "plt.title('Fixed B = ' + str(B_sweep[arg_B]) + ' (best)')\n",
    "plt.xlabel('Threshold')\n",
    "plt.xticks(np.arange(len(thresh_sweep)), np.round(thresh_sweep, 3))\n",
    "plt.ylabel('Dimensionality')\n",
    "plt.yticks(np.arange(len(d_sweep)), d_sweep)\n",
    "plt.colorbar()\n",
    "\n",
    "plt.subplot(1, 3, 3)\n",
    "plt.imshow(plt_scores[:, :, arg_thresh], aspect = 'auto')\n",
    "plt.title('Fixed threshold = ' + str(np.round(thresh_sweep[arg_thresh], 3)) + ' (best)')\n",
    "plt.xlabel('B')\n",
    "plt.xticks(np.arange(len(B_sweep)), B_sweep)\n",
    "plt.ylabel('Dimensionality')\n",
    "plt.yticks(np.arange(len(d_sweep)), d_sweep)\n",
    "plt.colorbar()\n",
    "\n",
    "plt.suptitle('Average time to target following nonstationarity + stabilization', fontweight = 'bold')"
   ]
  },
  {
   "cell_type": "code",
   "execution_count": 135,
   "metadata": {},
   "outputs": [
    {
     "data": {
      "text/plain": [
       "array([1.20902439, 2.22431818, 1.21950617])"
      ]
     },
     "execution_count": 135,
     "metadata": {},
     "output_type": "execute_result"
    }
   ],
   "source": [
    "sweep_scores[arg_d, arg_B, arg_thresh, :]"
   ]
  },
  {
   "cell_type": "code",
   "execution_count": null,
   "metadata": {},
   "outputs": [],
   "source": []
  },
  {
   "cell_type": "code",
   "execution_count": null,
   "metadata": {},
   "outputs": [],
   "source": []
  }
 ],
 "metadata": {
  "kernelspec": {
   "display_name": "Nonstationarities",
   "language": "python",
   "name": "nonstationarities"
  },
  "language_info": {
   "codemirror_mode": {
    "name": "ipython",
    "version": 3
   },
   "file_extension": ".py",
   "mimetype": "text/x-python",
   "name": "python",
   "nbconvert_exporter": "python",
   "pygments_lexer": "ipython3",
   "version": "3.9.4"
  }
 },
 "nbformat": 4,
 "nbformat_minor": 4
}
